{
 "cells": [
  {
   "cell_type": "markdown",
   "metadata": {},
   "source": [
    "# Librerias"
   ]
  },
  {
   "cell_type": "code",
   "execution_count": 1,
   "metadata": {},
   "outputs": [],
   "source": [
    "import pandas as pd\n",
    "import numpy as np"
   ]
  },
  {
   "cell_type": "code",
   "execution_count": 2,
   "metadata": {},
   "outputs": [],
   "source": [
    "from datetime import datetime, timedelta\n",
    "\n",
    "import matplotlib.pyplot as plt\n",
    "import seaborn as sns\n",
    "pd.set_option('display.max_columns',None)\n",
    "import warnings\n",
    "warnings.filterwarnings(\"ignore\")"
   ]
  },
  {
   "cell_type": "code",
   "execution_count": 3,
   "metadata": {},
   "outputs": [],
   "source": [
    "from sklearn.preprocessing import StandardScaler , OrdinalEncoder, LabelEncoder"
   ]
  },
  {
   "cell_type": "markdown",
   "metadata": {},
   "source": [
    "# Funciones"
   ]
  },
  {
   "cell_type": "markdown",
   "metadata": {},
   "source": [
    "# Importar Bases de Datos"
   ]
  },
  {
   "cell_type": "code",
   "execution_count": 16,
   "metadata": {},
   "outputs": [],
   "source": [
    "calendario = pd.read_csv(\"data/daily_calendar_with_events.csv\")\n",
    "precios = pd.read_csv(\"data/item_prices.csv\")\n",
    "ventas = pd.read_csv(\"data/item_sales.csv\")"
   ]
  },
  {
   "cell_type": "markdown",
   "metadata": {},
   "source": [
    "# Preproccesing"
   ]
  },
  {
   "cell_type": "markdown",
   "metadata": {},
   "source": [
    "## Tabla Ventas Modificada"
   ]
  },
  {
   "cell_type": "code",
   "execution_count": 19,
   "metadata": {},
   "outputs": [
    {
     "name": "stdout",
     "output_type": "stream",
     "text": [
      "Sin nulos\n",
      "Numero de filas duplicadas:  0\n",
      "Suma de ventas totales:  65695409\n",
      "Observaciones con ventas 0:  40630814\n",
      "Numero de id unicos 30490\n",
      "Numero de item unicos 3049\n",
      "Numero de category unicos 3\n",
      "Numero de department unicos 7\n",
      "Numero de store unicos 10\n",
      "Numero de store_code unicos 10\n",
      "Numero de region unicos 3\n",
      "Dimensiones DF tratado:  (59181090, 9)\n"
     ]
    }
   ],
   "source": [
    "ultimodia=int(str(ventas.columns.to_list()[-1]).split(\"_\")[1]) # buscamos el ultimo dia (ultima columna del DF)\n",
    "lista=[ultimodia+x for x in range(1,29)] # creamos una lista con los siguientes 28 dias\n",
    "\n",
    "for i in lista:\n",
    "    colname=\"d_\"+str(i)\n",
    "    ventas[colname]=0 #creamos una columna por cada dia adicional con ventas 0.\n",
    "\n",
    "idlist=[]\n",
    "LE=LabelEncoder()\n",
    "iditem =LE.fit(ventas[\"item\"])\n",
    "idlist.append({l: i for (i, l) in enumerate(iditem.classes_)})\n",
    "idcat =LE.fit(ventas[\"category\"])\n",
    "idlist.append( {l: i for (i, l) in enumerate(idcat.classes_)})\n",
    "iddep = LE.fit(ventas[\"department\"])\n",
    "idlist.append({l: i for (i, l) in enumerate(iddep.classes_)})\n",
    "idsto =LE.fit(ventas[\"store\"])\n",
    "idlist.append({l: i for (i, l) in enumerate(idsto.classes_)})\n",
    "idstocode =LE.fit(ventas[\"store_code\"])\n",
    "idlist.append({l: i for (i, l) in enumerate(idstocode.classes_)})\n",
    "idreg =LE.fit(ventas[\"region\"])\n",
    "idlist.append({l: i for (i, l) in enumerate(idreg.classes_)})\n",
    "\n",
    "for i in zip(ventas.columns[1:7].tolist(),idlist):\n",
    "    \n",
    "    ventas[i[0]]= ventas[i[0]].replace(i[1]).astype(int)\n",
    "\n",
    "\n",
    "ventasmelt=ventas.melt(id_vars=ventas.columns[:7],value_vars=ventas.columns[7:],var_name=\"d\",value_name=\"Cantidad\") #Transformacion de BD, dias por Fila\n",
    "\n",
    "#verificamos nulos\n",
    "if len(ventasmelt.isnull().sum()[ventasmelt.isnull().sum() > 0]) ==0:\n",
    "    print(\"Sin nulos\")\n",
    "else:\n",
    "    print(\"Columnas con nulos: \", ventasmelt.isnull().sum()[ventasmelt.isnull().sum() > 0])\n",
    "\n",
    "#verificamos filas duplicadas, las eliminamos y reseteamos el indice\n",
    "print(\"Numero de filas duplicadas: \",len(ventasmelt[ventasmelt.duplicated(keep=False)]))\n",
    "ventasmelt.drop_duplicates(inplace=True)\n",
    "ventasmelt.reset_index(drop=True,inplace=True)\n",
    "\n",
    "print(\"Suma de ventas totales: \",ventasmelt[\"Cantidad\"].sum())\n",
    "print(\"Observaciones con ventas 0: \",len(ventasmelt[ventasmelt[\"Cantidad\"]==0].index))\n",
    "\n",
    "for i in ventasmelt:\n",
    "    if i !=\"Cantidad\" and i !=\"d\" :\n",
    "        print(f\"Numero de {i} unicos\",ventasmelt[i].nunique())\n",
    "\n",
    "print(\"Dimensiones DF tratado: \",ventasmelt.shape)\n"
   ]
  },
  {
   "cell_type": "code",
   "execution_count": 20,
   "metadata": {},
   "outputs": [],
   "source": [
    "ventas=ventasmelt.copy()"
   ]
  },
  {
   "cell_type": "code",
   "execution_count": 21,
   "metadata": {},
   "outputs": [
    {
     "name": "stdout",
     "output_type": "stream",
     "text": [
      "<class 'pandas.core.frame.DataFrame'>\n",
      "RangeIndex: 59181090 entries, 0 to 59181089\n",
      "Data columns (total 9 columns):\n",
      " #   Column      Dtype \n",
      "---  ------      ----- \n",
      " 0   id          object\n",
      " 1   item        int32 \n",
      " 2   category    int32 \n",
      " 3   department  int32 \n",
      " 4   store       int32 \n",
      " 5   store_code  int32 \n",
      " 6   region      int32 \n",
      " 7   d           object\n",
      " 8   Cantidad    int64 \n",
      "dtypes: int32(6), int64(1), object(2)\n",
      "memory usage: 2.6+ GB\n"
     ]
    }
   ],
   "source": [
    "ventas.info()"
   ]
  },
  {
   "cell_type": "code",
   "execution_count": 22,
   "metadata": {},
   "outputs": [
    {
     "data": {
      "text/html": [
       "<div>\n",
       "<style scoped>\n",
       "    .dataframe tbody tr th:only-of-type {\n",
       "        vertical-align: middle;\n",
       "    }\n",
       "\n",
       "    .dataframe tbody tr th {\n",
       "        vertical-align: top;\n",
       "    }\n",
       "\n",
       "    .dataframe thead th {\n",
       "        text-align: right;\n",
       "    }\n",
       "</style>\n",
       "<table border=\"1\" class=\"dataframe\">\n",
       "  <thead>\n",
       "    <tr style=\"text-align: right;\">\n",
       "      <th></th>\n",
       "      <th>id</th>\n",
       "      <th>item</th>\n",
       "      <th>category</th>\n",
       "      <th>department</th>\n",
       "      <th>store</th>\n",
       "      <th>store_code</th>\n",
       "      <th>region</th>\n",
       "      <th>d</th>\n",
       "      <th>Cantidad</th>\n",
       "    </tr>\n",
       "  </thead>\n",
       "  <tbody>\n",
       "    <tr>\n",
       "      <th>0</th>\n",
       "      <td>ACCESORIES_1_001_NYC_1</td>\n",
       "      <td>0</td>\n",
       "      <td>0</td>\n",
       "      <td>0</td>\n",
       "      <td>2</td>\n",
       "      <td>3</td>\n",
       "      <td>1</td>\n",
       "      <td>d_1</td>\n",
       "      <td>0</td>\n",
       "    </tr>\n",
       "    <tr>\n",
       "      <th>1</th>\n",
       "      <td>ACCESORIES_1_002_NYC_1</td>\n",
       "      <td>1</td>\n",
       "      <td>0</td>\n",
       "      <td>0</td>\n",
       "      <td>2</td>\n",
       "      <td>3</td>\n",
       "      <td>1</td>\n",
       "      <td>d_1</td>\n",
       "      <td>0</td>\n",
       "    </tr>\n",
       "    <tr>\n",
       "      <th>2</th>\n",
       "      <td>ACCESORIES_1_003_NYC_1</td>\n",
       "      <td>2</td>\n",
       "      <td>0</td>\n",
       "      <td>0</td>\n",
       "      <td>2</td>\n",
       "      <td>3</td>\n",
       "      <td>1</td>\n",
       "      <td>d_1</td>\n",
       "      <td>0</td>\n",
       "    </tr>\n",
       "    <tr>\n",
       "      <th>3</th>\n",
       "      <td>ACCESORIES_1_004_NYC_1</td>\n",
       "      <td>3</td>\n",
       "      <td>0</td>\n",
       "      <td>0</td>\n",
       "      <td>2</td>\n",
       "      <td>3</td>\n",
       "      <td>1</td>\n",
       "      <td>d_1</td>\n",
       "      <td>0</td>\n",
       "    </tr>\n",
       "    <tr>\n",
       "      <th>4</th>\n",
       "      <td>ACCESORIES_1_005_NYC_1</td>\n",
       "      <td>4</td>\n",
       "      <td>0</td>\n",
       "      <td>0</td>\n",
       "      <td>2</td>\n",
       "      <td>3</td>\n",
       "      <td>1</td>\n",
       "      <td>d_1</td>\n",
       "      <td>0</td>\n",
       "    </tr>\n",
       "  </tbody>\n",
       "</table>\n",
       "</div>"
      ],
      "text/plain": [
       "                       id  item  category  department  store  store_code  \\\n",
       "0  ACCESORIES_1_001_NYC_1     0         0           0      2           3   \n",
       "1  ACCESORIES_1_002_NYC_1     1         0           0      2           3   \n",
       "2  ACCESORIES_1_003_NYC_1     2         0           0      2           3   \n",
       "3  ACCESORIES_1_004_NYC_1     3         0           0      2           3   \n",
       "4  ACCESORIES_1_005_NYC_1     4         0           0      2           3   \n",
       "\n",
       "   region    d  Cantidad  \n",
       "0       1  d_1         0  \n",
       "1       1  d_1         0  \n",
       "2       1  d_1         0  \n",
       "3       1  d_1         0  \n",
       "4       1  d_1         0  "
      ]
     },
     "execution_count": 22,
     "metadata": {},
     "output_type": "execute_result"
    }
   ],
   "source": [
    "ventas.head()"
   ]
  },
  {
   "cell_type": "markdown",
   "metadata": {},
   "source": [
    "## Tabla Calendario Modificada"
   ]
  },
  {
   "cell_type": "code",
   "execution_count": 23,
   "metadata": {},
   "outputs": [
    {
     "name": "stdout",
     "output_type": "stream",
     "text": [
      "<class 'pandas.core.frame.DataFrame'>\n",
      "RangeIndex: 1913 entries, 0 to 1912\n",
      "Data columns (total 5 columns):\n",
      " #   Column       Non-Null Count  Dtype \n",
      "---  ------       --------------  ----- \n",
      " 0   date         1913 non-null   object\n",
      " 1   weekday      1913 non-null   object\n",
      " 2   weekday_int  1913 non-null   int64 \n",
      " 3   d            1913 non-null   object\n",
      " 4   event        26 non-null     object\n",
      "dtypes: int64(1), object(4)\n",
      "memory usage: 74.9+ KB\n"
     ]
    }
   ],
   "source": [
    "calendario.info()"
   ]
  },
  {
   "cell_type": "code",
   "execution_count": 24,
   "metadata": {},
   "outputs": [],
   "source": [
    "calendario[\"date\"]=pd.to_datetime(calendario[\"date\"]) # formato fecha en columna date"
   ]
  },
  {
   "cell_type": "code",
   "execution_count": 25,
   "metadata": {},
   "outputs": [],
   "source": [
    "calendario.sort_values([\"date\"], ascending = True, inplace = True)"
   ]
  },
  {
   "cell_type": "code",
   "execution_count": 26,
   "metadata": {},
   "outputs": [
    {
     "name": "stdout",
     "output_type": "stream",
     "text": [
      "Dimensiones DF original:  (1913, 5)\n",
      "Columnas con nulos:  weekday_int      28\n",
      "event          1915\n",
      "dtype: int64\n",
      "Numero de filas duplicadas:  0\n",
      "Columnas con nulos:  weekday_int    28\n",
      "dtype: int64\n",
      "Numero de filas duplicadas:  0\n",
      "Dimensiones DF tratado:  (1941, 8)\n"
     ]
    }
   ],
   "source": [
    "print(\"Dimensiones DF original: \",calendario.shape)\n",
    "\n",
    "#agregamos los ultimos 28 dias a proyectar\n",
    "date_offset = pd.DateOffset(days=1)\n",
    "ultimafila=calendario.iloc[-1:]\n",
    "for dia in lista:\n",
    "    new_row = ultimafila.copy()\n",
    "    new_row['d'] = \"d_\"+str(1914)\n",
    "    new_row['date'] = ultimafila[\"date\"]+date_offset\n",
    "    new_row['weekday']=new_row['date'].dt.day_name()\n",
    "    new_row['weekday_int']=np.nan\n",
    "    new_row['event']=np.nan\n",
    "    ultimafila=new_row.copy()\n",
    "    calendario = calendario.append(new_row, ignore_index=True)\n",
    "\n",
    "\n",
    "#verificamos nulos\n",
    "if len(calendario.isnull().sum()[calendario.isnull().sum() > 0]) ==0:\n",
    "    print(\"Sin nulos\")\n",
    "else:\n",
    "    print(\"Columnas con nulos: \", calendario.isnull().sum()[calendario.isnull().sum() > 0])\n",
    "\n",
    "#verificamos filas duplicadas, las eliminamos y reseteamos el indice\n",
    "print(\"Numero de filas duplicadas: \",len(calendario[calendario.duplicated(keep=False)]))\n",
    "calendario.drop_duplicates(inplace=True)\n",
    "calendario.reset_index(drop=True,inplace=True)\n",
    "\n",
    "calendario[\"date\"]=pd.to_datetime(calendario[\"date\"]) # formato fecha en columna date\n",
    "\n",
    "# calendario['week'] = calendario['date'].dt.isocalendar().week\n",
    "# calendario['day'] = calendario['date'].dt.day\n",
    "# calendario['month'] = calendario['date'].dt.month\n",
    "calendario['year'] = calendario['date'].dt.year\n",
    "\n",
    "# concatena semana y año en un string, agregando el 0 a semanas del 1 al 9\n",
    "calendario['week'] = calendario['date'].dt.isocalendar().week.astype(str)\n",
    "for i in range(len(calendario)):\n",
    "    if int(calendario.loc[i,'week']) < 10:\n",
    "        calendario.loc[i,'week'] = '0'+calendario.loc[i,'week']\n",
    "calendario['year'] = calendario['date'].dt.isocalendar().year\n",
    "calendario['yearweek']=calendario['year'].astype(str)+calendario['week']\n",
    "\n",
    "#rellenamos nulos con 0 y pasamos dias con eventos a 1.\n",
    "calendario[\"event\"]=np.where(calendario[\"event\"].isnull(),0,1)\n",
    "\n",
    "#verificamos nulos\n",
    "if len(calendario.isnull().sum()[calendario.isnull().sum() > 0]) ==0:\n",
    "    print(\"Sin nulos\")\n",
    "else:\n",
    "    print(\"Columnas con nulos: \", calendario.isnull().sum()[calendario.isnull().sum() > 0])\n",
    "\n",
    "print(\"Numero de filas duplicadas: \",len(calendario[calendario.duplicated(keep=False)]))\n",
    "\n",
    "print(\"Dimensiones DF tratado: \",calendario.shape)"
   ]
  },
  {
   "cell_type": "code",
   "execution_count": 27,
   "metadata": {},
   "outputs": [
    {
     "name": "stdout",
     "output_type": "stream",
     "text": [
      "<class 'pandas.core.frame.DataFrame'>\n",
      "RangeIndex: 1941 entries, 0 to 1940\n",
      "Data columns (total 8 columns):\n",
      " #   Column       Non-Null Count  Dtype         \n",
      "---  ------       --------------  -----         \n",
      " 0   date         1941 non-null   datetime64[ns]\n",
      " 1   weekday      1941 non-null   object        \n",
      " 2   weekday_int  1913 non-null   float64       \n",
      " 3   d            1941 non-null   object        \n",
      " 4   event        1941 non-null   int32         \n",
      " 5   year         1941 non-null   UInt32        \n",
      " 6   week         1941 non-null   object        \n",
      " 7   yearweek     1941 non-null   object        \n",
      "dtypes: UInt32(1), datetime64[ns](1), float64(1), int32(1), object(4)\n",
      "memory usage: 108.2+ KB\n"
     ]
    }
   ],
   "source": [
    "calendario.info()"
   ]
  },
  {
   "cell_type": "code",
   "execution_count": 29,
   "metadata": {},
   "outputs": [
    {
     "data": {
      "text/html": [
       "<div>\n",
       "<style scoped>\n",
       "    .dataframe tbody tr th:only-of-type {\n",
       "        vertical-align: middle;\n",
       "    }\n",
       "\n",
       "    .dataframe tbody tr th {\n",
       "        vertical-align: top;\n",
       "    }\n",
       "\n",
       "    .dataframe thead th {\n",
       "        text-align: right;\n",
       "    }\n",
       "</style>\n",
       "<table border=\"1\" class=\"dataframe\">\n",
       "  <thead>\n",
       "    <tr style=\"text-align: right;\">\n",
       "      <th></th>\n",
       "      <th>date</th>\n",
       "      <th>weekday</th>\n",
       "      <th>weekday_int</th>\n",
       "      <th>d</th>\n",
       "      <th>event</th>\n",
       "      <th>year</th>\n",
       "      <th>week</th>\n",
       "      <th>yearweek</th>\n",
       "    </tr>\n",
       "  </thead>\n",
       "  <tbody>\n",
       "    <tr>\n",
       "      <th>0</th>\n",
       "      <td>2011-01-29</td>\n",
       "      <td>Saturday</td>\n",
       "      <td>1.0</td>\n",
       "      <td>d_1</td>\n",
       "      <td>0</td>\n",
       "      <td>2011</td>\n",
       "      <td>04</td>\n",
       "      <td>201104</td>\n",
       "    </tr>\n",
       "    <tr>\n",
       "      <th>1</th>\n",
       "      <td>2011-01-30</td>\n",
       "      <td>Sunday</td>\n",
       "      <td>2.0</td>\n",
       "      <td>d_2</td>\n",
       "      <td>0</td>\n",
       "      <td>2011</td>\n",
       "      <td>04</td>\n",
       "      <td>201104</td>\n",
       "    </tr>\n",
       "    <tr>\n",
       "      <th>2</th>\n",
       "      <td>2011-01-31</td>\n",
       "      <td>Monday</td>\n",
       "      <td>3.0</td>\n",
       "      <td>d_3</td>\n",
       "      <td>0</td>\n",
       "      <td>2011</td>\n",
       "      <td>05</td>\n",
       "      <td>201105</td>\n",
       "    </tr>\n",
       "    <tr>\n",
       "      <th>3</th>\n",
       "      <td>2011-02-01</td>\n",
       "      <td>Tuesday</td>\n",
       "      <td>4.0</td>\n",
       "      <td>d_4</td>\n",
       "      <td>0</td>\n",
       "      <td>2011</td>\n",
       "      <td>05</td>\n",
       "      <td>201105</td>\n",
       "    </tr>\n",
       "    <tr>\n",
       "      <th>4</th>\n",
       "      <td>2011-02-02</td>\n",
       "      <td>Wednesday</td>\n",
       "      <td>5.0</td>\n",
       "      <td>d_5</td>\n",
       "      <td>0</td>\n",
       "      <td>2011</td>\n",
       "      <td>05</td>\n",
       "      <td>201105</td>\n",
       "    </tr>\n",
       "  </tbody>\n",
       "</table>\n",
       "</div>"
      ],
      "text/plain": [
       "        date    weekday  weekday_int    d  event  year week yearweek\n",
       "0 2011-01-29   Saturday          1.0  d_1      0  2011   04   201104\n",
       "1 2011-01-30     Sunday          2.0  d_2      0  2011   04   201104\n",
       "2 2011-01-31     Monday          3.0  d_3      0  2011   05   201105\n",
       "3 2011-02-01    Tuesday          4.0  d_4      0  2011   05   201105\n",
       "4 2011-02-02  Wednesday          5.0  d_5      0  2011   05   201105"
      ]
     },
     "execution_count": 29,
     "metadata": {},
     "output_type": "execute_result"
    }
   ],
   "source": [
    "calendario.head()"
   ]
  },
  {
   "cell_type": "markdown",
   "metadata": {},
   "source": [
    "## Tabla Precios Modificada"
   ]
  },
  {
   "cell_type": "code",
   "execution_count": 52,
   "metadata": {},
   "outputs": [
    {
     "name": "stdout",
     "output_type": "stream",
     "text": [
      "Dimensiones DF original:  (6965706, 5)\n",
      "Columnas con nulos:  yearweek    243920\n",
      "dtype: int64\n",
      "Numero de filas duplicadas:  243495\n",
      "Columnas con nulos:  yearweek    31800\n",
      "dtype: int64\n",
      "Dimensiones DF tratado:  (6753586, 6)\n"
     ]
    }
   ],
   "source": [
    "print(\"Dimensiones DF original: \",precios.shape)\n",
    "\n",
    "precios[\"id\"]=precios[\"item\"]+\"_\"+precios[\"store_code\"] # crea id coditem+codstore\n",
    "\n",
    "\n",
    "\n",
    "#verificamos nulos\n",
    "if len(precios.isnull().sum()[precios.isnull().sum() > 0]) ==0:\n",
    "    print(\"Sin nulos\")\n",
    "else:\n",
    "    print(\"Columnas con nulos: \", precios.isnull().sum()[precios.isnull().sum() > 0])\n",
    "\n",
    "#verificamos filas duplicadas, las eliminamos y reseteamos el indice\n",
    "print(\"Numero de filas duplicadas: \",len(precios[precios.duplicated(keep=False)]))\n",
    "precios.drop_duplicates(inplace=True)\n",
    "precios.reset_index(drop=True,inplace=True)\n",
    "\n",
    "#verificamos nulos\n",
    "if len(precios.isnull().sum()[precios.isnull().sum() > 0]) ==0:\n",
    "    print(\"Sin nulos\")\n",
    "else:\n",
    "    print(\"Columnas con nulos: \", precios.isnull().sum()[precios.isnull().sum() > 0])\n",
    "\n",
    "precios[\"yearweek\"]=precios[\"yearweek\"].astype(str)\n",
    "precios[\"yearweek\"]=precios[\"yearweek\"].str.slice(stop=6) # quita .0 del string\n",
    "# precios[\"year\"]=precios[\"yearweek\"].str.slice(stop=4) # crea columna con año\n",
    "# precios[\"semana\"]=precios[\"yearweek\"].str.slice(start=4,stop=6) # crea columna con semana\n",
    "\n",
    "\n",
    "\n",
    "\n",
    "\n",
    "print(\"Dimensiones DF tratado: \",precios.shape)"
   ]
  },
  {
   "cell_type": "code",
   "execution_count": 53,
   "metadata": {},
   "outputs": [
    {
     "name": "stdout",
     "output_type": "stream",
     "text": [
      "<class 'pandas.core.frame.DataFrame'>\n",
      "RangeIndex: 6753586 entries, 0 to 6753585\n",
      "Data columns (total 6 columns):\n",
      " #   Column      Dtype  \n",
      "---  ------      -----  \n",
      " 0   item        object \n",
      " 1   category    object \n",
      " 2   store_code  object \n",
      " 3   yearweek    object \n",
      " 4   sell_price  float64\n",
      " 5   id          object \n",
      "dtypes: float64(1), object(5)\n",
      "memory usage: 309.2+ MB\n"
     ]
    }
   ],
   "source": [
    "precios.info()"
   ]
  },
  {
   "cell_type": "code",
   "execution_count": 54,
   "metadata": {},
   "outputs": [
    {
     "data": {
      "text/html": [
       "<div>\n",
       "<style scoped>\n",
       "    .dataframe tbody tr th:only-of-type {\n",
       "        vertical-align: middle;\n",
       "    }\n",
       "\n",
       "    .dataframe tbody tr th {\n",
       "        vertical-align: top;\n",
       "    }\n",
       "\n",
       "    .dataframe thead th {\n",
       "        text-align: right;\n",
       "    }\n",
       "</style>\n",
       "<table border=\"1\" class=\"dataframe\">\n",
       "  <thead>\n",
       "    <tr style=\"text-align: right;\">\n",
       "      <th></th>\n",
       "      <th>item</th>\n",
       "      <th>category</th>\n",
       "      <th>store_code</th>\n",
       "      <th>yearweek</th>\n",
       "      <th>sell_price</th>\n",
       "      <th>id</th>\n",
       "    </tr>\n",
       "  </thead>\n",
       "  <tbody>\n",
       "    <tr>\n",
       "      <th>0</th>\n",
       "      <td>ACCESORIES_1_001</td>\n",
       "      <td>ACCESORIES</td>\n",
       "      <td>NYC_1</td>\n",
       "      <td>201328</td>\n",
       "      <td>12.7414</td>\n",
       "      <td>ACCESORIES_1_001_NYC_1</td>\n",
       "    </tr>\n",
       "    <tr>\n",
       "      <th>1</th>\n",
       "      <td>ACCESORIES_1_001</td>\n",
       "      <td>ACCESORIES</td>\n",
       "      <td>NYC_1</td>\n",
       "      <td>201329</td>\n",
       "      <td>12.7414</td>\n",
       "      <td>ACCESORIES_1_001_NYC_1</td>\n",
       "    </tr>\n",
       "    <tr>\n",
       "      <th>2</th>\n",
       "      <td>ACCESORIES_1_001</td>\n",
       "      <td>ACCESORIES</td>\n",
       "      <td>NYC_1</td>\n",
       "      <td>201330</td>\n",
       "      <td>10.9858</td>\n",
       "      <td>ACCESORIES_1_001_NYC_1</td>\n",
       "    </tr>\n",
       "    <tr>\n",
       "      <th>3</th>\n",
       "      <td>ACCESORIES_1_001</td>\n",
       "      <td>ACCESORIES</td>\n",
       "      <td>NYC_1</td>\n",
       "      <td>201331</td>\n",
       "      <td>10.9858</td>\n",
       "      <td>ACCESORIES_1_001_NYC_1</td>\n",
       "    </tr>\n",
       "    <tr>\n",
       "      <th>4</th>\n",
       "      <td>ACCESORIES_1_001</td>\n",
       "      <td>ACCESORIES</td>\n",
       "      <td>NYC_1</td>\n",
       "      <td>201332</td>\n",
       "      <td>10.9858</td>\n",
       "      <td>ACCESORIES_1_001_NYC_1</td>\n",
       "    </tr>\n",
       "  </tbody>\n",
       "</table>\n",
       "</div>"
      ],
      "text/plain": [
       "               item    category store_code yearweek  sell_price  \\\n",
       "0  ACCESORIES_1_001  ACCESORIES      NYC_1   201328     12.7414   \n",
       "1  ACCESORIES_1_001  ACCESORIES      NYC_1   201329     12.7414   \n",
       "2  ACCESORIES_1_001  ACCESORIES      NYC_1   201330     10.9858   \n",
       "3  ACCESORIES_1_001  ACCESORIES      NYC_1   201331     10.9858   \n",
       "4  ACCESORIES_1_001  ACCESORIES      NYC_1   201332     10.9858   \n",
       "\n",
       "                       id  \n",
       "0  ACCESORIES_1_001_NYC_1  \n",
       "1  ACCESORIES_1_001_NYC_1  \n",
       "2  ACCESORIES_1_001_NYC_1  \n",
       "3  ACCESORIES_1_001_NYC_1  \n",
       "4  ACCESORIES_1_001_NYC_1  "
      ]
     },
     "execution_count": 54,
     "metadata": {},
     "output_type": "execute_result"
    }
   ],
   "source": [
    "precios.head()"
   ]
  },
  {
   "cell_type": "markdown",
   "metadata": {},
   "source": [
    "## Merge de los DF"
   ]
  },
  {
   "cell_type": "code",
   "execution_count": 55,
   "metadata": {},
   "outputs": [],
   "source": [
    "df=pd.merge(ventas,calendario[[\"d\",\"date\",\"event\",\"yearweek\"]],how=\"right\",on=\"d\") # Join ventas con calendario"
   ]
  },
  {
   "cell_type": "code",
   "execution_count": 56,
   "metadata": {},
   "outputs": [],
   "source": [
    "df[\"date\"]=pd.to_datetime(df[\"date\"])"
   ]
  },
  {
   "cell_type": "code",
   "execution_count": 57,
   "metadata": {},
   "outputs": [
    {
     "name": "stdout",
     "output_type": "stream",
     "text": [
      "<class 'pandas.core.frame.DataFrame'>\n",
      "Int64Index: 59181090 entries, 0 to 59181089\n",
      "Data columns (total 12 columns):\n",
      " #   Column      Dtype         \n",
      "---  ------      -----         \n",
      " 0   id          object        \n",
      " 1   item        int32         \n",
      " 2   category    int32         \n",
      " 3   department  int32         \n",
      " 4   store       int32         \n",
      " 5   store_code  int32         \n",
      " 6   region      int32         \n",
      " 7   d           object        \n",
      " 8   Cantidad    int64         \n",
      " 9   date        datetime64[ns]\n",
      " 10  event       int32         \n",
      " 11  yearweek    object        \n",
      "dtypes: datetime64[ns](1), int32(7), int64(1), object(3)\n",
      "memory usage: 4.2+ GB\n"
     ]
    }
   ],
   "source": [
    "df.info()"
   ]
  },
  {
   "cell_type": "code",
   "execution_count": 58,
   "metadata": {},
   "outputs": [
    {
     "data": {
      "text/plain": [
       "(59181090, 12)"
      ]
     },
     "execution_count": 58,
     "metadata": {},
     "output_type": "execute_result"
    }
   ],
   "source": [
    "df.shape"
   ]
  },
  {
   "cell_type": "code",
   "execution_count": 59,
   "metadata": {},
   "outputs": [],
   "source": [
    "df.drop([\"store\"],axis=1,inplace=True) # eliminamos columna duplicada"
   ]
  },
  {
   "cell_type": "code",
   "execution_count": 60,
   "metadata": {},
   "outputs": [
    {
     "data": {
      "text/html": [
       "<div>\n",
       "<style scoped>\n",
       "    .dataframe tbody tr th:only-of-type {\n",
       "        vertical-align: middle;\n",
       "    }\n",
       "\n",
       "    .dataframe tbody tr th {\n",
       "        vertical-align: top;\n",
       "    }\n",
       "\n",
       "    .dataframe thead th {\n",
       "        text-align: right;\n",
       "    }\n",
       "</style>\n",
       "<table border=\"1\" class=\"dataframe\">\n",
       "  <thead>\n",
       "    <tr style=\"text-align: right;\">\n",
       "      <th></th>\n",
       "      <th>id</th>\n",
       "      <th>item</th>\n",
       "      <th>category</th>\n",
       "      <th>department</th>\n",
       "      <th>store_code</th>\n",
       "      <th>region</th>\n",
       "      <th>d</th>\n",
       "      <th>Cantidad</th>\n",
       "      <th>date</th>\n",
       "      <th>event</th>\n",
       "      <th>yearweek</th>\n",
       "    </tr>\n",
       "  </thead>\n",
       "  <tbody>\n",
       "    <tr>\n",
       "      <th>0</th>\n",
       "      <td>ACCESORIES_1_001_NYC_1</td>\n",
       "      <td>0</td>\n",
       "      <td>0</td>\n",
       "      <td>0</td>\n",
       "      <td>3</td>\n",
       "      <td>1</td>\n",
       "      <td>d_1</td>\n",
       "      <td>0</td>\n",
       "      <td>2011-01-29</td>\n",
       "      <td>0</td>\n",
       "      <td>201104</td>\n",
       "    </tr>\n",
       "    <tr>\n",
       "      <th>1</th>\n",
       "      <td>ACCESORIES_1_002_NYC_1</td>\n",
       "      <td>1</td>\n",
       "      <td>0</td>\n",
       "      <td>0</td>\n",
       "      <td>3</td>\n",
       "      <td>1</td>\n",
       "      <td>d_1</td>\n",
       "      <td>0</td>\n",
       "      <td>2011-01-29</td>\n",
       "      <td>0</td>\n",
       "      <td>201104</td>\n",
       "    </tr>\n",
       "    <tr>\n",
       "      <th>2</th>\n",
       "      <td>ACCESORIES_1_003_NYC_1</td>\n",
       "      <td>2</td>\n",
       "      <td>0</td>\n",
       "      <td>0</td>\n",
       "      <td>3</td>\n",
       "      <td>1</td>\n",
       "      <td>d_1</td>\n",
       "      <td>0</td>\n",
       "      <td>2011-01-29</td>\n",
       "      <td>0</td>\n",
       "      <td>201104</td>\n",
       "    </tr>\n",
       "    <tr>\n",
       "      <th>3</th>\n",
       "      <td>ACCESORIES_1_004_NYC_1</td>\n",
       "      <td>3</td>\n",
       "      <td>0</td>\n",
       "      <td>0</td>\n",
       "      <td>3</td>\n",
       "      <td>1</td>\n",
       "      <td>d_1</td>\n",
       "      <td>0</td>\n",
       "      <td>2011-01-29</td>\n",
       "      <td>0</td>\n",
       "      <td>201104</td>\n",
       "    </tr>\n",
       "    <tr>\n",
       "      <th>4</th>\n",
       "      <td>ACCESORIES_1_005_NYC_1</td>\n",
       "      <td>4</td>\n",
       "      <td>0</td>\n",
       "      <td>0</td>\n",
       "      <td>3</td>\n",
       "      <td>1</td>\n",
       "      <td>d_1</td>\n",
       "      <td>0</td>\n",
       "      <td>2011-01-29</td>\n",
       "      <td>0</td>\n",
       "      <td>201104</td>\n",
       "    </tr>\n",
       "  </tbody>\n",
       "</table>\n",
       "</div>"
      ],
      "text/plain": [
       "                       id  item  category  department  store_code  region  \\\n",
       "0  ACCESORIES_1_001_NYC_1     0         0           0           3       1   \n",
       "1  ACCESORIES_1_002_NYC_1     1         0           0           3       1   \n",
       "2  ACCESORIES_1_003_NYC_1     2         0           0           3       1   \n",
       "3  ACCESORIES_1_004_NYC_1     3         0           0           3       1   \n",
       "4  ACCESORIES_1_005_NYC_1     4         0           0           3       1   \n",
       "\n",
       "     d  Cantidad       date  event yearweek  \n",
       "0  d_1         0 2011-01-29      0   201104  \n",
       "1  d_1         0 2011-01-29      0   201104  \n",
       "2  d_1         0 2011-01-29      0   201104  \n",
       "3  d_1         0 2011-01-29      0   201104  \n",
       "4  d_1         0 2011-01-29      0   201104  "
      ]
     },
     "execution_count": 60,
     "metadata": {},
     "output_type": "execute_result"
    }
   ],
   "source": [
    "df.head()"
   ]
  },
  {
   "cell_type": "code",
   "execution_count": 61,
   "metadata": {},
   "outputs": [],
   "source": [
    "df.sort_values([\"id\", \"date\"], ascending = True, inplace = True)"
   ]
  },
  {
   "cell_type": "code",
   "execution_count": 62,
   "metadata": {},
   "outputs": [
    {
     "data": {
      "text/plain": [
       "65695409"
      ]
     },
     "execution_count": 62,
     "metadata": {},
     "output_type": "execute_result"
    }
   ],
   "source": [
    "df[\"Cantidad\"].sum()"
   ]
  },
  {
   "cell_type": "code",
   "execution_count": 63,
   "metadata": {},
   "outputs": [],
   "source": [
    "df=pd.merge(df,precios[[\"id\",\"yearweek\",\"sell_price\"]],how=\"left\",on=[\"id\",\"yearweek\"]) #join con precios"
   ]
  },
  {
   "cell_type": "code",
   "execution_count": 64,
   "metadata": {},
   "outputs": [
    {
     "data": {
      "text/plain": [
       "65695409"
      ]
     },
     "execution_count": 64,
     "metadata": {},
     "output_type": "execute_result"
    }
   ],
   "source": [
    "df[\"Cantidad\"].sum()"
   ]
  },
  {
   "cell_type": "code",
   "execution_count": 65,
   "metadata": {},
   "outputs": [
    {
     "name": "stdout",
     "output_type": "stream",
     "text": [
      "<class 'pandas.core.frame.DataFrame'>\n",
      "Int64Index: 59181090 entries, 0 to 59181089\n",
      "Data columns (total 12 columns):\n",
      " #   Column      Dtype         \n",
      "---  ------      -----         \n",
      " 0   id          object        \n",
      " 1   item        int32         \n",
      " 2   category    int32         \n",
      " 3   department  int32         \n",
      " 4   store_code  int32         \n",
      " 5   region      int32         \n",
      " 6   d           object        \n",
      " 7   Cantidad    int64         \n",
      " 8   date        datetime64[ns]\n",
      " 9   event       int32         \n",
      " 10  yearweek    object        \n",
      " 11  sell_price  float64       \n",
      "dtypes: datetime64[ns](1), float64(1), int32(6), int64(1), object(3)\n",
      "memory usage: 4.4+ GB\n"
     ]
    }
   ],
   "source": [
    "df.info()"
   ]
  },
  {
   "cell_type": "code",
   "execution_count": 66,
   "metadata": {},
   "outputs": [
    {
     "data": {
      "text/plain": [
       "id                   0\n",
       "item                 0\n",
       "category             0\n",
       "department           0\n",
       "store_code           0\n",
       "region               0\n",
       "d                    0\n",
       "Cantidad             0\n",
       "date                 0\n",
       "event                0\n",
       "yearweek             0\n",
       "sell_price    13153941\n",
       "dtype: int64"
      ]
     },
     "execution_count": 66,
     "metadata": {},
     "output_type": "execute_result"
    }
   ],
   "source": [
    "df.isnull().sum()"
   ]
  },
  {
   "cell_type": "code",
   "execution_count": 67,
   "metadata": {},
   "outputs": [],
   "source": [
    "# rellenamos nulos con el valor anterior o posterior si no encuentra el anterior.\n",
    "df[\"sell_price\"] = df.groupby(\"id\", group_keys = False)[\"sell_price\"].apply(lambda series: series.bfill().ffill())"
   ]
  },
  {
   "cell_type": "code",
   "execution_count": 68,
   "metadata": {},
   "outputs": [
    {
     "data": {
      "text/plain": [
       "0"
      ]
     },
     "execution_count": 68,
     "metadata": {},
     "output_type": "execute_result"
    }
   ],
   "source": [
    "df[\"sell_price\"].isnull().sum() # verificamos nulos en sell price"
   ]
  },
  {
   "cell_type": "code",
   "execution_count": 69,
   "metadata": {},
   "outputs": [
    {
     "name": "stdout",
     "output_type": "stream",
     "text": [
      "<class 'pandas.core.frame.DataFrame'>\n",
      "Int64Index: 59181090 entries, 0 to 59181089\n",
      "Data columns (total 12 columns):\n",
      " #   Column      Dtype         \n",
      "---  ------      -----         \n",
      " 0   id          object        \n",
      " 1   item        int32         \n",
      " 2   category    int32         \n",
      " 3   department  int32         \n",
      " 4   store_code  int32         \n",
      " 5   region      int32         \n",
      " 6   d           object        \n",
      " 7   Cantidad    int64         \n",
      " 8   date        datetime64[ns]\n",
      " 9   event       int32         \n",
      " 10  yearweek    object        \n",
      " 11  sell_price  float64       \n",
      "dtypes: datetime64[ns](1), float64(1), int32(6), int64(1), object(3)\n",
      "memory usage: 4.4+ GB\n"
     ]
    }
   ],
   "source": [
    "df.info()"
   ]
  },
  {
   "cell_type": "code",
   "execution_count": 70,
   "metadata": {},
   "outputs": [
    {
     "data": {
      "text/html": [
       "<div>\n",
       "<style scoped>\n",
       "    .dataframe tbody tr th:only-of-type {\n",
       "        vertical-align: middle;\n",
       "    }\n",
       "\n",
       "    .dataframe tbody tr th {\n",
       "        vertical-align: top;\n",
       "    }\n",
       "\n",
       "    .dataframe thead th {\n",
       "        text-align: right;\n",
       "    }\n",
       "</style>\n",
       "<table border=\"1\" class=\"dataframe\">\n",
       "  <thead>\n",
       "    <tr style=\"text-align: right;\">\n",
       "      <th></th>\n",
       "      <th>id</th>\n",
       "      <th>item</th>\n",
       "      <th>category</th>\n",
       "      <th>department</th>\n",
       "      <th>store_code</th>\n",
       "      <th>region</th>\n",
       "      <th>d</th>\n",
       "      <th>Cantidad</th>\n",
       "      <th>date</th>\n",
       "      <th>event</th>\n",
       "      <th>yearweek</th>\n",
       "      <th>sell_price</th>\n",
       "    </tr>\n",
       "  </thead>\n",
       "  <tbody>\n",
       "    <tr>\n",
       "      <th>0</th>\n",
       "      <td>ACCESORIES_1_001_BOS_1</td>\n",
       "      <td>0</td>\n",
       "      <td>0</td>\n",
       "      <td>0</td>\n",
       "      <td>0</td>\n",
       "      <td>0</td>\n",
       "      <td>d_1</td>\n",
       "      <td>0</td>\n",
       "      <td>2011-01-29</td>\n",
       "      <td>0</td>\n",
       "      <td>201104</td>\n",
       "      <td>12.7414</td>\n",
       "    </tr>\n",
       "    <tr>\n",
       "      <th>1</th>\n",
       "      <td>ACCESORIES_1_001_BOS_1</td>\n",
       "      <td>0</td>\n",
       "      <td>0</td>\n",
       "      <td>0</td>\n",
       "      <td>0</td>\n",
       "      <td>0</td>\n",
       "      <td>d_2</td>\n",
       "      <td>0</td>\n",
       "      <td>2011-01-30</td>\n",
       "      <td>0</td>\n",
       "      <td>201104</td>\n",
       "      <td>12.7414</td>\n",
       "    </tr>\n",
       "    <tr>\n",
       "      <th>2</th>\n",
       "      <td>ACCESORIES_1_001_BOS_1</td>\n",
       "      <td>0</td>\n",
       "      <td>0</td>\n",
       "      <td>0</td>\n",
       "      <td>0</td>\n",
       "      <td>0</td>\n",
       "      <td>d_3</td>\n",
       "      <td>0</td>\n",
       "      <td>2011-01-31</td>\n",
       "      <td>0</td>\n",
       "      <td>201105</td>\n",
       "      <td>12.7414</td>\n",
       "    </tr>\n",
       "    <tr>\n",
       "      <th>3</th>\n",
       "      <td>ACCESORIES_1_001_BOS_1</td>\n",
       "      <td>0</td>\n",
       "      <td>0</td>\n",
       "      <td>0</td>\n",
       "      <td>0</td>\n",
       "      <td>0</td>\n",
       "      <td>d_4</td>\n",
       "      <td>0</td>\n",
       "      <td>2011-02-01</td>\n",
       "      <td>0</td>\n",
       "      <td>201105</td>\n",
       "      <td>12.7414</td>\n",
       "    </tr>\n",
       "    <tr>\n",
       "      <th>4</th>\n",
       "      <td>ACCESORIES_1_001_BOS_1</td>\n",
       "      <td>0</td>\n",
       "      <td>0</td>\n",
       "      <td>0</td>\n",
       "      <td>0</td>\n",
       "      <td>0</td>\n",
       "      <td>d_5</td>\n",
       "      <td>0</td>\n",
       "      <td>2011-02-02</td>\n",
       "      <td>0</td>\n",
       "      <td>201105</td>\n",
       "      <td>12.7414</td>\n",
       "    </tr>\n",
       "  </tbody>\n",
       "</table>\n",
       "</div>"
      ],
      "text/plain": [
       "                       id  item  category  department  store_code  region  \\\n",
       "0  ACCESORIES_1_001_BOS_1     0         0           0           0       0   \n",
       "1  ACCESORIES_1_001_BOS_1     0         0           0           0       0   \n",
       "2  ACCESORIES_1_001_BOS_1     0         0           0           0       0   \n",
       "3  ACCESORIES_1_001_BOS_1     0         0           0           0       0   \n",
       "4  ACCESORIES_1_001_BOS_1     0         0           0           0       0   \n",
       "\n",
       "     d  Cantidad       date  event yearweek  sell_price  \n",
       "0  d_1         0 2011-01-29      0   201104     12.7414  \n",
       "1  d_2         0 2011-01-30      0   201104     12.7414  \n",
       "2  d_3         0 2011-01-31      0   201105     12.7414  \n",
       "3  d_4         0 2011-02-01      0   201105     12.7414  \n",
       "4  d_5         0 2011-02-02      0   201105     12.7414  "
      ]
     },
     "execution_count": 70,
     "metadata": {},
     "output_type": "execute_result"
    }
   ],
   "source": [
    "df.head()"
   ]
  },
  {
   "cell_type": "code",
   "execution_count": 71,
   "metadata": {},
   "outputs": [],
   "source": [
    "from pathlib import Path  \n",
    "filepath = Path(\"data/tablafinal.csv\")  \n",
    "filepath.parent.mkdir(parents=True, exist_ok=True)  \n",
    "df.to_csv(filepath,index=False)  "
   ]
  },
  {
   "cell_type": "code",
   "execution_count": null,
   "metadata": {},
   "outputs": [],
   "source": [
    "df=pd.read_csv(\"data/tablafinal.csv\")"
   ]
  },
  {
   "cell_type": "markdown",
   "metadata": {},
   "source": [
    "# Mapping DF"
   ]
  },
  {
   "cell_type": "markdown",
   "metadata": {},
   "source": [
    "## Agrupamos por semana"
   ]
  },
  {
   "cell_type": "code",
   "execution_count": 72,
   "metadata": {},
   "outputs": [
    {
     "data": {
      "text/plain": [
       "['id', 'item', 'category', 'department', 'store_code', 'region', 'yearweek']"
      ]
     },
     "execution_count": 72,
     "metadata": {},
     "output_type": "execute_result"
    }
   ],
   "source": [
    "columnasbase=df.columns[:6].tolist()\n",
    "columnasbase.append(\"yearweek\")\n",
    "columnasbase"
   ]
  },
  {
   "cell_type": "code",
   "execution_count": 73,
   "metadata": {},
   "outputs": [],
   "source": [
    "ventassem=df.groupby(by=columnasbase).agg({\"Cantidad\":\"sum\",\"sell_price\":\"mean\",\"event\":\"sum\"}).reset_index()"
   ]
  },
  {
   "cell_type": "code",
   "execution_count": 74,
   "metadata": {},
   "outputs": [
    {
     "data": {
      "text/plain": [
       "(8476220, 10)"
      ]
     },
     "execution_count": 74,
     "metadata": {},
     "output_type": "execute_result"
    }
   ],
   "source": [
    "ventassem.shape"
   ]
  },
  {
   "cell_type": "code",
   "execution_count": 75,
   "metadata": {},
   "outputs": [
    {
     "data": {
      "text/html": [
       "<div>\n",
       "<style scoped>\n",
       "    .dataframe tbody tr th:only-of-type {\n",
       "        vertical-align: middle;\n",
       "    }\n",
       "\n",
       "    .dataframe tbody tr th {\n",
       "        vertical-align: top;\n",
       "    }\n",
       "\n",
       "    .dataframe thead th {\n",
       "        text-align: right;\n",
       "    }\n",
       "</style>\n",
       "<table border=\"1\" class=\"dataframe\">\n",
       "  <thead>\n",
       "    <tr style=\"text-align: right;\">\n",
       "      <th></th>\n",
       "      <th>id</th>\n",
       "      <th>item</th>\n",
       "      <th>category</th>\n",
       "      <th>department</th>\n",
       "      <th>store_code</th>\n",
       "      <th>region</th>\n",
       "      <th>yearweek</th>\n",
       "      <th>Cantidad</th>\n",
       "      <th>sell_price</th>\n",
       "      <th>event</th>\n",
       "    </tr>\n",
       "  </thead>\n",
       "  <tbody>\n",
       "    <tr>\n",
       "      <th>0</th>\n",
       "      <td>ACCESORIES_1_001_BOS_1</td>\n",
       "      <td>0</td>\n",
       "      <td>0</td>\n",
       "      <td>0</td>\n",
       "      <td>0</td>\n",
       "      <td>0</td>\n",
       "      <td>201104</td>\n",
       "      <td>0</td>\n",
       "      <td>12.7414</td>\n",
       "      <td>0</td>\n",
       "    </tr>\n",
       "    <tr>\n",
       "      <th>1</th>\n",
       "      <td>ACCESORIES_1_001_BOS_1</td>\n",
       "      <td>0</td>\n",
       "      <td>0</td>\n",
       "      <td>0</td>\n",
       "      <td>0</td>\n",
       "      <td>0</td>\n",
       "      <td>201105</td>\n",
       "      <td>0</td>\n",
       "      <td>12.7414</td>\n",
       "      <td>1</td>\n",
       "    </tr>\n",
       "    <tr>\n",
       "      <th>2</th>\n",
       "      <td>ACCESORIES_1_001_BOS_1</td>\n",
       "      <td>0</td>\n",
       "      <td>0</td>\n",
       "      <td>0</td>\n",
       "      <td>0</td>\n",
       "      <td>0</td>\n",
       "      <td>201106</td>\n",
       "      <td>0</td>\n",
       "      <td>12.7414</td>\n",
       "      <td>0</td>\n",
       "    </tr>\n",
       "    <tr>\n",
       "      <th>3</th>\n",
       "      <td>ACCESORIES_1_001_BOS_1</td>\n",
       "      <td>0</td>\n",
       "      <td>0</td>\n",
       "      <td>0</td>\n",
       "      <td>0</td>\n",
       "      <td>0</td>\n",
       "      <td>201107</td>\n",
       "      <td>0</td>\n",
       "      <td>12.7414</td>\n",
       "      <td>0</td>\n",
       "    </tr>\n",
       "    <tr>\n",
       "      <th>4</th>\n",
       "      <td>ACCESORIES_1_001_BOS_1</td>\n",
       "      <td>0</td>\n",
       "      <td>0</td>\n",
       "      <td>0</td>\n",
       "      <td>0</td>\n",
       "      <td>0</td>\n",
       "      <td>201108</td>\n",
       "      <td>0</td>\n",
       "      <td>12.7414</td>\n",
       "      <td>0</td>\n",
       "    </tr>\n",
       "  </tbody>\n",
       "</table>\n",
       "</div>"
      ],
      "text/plain": [
       "                       id  item  category  department  store_code  region  \\\n",
       "0  ACCESORIES_1_001_BOS_1     0         0           0           0       0   \n",
       "1  ACCESORIES_1_001_BOS_1     0         0           0           0       0   \n",
       "2  ACCESORIES_1_001_BOS_1     0         0           0           0       0   \n",
       "3  ACCESORIES_1_001_BOS_1     0         0           0           0       0   \n",
       "4  ACCESORIES_1_001_BOS_1     0         0           0           0       0   \n",
       "\n",
       "  yearweek  Cantidad  sell_price  event  \n",
       "0   201104         0     12.7414      0  \n",
       "1   201105         0     12.7414      1  \n",
       "2   201106         0     12.7414      0  \n",
       "3   201107         0     12.7414      0  \n",
       "4   201108         0     12.7414      0  "
      ]
     },
     "execution_count": 75,
     "metadata": {},
     "output_type": "execute_result"
    }
   ],
   "source": [
    "ventassem.head()"
   ]
  },
  {
   "cell_type": "code",
   "execution_count": 76,
   "metadata": {},
   "outputs": [
    {
     "data": {
      "text/plain": [
       "65695409"
      ]
     },
     "execution_count": 76,
     "metadata": {},
     "output_type": "execute_result"
    }
   ],
   "source": [
    "ventassem[\"Cantidad\"].sum()"
   ]
  },
  {
   "cell_type": "code",
   "execution_count": 77,
   "metadata": {},
   "outputs": [
    {
     "data": {
      "text/plain": [
       "'201620'"
      ]
     },
     "execution_count": 77,
     "metadata": {},
     "output_type": "execute_result"
    }
   ],
   "source": [
    "ventassem[\"yearweek\"].max()"
   ]
  },
  {
   "cell_type": "code",
   "execution_count": 78,
   "metadata": {},
   "outputs": [],
   "source": [
    "from pathlib import Path  \n",
    "filepath = Path(\"data/ventassem.csv\")  \n",
    "filepath.parent.mkdir(parents=True, exist_ok=True)  \n",
    "ventassem.to_csv(filepath,index=False)  "
   ]
  },
  {
   "cell_type": "markdown",
   "metadata": {},
   "source": [
    "# EDA"
   ]
  },
  {
   "cell_type": "markdown",
   "metadata": {},
   "source": [
    "## Graficos"
   ]
  },
  {
   "cell_type": "code",
   "execution_count": 82,
   "metadata": {},
   "outputs": [
    {
     "data": {
      "text/plain": [
       "<Axes: xlabel='region'>"
      ]
     },
     "execution_count": 82,
     "metadata": {},
     "output_type": "execute_result"
    },
    {
     "data": {
      "image/png": "[encoded data removed]",
      "text/plain": [
       "<Figure size 1200x400 with 1 Axes>"
      ]
     },
     "metadata": {},
     "output_type": "display_data"
    }
   ],
   "source": [
    "\n",
    "(df.groupby([\"region\"])[\"Cantidad\"].sum().sort_values(ascending = False).plot(kind = \"bar\", figsize = (12, 4))\n"
   ]
  },
  {
   "cell_type": "code",
   "execution_count": null,
   "metadata": {},
   "outputs": [],
   "source": [
    "(\n",
    "    df.\n",
    "    groupby([\"store_code\"])\n",
    "    [\"Cantidad\"].sum()\n",
    "    .sort_values(ascending = False)\n",
    "    .plot(kind = \"bar\", figsize = (12, 4))\n",
    ");"
   ]
  },
  {
   "cell_type": "code",
   "execution_count": null,
   "metadata": {},
   "outputs": [],
   "source": [
    "(\n",
    "    df.\n",
    "    groupby([\"category\"])\n",
    "    [\"Cantidad\"].sum()\n",
    "    .sort_values(ascending = False)\n",
    "    .plot(kind = \"bar\", figsize = (12, 4))\n",
    ");"
   ]
  },
  {
   "cell_type": "code",
   "execution_count": null,
   "metadata": {},
   "outputs": [],
   "source": [
    "(\n",
    "    df.\n",
    "    groupby([\"department\"])\n",
    "    [\"Cantidad\"].sum()\n",
    "    .sort_values(ascending = False)\n",
    "    .plot(kind = \"bar\", figsize = (12, 4))\n",
    ");"
   ]
  },
  {
   "cell_type": "code",
   "execution_count": null,
   "metadata": {},
   "outputs": [],
   "source": [
    "y = df.set_index(\"date\").resample(\"M\")[\"Cantidad\"].sum()"
   ]
  },
  {
   "cell_type": "code",
   "execution_count": null,
   "metadata": {},
   "outputs": [],
   "source": [
    "fig = plt.figure(figsize = (12, 10))\n",
    "ax = fig.subplots(1, 1)\n",
    "ax.plot(y)\n",
    "    \n",
    "plt.suptitle(t = \"Ventas Totales\", fontsize = 20)"
   ]
  },
  {
   "cell_type": "markdown",
   "metadata": {},
   "source": []
  }
 ],
 "metadata": {
  "kernelspec": {
   "display_name": "Python 3",
   "language": "python",
   "name": "python3"
  },
  "language_info": {
   "codemirror_mode": {
    "name": "ipython",
    "version": 3
   },
   "file_extension": ".py",
   "mimetype": "text/x-python",
   "name": "python",
   "nbconvert_exporter": "python",
   "pygments_lexer": "ipython3",
   "version": "3.12.1"
  }
 },
 "nbformat": 4,
 "nbformat_minor": 2
}
