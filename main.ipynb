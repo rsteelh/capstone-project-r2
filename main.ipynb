{
 "cells": [
  {
   "cell_type": "code",
   "execution_count": 47,
   "metadata": {},
   "outputs": [],
   "source": [
    "import pandas as pd\n",
    "import numpy as np"
   ]
  },
  {
   "cell_type": "code",
   "execution_count": 48,
   "metadata": {},
   "outputs": [],
   "source": [
    "df_calendar=pd.read_csv(\"Data/daily_calendar_with_events.csv\")\n",
    "df_prices = pd.read_csv(\"Data/item_prices.csv\")\n",
    "df_sales = pd.read_csv(\"Data/item_sales.csv\")"
   ]
  },
  {
   "cell_type": "code",
   "execution_count": 49,
   "metadata": {},
   "outputs": [
    {
     "name": "stdout",
     "output_type": "stream",
     "text": [
      "<class 'pandas.core.frame.DataFrame'>\n",
      "RangeIndex: 1913 entries, 0 to 1912\n",
      "Data columns (total 5 columns):\n",
      " #   Column       Non-Null Count  Dtype \n",
      "---  ------       --------------  ----- \n",
      " 0   date         1913 non-null   object\n",
      " 1   weekday      1913 non-null   object\n",
      " 2   weekday_int  1913 non-null   int64 \n",
      " 3   d            1913 non-null   object\n",
      " 4   event        26 non-null     object\n",
      "dtypes: int64(1), object(4)\n",
      "memory usage: 74.9+ KB\n"
     ]
    }
   ],
   "source": [
    "df_calendar.info()"
   ]
  },
  {
   "cell_type": "code",
   "execution_count": 50,
   "metadata": {},
   "outputs": [],
   "source": [
    "df_calendar['date']=pd.to_datetime(df_calendar['date'])"
   ]
  },
  {
   "cell_type": "code",
   "execution_count": 51,
   "metadata": {},
   "outputs": [
    {
     "name": "stdout",
     "output_type": "stream",
     "text": [
      "<class 'pandas.core.frame.DataFrame'>\n",
      "RangeIndex: 1913 entries, 0 to 1912\n",
      "Data columns (total 5 columns):\n",
      " #   Column       Non-Null Count  Dtype         \n",
      "---  ------       --------------  -----         \n",
      " 0   date         1913 non-null   datetime64[ns]\n",
      " 1   weekday      1913 non-null   object        \n",
      " 2   weekday_int  1913 non-null   int64         \n",
      " 3   d            1913 non-null   object        \n",
      " 4   event        26 non-null     object        \n",
      "dtypes: datetime64[ns](1), int64(1), object(3)\n",
      "memory usage: 74.9+ KB\n"
     ]
    }
   ],
   "source": [
    "df_calendar.info()"
   ]
  },
  {
   "cell_type": "code",
   "execution_count": 52,
   "metadata": {},
   "outputs": [],
   "source": [
    "df_calendar['date']=pd.to_datetime(df_calendar['date'])"
   ]
  },
  {
   "cell_type": "code",
   "execution_count": 53,
   "metadata": {},
   "outputs": [
    {
     "name": "stdout",
     "output_type": "stream",
     "text": [
      "<class 'pandas.core.frame.DataFrame'>\n",
      "RangeIndex: 1913 entries, 0 to 1912\n",
      "Data columns (total 5 columns):\n",
      " #   Column       Non-Null Count  Dtype         \n",
      "---  ------       --------------  -----         \n",
      " 0   date         1913 non-null   datetime64[ns]\n",
      " 1   weekday      1913 non-null   object        \n",
      " 2   weekday_int  1913 non-null   int64         \n",
      " 3   d            1913 non-null   object        \n",
      " 4   event        26 non-null     object        \n",
      "dtypes: datetime64[ns](1), int64(1), object(3)\n",
      "memory usage: 74.9+ KB\n"
     ]
    }
   ],
   "source": [
    "df_calendar.info()"
   ]
  },
  {
   "cell_type": "code",
   "execution_count": 54,
   "metadata": {},
   "outputs": [],
   "source": [
    "df_calendar['year']=df_calendar['date'].dt.year"
   ]
  },
  {
   "cell_type": "code",
   "execution_count": 55,
   "metadata": {},
   "outputs": [],
   "source": [
    "df_calendar['month']=df_calendar['date'].dt.month"
   ]
  },
  {
   "cell_type": "code",
   "execution_count": 56,
   "metadata": {},
   "outputs": [
    {
     "name": "stdout",
     "output_type": "stream",
     "text": [
      "<class 'pandas.core.frame.DataFrame'>\n",
      "RangeIndex: 1913 entries, 0 to 1912\n",
      "Data columns (total 7 columns):\n",
      " #   Column       Non-Null Count  Dtype         \n",
      "---  ------       --------------  -----         \n",
      " 0   date         1913 non-null   datetime64[ns]\n",
      " 1   weekday      1913 non-null   object        \n",
      " 2   weekday_int  1913 non-null   int64         \n",
      " 3   d            1913 non-null   object        \n",
      " 4   event        26 non-null     object        \n",
      " 5   year         1913 non-null   int32         \n",
      " 6   month        1913 non-null   int32         \n",
      "dtypes: datetime64[ns](1), int32(2), int64(1), object(3)\n",
      "memory usage: 89.8+ KB\n"
     ]
    }
   ],
   "source": [
    "df_calendar.info()"
   ]
  },
  {
   "cell_type": "code",
   "execution_count": 57,
   "metadata": {},
   "outputs": [
    {
     "data": {
      "text/html": [
       "<div>\n",
       "<style scoped>\n",
       "    .dataframe tbody tr th:only-of-type {\n",
       "        vertical-align: middle;\n",
       "    }\n",
       "\n",
       "    .dataframe tbody tr th {\n",
       "        vertical-align: top;\n",
       "    }\n",
       "\n",
       "    .dataframe thead th {\n",
       "        text-align: right;\n",
       "    }\n",
       "</style>\n",
       "<table border=\"1\" class=\"dataframe\">\n",
       "  <thead>\n",
       "    <tr style=\"text-align: right;\">\n",
       "      <th></th>\n",
       "      <th>date</th>\n",
       "      <th>weekday</th>\n",
       "      <th>weekday_int</th>\n",
       "      <th>d</th>\n",
       "      <th>event</th>\n",
       "      <th>year</th>\n",
       "      <th>month</th>\n",
       "    </tr>\n",
       "  </thead>\n",
       "  <tbody>\n",
       "    <tr>\n",
       "      <th>0</th>\n",
       "      <td>2011-01-29</td>\n",
       "      <td>Saturday</td>\n",
       "      <td>1</td>\n",
       "      <td>d_1</td>\n",
       "      <td>NaN</td>\n",
       "      <td>2011</td>\n",
       "      <td>1</td>\n",
       "    </tr>\n",
       "    <tr>\n",
       "      <th>1</th>\n",
       "      <td>2011-01-30</td>\n",
       "      <td>Sunday</td>\n",
       "      <td>2</td>\n",
       "      <td>d_2</td>\n",
       "      <td>NaN</td>\n",
       "      <td>2011</td>\n",
       "      <td>1</td>\n",
       "    </tr>\n",
       "    <tr>\n",
       "      <th>2</th>\n",
       "      <td>2011-01-31</td>\n",
       "      <td>Monday</td>\n",
       "      <td>3</td>\n",
       "      <td>d_3</td>\n",
       "      <td>NaN</td>\n",
       "      <td>2011</td>\n",
       "      <td>1</td>\n",
       "    </tr>\n",
       "    <tr>\n",
       "      <th>3</th>\n",
       "      <td>2011-02-01</td>\n",
       "      <td>Tuesday</td>\n",
       "      <td>4</td>\n",
       "      <td>d_4</td>\n",
       "      <td>NaN</td>\n",
       "      <td>2011</td>\n",
       "      <td>2</td>\n",
       "    </tr>\n",
       "    <tr>\n",
       "      <th>4</th>\n",
       "      <td>2011-02-02</td>\n",
       "      <td>Wednesday</td>\n",
       "      <td>5</td>\n",
       "      <td>d_5</td>\n",
       "      <td>NaN</td>\n",
       "      <td>2011</td>\n",
       "      <td>2</td>\n",
       "    </tr>\n",
       "  </tbody>\n",
       "</table>\n",
       "</div>"
      ],
      "text/plain": [
       "        date    weekday  weekday_int    d event  year  month\n",
       "0 2011-01-29   Saturday            1  d_1   NaN  2011      1\n",
       "1 2011-01-30     Sunday            2  d_2   NaN  2011      1\n",
       "2 2011-01-31     Monday            3  d_3   NaN  2011      1\n",
       "3 2011-02-01    Tuesday            4  d_4   NaN  2011      2\n",
       "4 2011-02-02  Wednesday            5  d_5   NaN  2011      2"
      ]
     },
     "execution_count": 57,
     "metadata": {},
     "output_type": "execute_result"
    }
   ],
   "source": [
    "df_calendar.head()"
   ]
  },
  {
   "cell_type": "code",
   "execution_count": 58,
   "metadata": {},
   "outputs": [
    {
     "data": {
      "text/plain": [
       "date              0\n",
       "weekday           0\n",
       "weekday_int       0\n",
       "d                 0\n",
       "event          1887\n",
       "year              0\n",
       "month             0\n",
       "dtype: int64"
      ]
     },
     "execution_count": 58,
     "metadata": {},
     "output_type": "execute_result"
    }
   ],
   "source": [
    "df_calendar.isnull().sum()"
   ]
  },
  {
   "cell_type": "code",
   "execution_count": 59,
   "metadata": {},
   "outputs": [
    {
     "data": {
      "text/plain": [
       "event\n",
       "SuperBowl         6\n",
       "Ramadan starts    5\n",
       "Thanksgiving      5\n",
       "NewYear           5\n",
       "Easter            5\n",
       "Name: count, dtype: int64"
      ]
     },
     "execution_count": 59,
     "metadata": {},
     "output_type": "execute_result"
    }
   ],
   "source": [
    "df_calendar['event'].value_counts()"
   ]
  },
  {
   "cell_type": "code",
   "execution_count": 60,
   "metadata": {},
   "outputs": [
    {
     "data": {
      "text/plain": [
       "d\n",
       "d_1       1\n",
       "d_1272    1\n",
       "d_1284    1\n",
       "d_1283    1\n",
       "d_1282    1\n",
       "         ..\n",
       "d_635     1\n",
       "d_634     1\n",
       "d_633     1\n",
       "d_632     1\n",
       "d_1913    1\n",
       "Name: count, Length: 1913, dtype: int64"
      ]
     },
     "execution_count": 60,
     "metadata": {},
     "output_type": "execute_result"
    }
   ],
   "source": [
    "df_calendar['d'].value_counts()"
   ]
  },
  {
   "cell_type": "code",
   "execution_count": 61,
   "metadata": {},
   "outputs": [
    {
     "data": {
      "text/plain": [
       "0"
      ]
     },
     "execution_count": 61,
     "metadata": {},
     "output_type": "execute_result"
    }
   ],
   "source": [
    "df_calendar['d'].duplicated().sum()"
   ]
  },
  {
   "cell_type": "code",
   "execution_count": 62,
   "metadata": {},
   "outputs": [],
   "source": [
    "df_calendar['week']=df_calendar['date'].dt.isocalendar().week"
   ]
  },
  {
   "cell_type": "code",
   "execution_count": 63,
   "metadata": {},
   "outputs": [
    {
     "data": {
      "text/html": [
       "<div>\n",
       "<style scoped>\n",
       "    .dataframe tbody tr th:only-of-type {\n",
       "        vertical-align: middle;\n",
       "    }\n",
       "\n",
       "    .dataframe tbody tr th {\n",
       "        vertical-align: top;\n",
       "    }\n",
       "\n",
       "    .dataframe thead th {\n",
       "        text-align: right;\n",
       "    }\n",
       "</style>\n",
       "<table border=\"1\" class=\"dataframe\">\n",
       "  <thead>\n",
       "    <tr style=\"text-align: right;\">\n",
       "      <th></th>\n",
       "      <th>date</th>\n",
       "      <th>weekday</th>\n",
       "      <th>weekday_int</th>\n",
       "      <th>d</th>\n",
       "      <th>event</th>\n",
       "      <th>year</th>\n",
       "      <th>month</th>\n",
       "      <th>week</th>\n",
       "    </tr>\n",
       "  </thead>\n",
       "  <tbody>\n",
       "    <tr>\n",
       "      <th>0</th>\n",
       "      <td>2011-01-29</td>\n",
       "      <td>Saturday</td>\n",
       "      <td>1</td>\n",
       "      <td>d_1</td>\n",
       "      <td>NaN</td>\n",
       "      <td>2011</td>\n",
       "      <td>1</td>\n",
       "      <td>4</td>\n",
       "    </tr>\n",
       "    <tr>\n",
       "      <th>1</th>\n",
       "      <td>2011-01-30</td>\n",
       "      <td>Sunday</td>\n",
       "      <td>2</td>\n",
       "      <td>d_2</td>\n",
       "      <td>NaN</td>\n",
       "      <td>2011</td>\n",
       "      <td>1</td>\n",
       "      <td>4</td>\n",
       "    </tr>\n",
       "    <tr>\n",
       "      <th>2</th>\n",
       "      <td>2011-01-31</td>\n",
       "      <td>Monday</td>\n",
       "      <td>3</td>\n",
       "      <td>d_3</td>\n",
       "      <td>NaN</td>\n",
       "      <td>2011</td>\n",
       "      <td>1</td>\n",
       "      <td>5</td>\n",
       "    </tr>\n",
       "    <tr>\n",
       "      <th>3</th>\n",
       "      <td>2011-02-01</td>\n",
       "      <td>Tuesday</td>\n",
       "      <td>4</td>\n",
       "      <td>d_4</td>\n",
       "      <td>NaN</td>\n",
       "      <td>2011</td>\n",
       "      <td>2</td>\n",
       "      <td>5</td>\n",
       "    </tr>\n",
       "    <tr>\n",
       "      <th>4</th>\n",
       "      <td>2011-02-02</td>\n",
       "      <td>Wednesday</td>\n",
       "      <td>5</td>\n",
       "      <td>d_5</td>\n",
       "      <td>NaN</td>\n",
       "      <td>2011</td>\n",
       "      <td>2</td>\n",
       "      <td>5</td>\n",
       "    </tr>\n",
       "  </tbody>\n",
       "</table>\n",
       "</div>"
      ],
      "text/plain": [
       "        date    weekday  weekday_int    d event  year  month  week\n",
       "0 2011-01-29   Saturday            1  d_1   NaN  2011      1     4\n",
       "1 2011-01-30     Sunday            2  d_2   NaN  2011      1     4\n",
       "2 2011-01-31     Monday            3  d_3   NaN  2011      1     5\n",
       "3 2011-02-01    Tuesday            4  d_4   NaN  2011      2     5\n",
       "4 2011-02-02  Wednesday            5  d_5   NaN  2011      2     5"
      ]
     },
     "execution_count": 63,
     "metadata": {},
     "output_type": "execute_result"
    }
   ],
   "source": [
    "df_calendar.head()"
   ]
  },
  {
   "cell_type": "code",
   "execution_count": 64,
   "metadata": {},
   "outputs": [],
   "source": [
    "df_calendar2=df_calendar.copy()"
   ]
  },
  {
   "cell_type": "code",
   "execution_count": 65,
   "metadata": {},
   "outputs": [
    {
     "name": "stdout",
     "output_type": "stream",
     "text": [
      "<class 'pandas.core.frame.DataFrame'>\n",
      "RangeIndex: 1913 entries, 0 to 1912\n",
      "Data columns (total 8 columns):\n",
      " #   Column       Non-Null Count  Dtype         \n",
      "---  ------       --------------  -----         \n",
      " 0   date         1913 non-null   datetime64[ns]\n",
      " 1   weekday      1913 non-null   object        \n",
      " 2   weekday_int  1913 non-null   int64         \n",
      " 3   d            1913 non-null   object        \n",
      " 4   event        26 non-null     object        \n",
      " 5   year         1913 non-null   int32         \n",
      " 6   month        1913 non-null   int32         \n",
      " 7   week         1913 non-null   UInt32        \n",
      "dtypes: UInt32(1), datetime64[ns](1), int32(2), int64(1), object(3)\n",
      "memory usage: 99.1+ KB\n"
     ]
    }
   ],
   "source": [
    "df_calendar2.info()"
   ]
  },
  {
   "cell_type": "code",
   "execution_count": 66,
   "metadata": {},
   "outputs": [
    {
     "data": {
      "text/html": [
       "<div>\n",
       "<style scoped>\n",
       "    .dataframe tbody tr th:only-of-type {\n",
       "        vertical-align: middle;\n",
       "    }\n",
       "\n",
       "    .dataframe tbody tr th {\n",
       "        vertical-align: top;\n",
       "    }\n",
       "\n",
       "    .dataframe thead th {\n",
       "        text-align: right;\n",
       "    }\n",
       "</style>\n",
       "<table border=\"1\" class=\"dataframe\">\n",
       "  <thead>\n",
       "    <tr style=\"text-align: right;\">\n",
       "      <th></th>\n",
       "      <th>date</th>\n",
       "      <th>weekday</th>\n",
       "      <th>weekday_int</th>\n",
       "      <th>d</th>\n",
       "      <th>event</th>\n",
       "      <th>year</th>\n",
       "      <th>month</th>\n",
       "      <th>week</th>\n",
       "    </tr>\n",
       "  </thead>\n",
       "  <tbody>\n",
       "    <tr>\n",
       "      <th>0</th>\n",
       "      <td>2011-01-29</td>\n",
       "      <td>Saturday</td>\n",
       "      <td>1</td>\n",
       "      <td>d_1</td>\n",
       "      <td>NaN</td>\n",
       "      <td>2011</td>\n",
       "      <td>1</td>\n",
       "      <td>4</td>\n",
       "    </tr>\n",
       "    <tr>\n",
       "      <th>1</th>\n",
       "      <td>2011-01-30</td>\n",
       "      <td>Sunday</td>\n",
       "      <td>2</td>\n",
       "      <td>d_2</td>\n",
       "      <td>NaN</td>\n",
       "      <td>2011</td>\n",
       "      <td>1</td>\n",
       "      <td>4</td>\n",
       "    </tr>\n",
       "    <tr>\n",
       "      <th>2</th>\n",
       "      <td>2011-01-31</td>\n",
       "      <td>Monday</td>\n",
       "      <td>3</td>\n",
       "      <td>d_3</td>\n",
       "      <td>NaN</td>\n",
       "      <td>2011</td>\n",
       "      <td>1</td>\n",
       "      <td>5</td>\n",
       "    </tr>\n",
       "    <tr>\n",
       "      <th>3</th>\n",
       "      <td>2011-02-01</td>\n",
       "      <td>Tuesday</td>\n",
       "      <td>4</td>\n",
       "      <td>d_4</td>\n",
       "      <td>NaN</td>\n",
       "      <td>2011</td>\n",
       "      <td>2</td>\n",
       "      <td>5</td>\n",
       "    </tr>\n",
       "    <tr>\n",
       "      <th>4</th>\n",
       "      <td>2011-02-02</td>\n",
       "      <td>Wednesday</td>\n",
       "      <td>5</td>\n",
       "      <td>d_5</td>\n",
       "      <td>NaN</td>\n",
       "      <td>2011</td>\n",
       "      <td>2</td>\n",
       "      <td>5</td>\n",
       "    </tr>\n",
       "  </tbody>\n",
       "</table>\n",
       "</div>"
      ],
      "text/plain": [
       "        date    weekday  weekday_int    d event  year  month  week\n",
       "0 2011-01-29   Saturday            1  d_1   NaN  2011      1     4\n",
       "1 2011-01-30     Sunday            2  d_2   NaN  2011      1     4\n",
       "2 2011-01-31     Monday            3  d_3   NaN  2011      1     5\n",
       "3 2011-02-01    Tuesday            4  d_4   NaN  2011      2     5\n",
       "4 2011-02-02  Wednesday            5  d_5   NaN  2011      2     5"
      ]
     },
     "execution_count": 66,
     "metadata": {},
     "output_type": "execute_result"
    }
   ],
   "source": [
    "df_calendar2.head()"
   ]
  },
  {
   "cell_type": "code",
   "execution_count": 67,
   "metadata": {},
   "outputs": [
    {
     "name": "stdout",
     "output_type": "stream",
     "text": [
      "4\n"
     ]
    }
   ],
   "source": [
    "#Cambiamos la semana a entero, porque esta en float. \n",
    "df_calendar2['week']=df_calendar2['week'].astype(int)\n",
    "\n",
    "#Acceder al valor de la comlumna 'week' en la fila 0 utilizando la etiqeuta del indice\n",
    "valor_semana = df_calendar2.loc[0, 'week']\n",
    "print(valor_semana)"
   ]
  },
  {
   "cell_type": "code",
   "execution_count": 68,
   "metadata": {},
   "outputs": [
    {
     "name": "stdout",
     "output_type": "stream",
     "text": [
      "<class 'pandas.core.frame.DataFrame'>\n",
      "RangeIndex: 1913 entries, 0 to 1912\n",
      "Data columns (total 8 columns):\n",
      " #   Column       Non-Null Count  Dtype         \n",
      "---  ------       --------------  -----         \n",
      " 0   date         1913 non-null   datetime64[ns]\n",
      " 1   weekday      1913 non-null   object        \n",
      " 2   weekday_int  1913 non-null   int64         \n",
      " 3   d            1913 non-null   object        \n",
      " 4   event        26 non-null     object        \n",
      " 5   year         1913 non-null   int32         \n",
      " 6   month        1913 non-null   int32         \n",
      " 7   week         1913 non-null   int32         \n",
      "dtypes: datetime64[ns](1), int32(3), int64(1), object(3)\n",
      "memory usage: 97.3+ KB\n"
     ]
    }
   ],
   "source": [
    "df_calendar2.info()"
   ]
  },
  {
   "cell_type": "code",
   "execution_count": 69,
   "metadata": {},
   "outputs": [
    {
     "data": {
      "text/html": [
       "<div>\n",
       "<style scoped>\n",
       "    .dataframe tbody tr th:only-of-type {\n",
       "        vertical-align: middle;\n",
       "    }\n",
       "\n",
       "    .dataframe tbody tr th {\n",
       "        vertical-align: top;\n",
       "    }\n",
       "\n",
       "    .dataframe thead th {\n",
       "        text-align: right;\n",
       "    }\n",
       "</style>\n",
       "<table border=\"1\" class=\"dataframe\">\n",
       "  <thead>\n",
       "    <tr style=\"text-align: right;\">\n",
       "      <th></th>\n",
       "      <th>date</th>\n",
       "      <th>weekday</th>\n",
       "      <th>weekday_int</th>\n",
       "      <th>d</th>\n",
       "      <th>event</th>\n",
       "      <th>year</th>\n",
       "      <th>month</th>\n",
       "      <th>week</th>\n",
       "    </tr>\n",
       "  </thead>\n",
       "  <tbody>\n",
       "    <tr>\n",
       "      <th>0</th>\n",
       "      <td>2011-01-29</td>\n",
       "      <td>Saturday</td>\n",
       "      <td>1</td>\n",
       "      <td>d_1</td>\n",
       "      <td>NaN</td>\n",
       "      <td>2011</td>\n",
       "      <td>1</td>\n",
       "      <td>4</td>\n",
       "    </tr>\n",
       "    <tr>\n",
       "      <th>1</th>\n",
       "      <td>2011-01-30</td>\n",
       "      <td>Sunday</td>\n",
       "      <td>2</td>\n",
       "      <td>d_2</td>\n",
       "      <td>NaN</td>\n",
       "      <td>2011</td>\n",
       "      <td>1</td>\n",
       "      <td>4</td>\n",
       "    </tr>\n",
       "    <tr>\n",
       "      <th>2</th>\n",
       "      <td>2011-01-31</td>\n",
       "      <td>Monday</td>\n",
       "      <td>3</td>\n",
       "      <td>d_3</td>\n",
       "      <td>NaN</td>\n",
       "      <td>2011</td>\n",
       "      <td>1</td>\n",
       "      <td>5</td>\n",
       "    </tr>\n",
       "    <tr>\n",
       "      <th>3</th>\n",
       "      <td>2011-02-01</td>\n",
       "      <td>Tuesday</td>\n",
       "      <td>4</td>\n",
       "      <td>d_4</td>\n",
       "      <td>NaN</td>\n",
       "      <td>2011</td>\n",
       "      <td>2</td>\n",
       "      <td>5</td>\n",
       "    </tr>\n",
       "    <tr>\n",
       "      <th>4</th>\n",
       "      <td>2011-02-02</td>\n",
       "      <td>Wednesday</td>\n",
       "      <td>5</td>\n",
       "      <td>d_5</td>\n",
       "      <td>NaN</td>\n",
       "      <td>2011</td>\n",
       "      <td>2</td>\n",
       "      <td>5</td>\n",
       "    </tr>\n",
       "  </tbody>\n",
       "</table>\n",
       "</div>"
      ],
      "text/plain": [
       "        date    weekday  weekday_int    d event  year  month  week\n",
       "0 2011-01-29   Saturday            1  d_1   NaN  2011      1     4\n",
       "1 2011-01-30     Sunday            2  d_2   NaN  2011      1     4\n",
       "2 2011-01-31     Monday            3  d_3   NaN  2011      1     5\n",
       "3 2011-02-01    Tuesday            4  d_4   NaN  2011      2     5\n",
       "4 2011-02-02  Wednesday            5  d_5   NaN  2011      2     5"
      ]
     },
     "execution_count": 69,
     "metadata": {},
     "output_type": "execute_result"
    }
   ],
   "source": [
    "df_calendar2.head()"
   ]
  },
  {
   "cell_type": "code",
   "execution_count": 70,
   "metadata": {},
   "outputs": [
    {
     "name": "stderr",
     "output_type": "stream",
     "text": [
      "C:\\Users\\gavelar\\AppData\\Local\\Temp\\ipykernel_21284\\319858596.py:3: FutureWarning: Setting an item of incompatible dtype is deprecated and will raise an error in a future version of pandas. Value '04' has dtype incompatible with int32, please explicitly cast to a compatible dtype first.\n",
      "  df_calendar2.loc[i, 'week']='0'+str(df_calendar2.loc[i, 'week'])\n"
     ]
    },
    {
     "data": {
      "text/html": [
       "<div>\n",
       "<style scoped>\n",
       "    .dataframe tbody tr th:only-of-type {\n",
       "        vertical-align: middle;\n",
       "    }\n",
       "\n",
       "    .dataframe tbody tr th {\n",
       "        vertical-align: top;\n",
       "    }\n",
       "\n",
       "    .dataframe thead th {\n",
       "        text-align: right;\n",
       "    }\n",
       "</style>\n",
       "<table border=\"1\" class=\"dataframe\">\n",
       "  <thead>\n",
       "    <tr style=\"text-align: right;\">\n",
       "      <th></th>\n",
       "      <th>date</th>\n",
       "      <th>weekday</th>\n",
       "      <th>weekday_int</th>\n",
       "      <th>d</th>\n",
       "      <th>event</th>\n",
       "      <th>year</th>\n",
       "      <th>month</th>\n",
       "      <th>week</th>\n",
       "      <th>yearweek</th>\n",
       "    </tr>\n",
       "  </thead>\n",
       "  <tbody>\n",
       "    <tr>\n",
       "      <th>0</th>\n",
       "      <td>2011-01-29</td>\n",
       "      <td>Saturday</td>\n",
       "      <td>1</td>\n",
       "      <td>d_1</td>\n",
       "      <td>NaN</td>\n",
       "      <td>2011</td>\n",
       "      <td>1</td>\n",
       "      <td>04</td>\n",
       "      <td>201104</td>\n",
       "    </tr>\n",
       "    <tr>\n",
       "      <th>1</th>\n",
       "      <td>2011-01-30</td>\n",
       "      <td>Sunday</td>\n",
       "      <td>2</td>\n",
       "      <td>d_2</td>\n",
       "      <td>NaN</td>\n",
       "      <td>2011</td>\n",
       "      <td>1</td>\n",
       "      <td>04</td>\n",
       "      <td>201104</td>\n",
       "    </tr>\n",
       "    <tr>\n",
       "      <th>2</th>\n",
       "      <td>2011-01-31</td>\n",
       "      <td>Monday</td>\n",
       "      <td>3</td>\n",
       "      <td>d_3</td>\n",
       "      <td>NaN</td>\n",
       "      <td>2011</td>\n",
       "      <td>1</td>\n",
       "      <td>05</td>\n",
       "      <td>201105</td>\n",
       "    </tr>\n",
       "    <tr>\n",
       "      <th>3</th>\n",
       "      <td>2011-02-01</td>\n",
       "      <td>Tuesday</td>\n",
       "      <td>4</td>\n",
       "      <td>d_4</td>\n",
       "      <td>NaN</td>\n",
       "      <td>2011</td>\n",
       "      <td>2</td>\n",
       "      <td>05</td>\n",
       "      <td>201105</td>\n",
       "    </tr>\n",
       "    <tr>\n",
       "      <th>4</th>\n",
       "      <td>2011-02-02</td>\n",
       "      <td>Wednesday</td>\n",
       "      <td>5</td>\n",
       "      <td>d_5</td>\n",
       "      <td>NaN</td>\n",
       "      <td>2011</td>\n",
       "      <td>2</td>\n",
       "      <td>05</td>\n",
       "      <td>201105</td>\n",
       "    </tr>\n",
       "  </tbody>\n",
       "</table>\n",
       "</div>"
      ],
      "text/plain": [
       "        date    weekday  weekday_int    d event  year  month week  yearweek\n",
       "0 2011-01-29   Saturday            1  d_1   NaN  2011      1   04    201104\n",
       "1 2011-01-30     Sunday            2  d_2   NaN  2011      1   04    201104\n",
       "2 2011-01-31     Monday            3  d_3   NaN  2011      1   05    201105\n",
       "3 2011-02-01    Tuesday            4  d_4   NaN  2011      2   05    201105\n",
       "4 2011-02-02  Wednesday            5  d_5   NaN  2011      2   05    201105"
      ]
     },
     "execution_count": 70,
     "metadata": {},
     "output_type": "execute_result"
    }
   ],
   "source": [
    "for i in range(len(df_calendar2)):\n",
    "    if int(df_calendar2.loc[i, 'week'])<10:\n",
    "        df_calendar2.loc[i, 'week']='0'+str(df_calendar2.loc[i, 'week'])\n",
    "\n",
    "df_calendar2['week']=df_calendar2['week'].astype(str)\n",
    "\n",
    "df_calendar2['yearweek']=df_calendar2['year'].astype(str)+df_calendar2['week']\n",
    "\n",
    "df_calendar2['yearweek']=df_calendar2['yearweek'].astype(int)\n",
    "\n",
    "df_calendar2.head()"
   ]
  },
  {
   "cell_type": "code",
   "execution_count": 71,
   "metadata": {},
   "outputs": [
    {
     "name": "stdout",
     "output_type": "stream",
     "text": [
      "<class 'pandas.core.frame.DataFrame'>\n",
      "RangeIndex: 1913 entries, 0 to 1912\n",
      "Data columns (total 9 columns):\n",
      " #   Column       Non-Null Count  Dtype         \n",
      "---  ------       --------------  -----         \n",
      " 0   date         1913 non-null   datetime64[ns]\n",
      " 1   weekday      1913 non-null   object        \n",
      " 2   weekday_int  1913 non-null   int64         \n",
      " 3   d            1913 non-null   object        \n",
      " 4   event        26 non-null     object        \n",
      " 5   year         1913 non-null   int32         \n",
      " 6   month        1913 non-null   int32         \n",
      " 7   week         1913 non-null   object        \n",
      " 8   yearweek     1913 non-null   int32         \n",
      "dtypes: datetime64[ns](1), int32(3), int64(1), object(4)\n",
      "memory usage: 112.2+ KB\n"
     ]
    }
   ],
   "source": [
    "df_calendar2.info()"
   ]
  },
  {
   "cell_type": "code",
   "execution_count": 72,
   "metadata": {},
   "outputs": [],
   "source": [
    "#eliminamos columna d y la date"
   ]
  },
  {
   "cell_type": "markdown",
   "metadata": {},
   "source": [
    "#Tabla Item_prices"
   ]
  },
  {
   "cell_type": "code",
   "execution_count": 76,
   "metadata": {},
   "outputs": [
    {
     "name": "stdout",
     "output_type": "stream",
     "text": [
      "<class 'pandas.core.frame.DataFrame'>\n",
      "RangeIndex: 6965706 entries, 0 to 6965705\n",
      "Data columns (total 5 columns):\n",
      " #   Column      Dtype  \n",
      "---  ------      -----  \n",
      " 0   item        object \n",
      " 1   category    object \n",
      " 2   store_code  object \n",
      " 3   yearweek    float64\n",
      " 4   sell_price  float64\n",
      "dtypes: float64(2), object(3)\n",
      "memory usage: 265.7+ MB\n"
     ]
    }
   ],
   "source": [
    "df_prices.info()"
   ]
  },
  {
   "cell_type": "code",
   "execution_count": 78,
   "metadata": {},
   "outputs": [],
   "source": [
    "df_prices2=df_prices.copy()"
   ]
  },
  {
   "cell_type": "code",
   "execution_count": null,
   "metadata": {},
   "outputs": [],
   "source": [
    "# Filtrar registrados donde 'yearweek'es nulo"
   ]
  },
  {
   "cell_type": "code",
   "execution_count": 80,
   "metadata": {},
   "outputs": [
    {
     "data": {
      "text/html": [
       "<div>\n",
       "<style scoped>\n",
       "    .dataframe tbody tr th:only-of-type {\n",
       "        vertical-align: middle;\n",
       "    }\n",
       "\n",
       "    .dataframe tbody tr th {\n",
       "        vertical-align: top;\n",
       "    }\n",
       "\n",
       "    .dataframe thead th {\n",
       "        text-align: right;\n",
       "    }\n",
       "</style>\n",
       "<table border=\"1\" class=\"dataframe\">\n",
       "  <thead>\n",
       "    <tr style=\"text-align: right;\">\n",
       "      <th></th>\n",
       "      <th>item</th>\n",
       "      <th>category</th>\n",
       "      <th>store_code</th>\n",
       "      <th>yearweek</th>\n",
       "      <th>sell_price</th>\n",
       "    </tr>\n",
       "  </thead>\n",
       "  <tbody>\n",
       "    <tr>\n",
       "      <th>149</th>\n",
       "      <td>ACCESORIES_1_001</td>\n",
       "      <td>ACCESORIES</td>\n",
       "      <td>NYC_1</td>\n",
       "      <td>NaN</td>\n",
       "      <td>11.1454</td>\n",
       "    </tr>\n",
       "    <tr>\n",
       "      <th>150</th>\n",
       "      <td>ACCESORIES_1_001</td>\n",
       "      <td>ACCESORIES</td>\n",
       "      <td>NYC_1</td>\n",
       "      <td>NaN</td>\n",
       "      <td>11.1454</td>\n",
       "    </tr>\n",
       "    <tr>\n",
       "      <th>151</th>\n",
       "      <td>ACCESORIES_1_001</td>\n",
       "      <td>ACCESORIES</td>\n",
       "      <td>NYC_1</td>\n",
       "      <td>NaN</td>\n",
       "      <td>11.1454</td>\n",
       "    </tr>\n",
       "    <tr>\n",
       "      <th>152</th>\n",
       "      <td>ACCESORIES_1_001</td>\n",
       "      <td>ACCESORIES</td>\n",
       "      <td>NYC_1</td>\n",
       "      <td>NaN</td>\n",
       "      <td>11.1454</td>\n",
       "    </tr>\n",
       "    <tr>\n",
       "      <th>153</th>\n",
       "      <td>ACCESORIES_1_001</td>\n",
       "      <td>ACCESORIES</td>\n",
       "      <td>NYC_1</td>\n",
       "      <td>NaN</td>\n",
       "      <td>11.1454</td>\n",
       "    </tr>\n",
       "  </tbody>\n",
       "</table>\n",
       "</div>"
      ],
      "text/plain": [
       "                 item    category store_code  yearweek  sell_price\n",
       "149  ACCESORIES_1_001  ACCESORIES      NYC_1       NaN     11.1454\n",
       "150  ACCESORIES_1_001  ACCESORIES      NYC_1       NaN     11.1454\n",
       "151  ACCESORIES_1_001  ACCESORIES      NYC_1       NaN     11.1454\n",
       "152  ACCESORIES_1_001  ACCESORIES      NYC_1       NaN     11.1454\n",
       "153  ACCESORIES_1_001  ACCESORIES      NYC_1       NaN     11.1454"
      ]
     },
     "execution_count": 80,
     "metadata": {},
     "output_type": "execute_result"
    }
   ],
   "source": [
    "registros_nulos = df_prices2.loc[df_prices2['yearweek'].isnull()]\n",
    "registros_nulos.head()"
   ]
  },
  {
   "cell_type": "code",
   "execution_count": null,
   "metadata": {},
   "outputs": [],
   "source": [
    "#Rellenamos los registros donde 'yearweek' es nulo"
   ]
  },
  {
   "cell_type": "code",
   "execution_count": 81,
   "metadata": {},
   "outputs": [
    {
     "data": {
      "text/html": [
       "<div>\n",
       "<style scoped>\n",
       "    .dataframe tbody tr th:only-of-type {\n",
       "        vertical-align: middle;\n",
       "    }\n",
       "\n",
       "    .dataframe tbody tr th {\n",
       "        vertical-align: top;\n",
       "    }\n",
       "\n",
       "    .dataframe thead th {\n",
       "        text-align: right;\n",
       "    }\n",
       "</style>\n",
       "<table border=\"1\" class=\"dataframe\">\n",
       "  <thead>\n",
       "    <tr style=\"text-align: right;\">\n",
       "      <th></th>\n",
       "      <th>item</th>\n",
       "      <th>category</th>\n",
       "      <th>store_code</th>\n",
       "      <th>yearweek</th>\n",
       "      <th>sell_price</th>\n",
       "    </tr>\n",
       "  </thead>\n",
       "  <tbody>\n",
       "    <tr>\n",
       "      <th>149</th>\n",
       "      <td>ACCESORIES_1_001</td>\n",
       "      <td>ACCESORIES</td>\n",
       "      <td>NYC_1</td>\n",
       "      <td>NaN</td>\n",
       "      <td>11.1454</td>\n",
       "    </tr>\n",
       "    <tr>\n",
       "      <th>150</th>\n",
       "      <td>ACCESORIES_1_001</td>\n",
       "      <td>ACCESORIES</td>\n",
       "      <td>NYC_1</td>\n",
       "      <td>NaN</td>\n",
       "      <td>11.1454</td>\n",
       "    </tr>\n",
       "    <tr>\n",
       "      <th>151</th>\n",
       "      <td>ACCESORIES_1_001</td>\n",
       "      <td>ACCESORIES</td>\n",
       "      <td>NYC_1</td>\n",
       "      <td>NaN</td>\n",
       "      <td>11.1454</td>\n",
       "    </tr>\n",
       "    <tr>\n",
       "      <th>152</th>\n",
       "      <td>ACCESORIES_1_001</td>\n",
       "      <td>ACCESORIES</td>\n",
       "      <td>NYC_1</td>\n",
       "      <td>NaN</td>\n",
       "      <td>11.1454</td>\n",
       "    </tr>\n",
       "    <tr>\n",
       "      <th>153</th>\n",
       "      <td>ACCESORIES_1_001</td>\n",
       "      <td>ACCESORIES</td>\n",
       "      <td>NYC_1</td>\n",
       "      <td>NaN</td>\n",
       "      <td>11.1454</td>\n",
       "    </tr>\n",
       "  </tbody>\n",
       "</table>\n",
       "</div>"
      ],
      "text/plain": [
       "                 item    category store_code  yearweek  sell_price\n",
       "149  ACCESORIES_1_001  ACCESORIES      NYC_1       NaN     11.1454\n",
       "150  ACCESORIES_1_001  ACCESORIES      NYC_1       NaN     11.1454\n",
       "151  ACCESORIES_1_001  ACCESORIES      NYC_1       NaN     11.1454\n",
       "152  ACCESORIES_1_001  ACCESORIES      NYC_1       NaN     11.1454\n",
       "153  ACCESORIES_1_001  ACCESORIES      NYC_1       NaN     11.1454"
      ]
     },
     "execution_count": 81,
     "metadata": {},
     "output_type": "execute_result"
    }
   ],
   "source": [
    "registros_nulos = df_prices2.loc[df_prices2['yearweek'].isnull()]\n",
    "registros_nulos.head()"
   ]
  },
  {
   "cell_type": "code",
   "execution_count": 82,
   "metadata": {},
   "outputs": [],
   "source": [
    "# Rellenamos los registros cuyo yearweek is null\n",
    "df_prices2['yearweek'] = df_prices2['yearweek'].fillna(0).astype(int)"
   ]
  },
  {
   "cell_type": "code",
   "execution_count": 83,
   "metadata": {},
   "outputs": [],
   "source": [
    "df_prices2['yearweek']=df_prices2['yearweek'].astype(int)"
   ]
  },
  {
   "cell_type": "code",
   "execution_count": 84,
   "metadata": {},
   "outputs": [
    {
     "data": {
      "text/html": [
       "<div>\n",
       "<style scoped>\n",
       "    .dataframe tbody tr th:only-of-type {\n",
       "        vertical-align: middle;\n",
       "    }\n",
       "\n",
       "    .dataframe tbody tr th {\n",
       "        vertical-align: top;\n",
       "    }\n",
       "\n",
       "    .dataframe thead th {\n",
       "        text-align: right;\n",
       "    }\n",
       "</style>\n",
       "<table border=\"1\" class=\"dataframe\">\n",
       "  <thead>\n",
       "    <tr style=\"text-align: right;\">\n",
       "      <th></th>\n",
       "      <th>item</th>\n",
       "      <th>category</th>\n",
       "      <th>store_code</th>\n",
       "      <th>yearweek</th>\n",
       "      <th>sell_price</th>\n",
       "    </tr>\n",
       "  </thead>\n",
       "  <tbody>\n",
       "    <tr>\n",
       "      <th>0</th>\n",
       "      <td>ACCESORIES_1_001</td>\n",
       "      <td>ACCESORIES</td>\n",
       "      <td>NYC_1</td>\n",
       "      <td>201328</td>\n",
       "      <td>12.7414</td>\n",
       "    </tr>\n",
       "    <tr>\n",
       "      <th>1</th>\n",
       "      <td>ACCESORIES_1_001</td>\n",
       "      <td>ACCESORIES</td>\n",
       "      <td>NYC_1</td>\n",
       "      <td>201329</td>\n",
       "      <td>12.7414</td>\n",
       "    </tr>\n",
       "    <tr>\n",
       "      <th>2</th>\n",
       "      <td>ACCESORIES_1_001</td>\n",
       "      <td>ACCESORIES</td>\n",
       "      <td>NYC_1</td>\n",
       "      <td>201330</td>\n",
       "      <td>10.9858</td>\n",
       "    </tr>\n",
       "    <tr>\n",
       "      <th>3</th>\n",
       "      <td>ACCESORIES_1_001</td>\n",
       "      <td>ACCESORIES</td>\n",
       "      <td>NYC_1</td>\n",
       "      <td>201331</td>\n",
       "      <td>10.9858</td>\n",
       "    </tr>\n",
       "    <tr>\n",
       "      <th>4</th>\n",
       "      <td>ACCESORIES_1_001</td>\n",
       "      <td>ACCESORIES</td>\n",
       "      <td>NYC_1</td>\n",
       "      <td>201332</td>\n",
       "      <td>10.9858</td>\n",
       "    </tr>\n",
       "  </tbody>\n",
       "</table>\n",
       "</div>"
      ],
      "text/plain": [
       "               item    category store_code  yearweek  sell_price\n",
       "0  ACCESORIES_1_001  ACCESORIES      NYC_1    201328     12.7414\n",
       "1  ACCESORIES_1_001  ACCESORIES      NYC_1    201329     12.7414\n",
       "2  ACCESORIES_1_001  ACCESORIES      NYC_1    201330     10.9858\n",
       "3  ACCESORIES_1_001  ACCESORIES      NYC_1    201331     10.9858\n",
       "4  ACCESORIES_1_001  ACCESORIES      NYC_1    201332     10.9858"
      ]
     },
     "execution_count": 84,
     "metadata": {},
     "output_type": "execute_result"
    }
   ],
   "source": [
    "df_prices2.head()"
   ]
  },
  {
   "cell_type": "code",
   "execution_count": null,
   "metadata": {},
   "outputs": [],
   "source": [
    "#Analizamos tabla Ventas"
   ]
  },
  {
   "cell_type": "code",
   "execution_count": 85,
   "metadata": {},
   "outputs": [
    {
     "name": "stdout",
     "output_type": "stream",
     "text": [
      "<class 'pandas.core.frame.DataFrame'>\n",
      "RangeIndex: 30490 entries, 0 to 30489\n",
      "Columns: 1920 entries, id to d_1913\n",
      "dtypes: int64(1913), object(7)\n",
      "memory usage: 446.6+ MB\n"
     ]
    }
   ],
   "source": [
    "df_sales.info()"
   ]
  },
  {
   "cell_type": "code",
   "execution_count": 86,
   "metadata": {},
   "outputs": [
    {
     "data": {
      "text/html": [
       "<div>\n",
       "<style scoped>\n",
       "    .dataframe tbody tr th:only-of-type {\n",
       "        vertical-align: middle;\n",
       "    }\n",
       "\n",
       "    .dataframe tbody tr th {\n",
       "        vertical-align: top;\n",
       "    }\n",
       "\n",
       "    .dataframe thead th {\n",
       "        text-align: right;\n",
       "    }\n",
       "</style>\n",
       "<table border=\"1\" class=\"dataframe\">\n",
       "  <thead>\n",
       "    <tr style=\"text-align: right;\">\n",
       "      <th></th>\n",
       "      <th>d_1</th>\n",
       "      <th>d_2</th>\n",
       "      <th>d_3</th>\n",
       "      <th>d_4</th>\n",
       "      <th>d_5</th>\n",
       "      <th>d_6</th>\n",
       "      <th>d_7</th>\n",
       "      <th>d_8</th>\n",
       "      <th>d_9</th>\n",
       "      <th>d_10</th>\n",
       "      <th>...</th>\n",
       "      <th>d_1904</th>\n",
       "      <th>d_1905</th>\n",
       "      <th>d_1906</th>\n",
       "      <th>d_1907</th>\n",
       "      <th>d_1908</th>\n",
       "      <th>d_1909</th>\n",
       "      <th>d_1910</th>\n",
       "      <th>d_1911</th>\n",
       "      <th>d_1912</th>\n",
       "      <th>d_1913</th>\n",
       "    </tr>\n",
       "  </thead>\n",
       "  <tbody>\n",
       "    <tr>\n",
       "      <th>count</th>\n",
       "      <td>30490.000000</td>\n",
       "      <td>30490.000000</td>\n",
       "      <td>30490.000000</td>\n",
       "      <td>30490.000000</td>\n",
       "      <td>30490.000000</td>\n",
       "      <td>30490.000000</td>\n",
       "      <td>30490.000000</td>\n",
       "      <td>30490.000000</td>\n",
       "      <td>30490.000000</td>\n",
       "      <td>30490.000000</td>\n",
       "      <td>...</td>\n",
       "      <td>30490.000000</td>\n",
       "      <td>30490.000000</td>\n",
       "      <td>30490.000000</td>\n",
       "      <td>30490.000000</td>\n",
       "      <td>30490.000000</td>\n",
       "      <td>30490.000000</td>\n",
       "      <td>30490.000000</td>\n",
       "      <td>30490.000000</td>\n",
       "      <td>30490.000000</td>\n",
       "      <td>30490.000000</td>\n",
       "    </tr>\n",
       "    <tr>\n",
       "      <th>mean</th>\n",
       "      <td>1.070220</td>\n",
       "      <td>1.041292</td>\n",
       "      <td>0.780026</td>\n",
       "      <td>0.833454</td>\n",
       "      <td>0.627944</td>\n",
       "      <td>0.958052</td>\n",
       "      <td>0.918662</td>\n",
       "      <td>1.244080</td>\n",
       "      <td>1.073663</td>\n",
       "      <td>0.838701</td>\n",
       "      <td>...</td>\n",
       "      <td>1.370581</td>\n",
       "      <td>1.586159</td>\n",
       "      <td>1.693670</td>\n",
       "      <td>1.248245</td>\n",
       "      <td>1.232207</td>\n",
       "      <td>1.159167</td>\n",
       "      <td>1.149000</td>\n",
       "      <td>1.328862</td>\n",
       "      <td>1.605838</td>\n",
       "      <td>1.633158</td>\n",
       "    </tr>\n",
       "    <tr>\n",
       "      <th>std</th>\n",
       "      <td>5.126689</td>\n",
       "      <td>5.365468</td>\n",
       "      <td>3.667454</td>\n",
       "      <td>4.415141</td>\n",
       "      <td>3.379344</td>\n",
       "      <td>4.785947</td>\n",
       "      <td>5.059495</td>\n",
       "      <td>6.617729</td>\n",
       "      <td>5.917204</td>\n",
       "      <td>4.206199</td>\n",
       "      <td>...</td>\n",
       "      <td>3.740017</td>\n",
       "      <td>4.097191</td>\n",
       "      <td>4.359809</td>\n",
       "      <td>3.276925</td>\n",
       "      <td>3.125471</td>\n",
       "      <td>2.876026</td>\n",
       "      <td>2.950364</td>\n",
       "      <td>3.358012</td>\n",
       "      <td>4.089422</td>\n",
       "      <td>3.812248</td>\n",
       "    </tr>\n",
       "    <tr>\n",
       "      <th>min</th>\n",
       "      <td>0.000000</td>\n",
       "      <td>0.000000</td>\n",
       "      <td>0.000000</td>\n",
       "      <td>0.000000</td>\n",
       "      <td>0.000000</td>\n",
       "      <td>0.000000</td>\n",
       "      <td>0.000000</td>\n",
       "      <td>0.000000</td>\n",
       "      <td>0.000000</td>\n",
       "      <td>0.000000</td>\n",
       "      <td>...</td>\n",
       "      <td>0.000000</td>\n",
       "      <td>0.000000</td>\n",
       "      <td>0.000000</td>\n",
       "      <td>0.000000</td>\n",
       "      <td>0.000000</td>\n",
       "      <td>0.000000</td>\n",
       "      <td>0.000000</td>\n",
       "      <td>0.000000</td>\n",
       "      <td>0.000000</td>\n",
       "      <td>0.000000</td>\n",
       "    </tr>\n",
       "    <tr>\n",
       "      <th>25%</th>\n",
       "      <td>0.000000</td>\n",
       "      <td>0.000000</td>\n",
       "      <td>0.000000</td>\n",
       "      <td>0.000000</td>\n",
       "      <td>0.000000</td>\n",
       "      <td>0.000000</td>\n",
       "      <td>0.000000</td>\n",
       "      <td>0.000000</td>\n",
       "      <td>0.000000</td>\n",
       "      <td>0.000000</td>\n",
       "      <td>...</td>\n",
       "      <td>0.000000</td>\n",
       "      <td>0.000000</td>\n",
       "      <td>0.000000</td>\n",
       "      <td>0.000000</td>\n",
       "      <td>0.000000</td>\n",
       "      <td>0.000000</td>\n",
       "      <td>0.000000</td>\n",
       "      <td>0.000000</td>\n",
       "      <td>0.000000</td>\n",
       "      <td>0.000000</td>\n",
       "    </tr>\n",
       "    <tr>\n",
       "      <th>50%</th>\n",
       "      <td>0.000000</td>\n",
       "      <td>0.000000</td>\n",
       "      <td>0.000000</td>\n",
       "      <td>0.000000</td>\n",
       "      <td>0.000000</td>\n",
       "      <td>0.000000</td>\n",
       "      <td>0.000000</td>\n",
       "      <td>0.000000</td>\n",
       "      <td>0.000000</td>\n",
       "      <td>0.000000</td>\n",
       "      <td>...</td>\n",
       "      <td>0.000000</td>\n",
       "      <td>0.000000</td>\n",
       "      <td>0.000000</td>\n",
       "      <td>0.000000</td>\n",
       "      <td>0.000000</td>\n",
       "      <td>0.000000</td>\n",
       "      <td>0.000000</td>\n",
       "      <td>0.000000</td>\n",
       "      <td>0.000000</td>\n",
       "      <td>0.000000</td>\n",
       "    </tr>\n",
       "    <tr>\n",
       "      <th>75%</th>\n",
       "      <td>0.000000</td>\n",
       "      <td>0.000000</td>\n",
       "      <td>0.000000</td>\n",
       "      <td>0.000000</td>\n",
       "      <td>0.000000</td>\n",
       "      <td>0.000000</td>\n",
       "      <td>0.000000</td>\n",
       "      <td>0.000000</td>\n",
       "      <td>0.000000</td>\n",
       "      <td>0.000000</td>\n",
       "      <td>...</td>\n",
       "      <td>1.000000</td>\n",
       "      <td>2.000000</td>\n",
       "      <td>2.000000</td>\n",
       "      <td>1.000000</td>\n",
       "      <td>1.000000</td>\n",
       "      <td>1.000000</td>\n",
       "      <td>1.000000</td>\n",
       "      <td>1.000000</td>\n",
       "      <td>2.000000</td>\n",
       "      <td>2.000000</td>\n",
       "    </tr>\n",
       "    <tr>\n",
       "      <th>max</th>\n",
       "      <td>360.000000</td>\n",
       "      <td>436.000000</td>\n",
       "      <td>207.000000</td>\n",
       "      <td>323.000000</td>\n",
       "      <td>296.000000</td>\n",
       "      <td>314.000000</td>\n",
       "      <td>316.000000</td>\n",
       "      <td>370.000000</td>\n",
       "      <td>385.000000</td>\n",
       "      <td>353.000000</td>\n",
       "      <td>...</td>\n",
       "      <td>129.000000</td>\n",
       "      <td>160.000000</td>\n",
       "      <td>204.000000</td>\n",
       "      <td>98.000000</td>\n",
       "      <td>100.000000</td>\n",
       "      <td>88.000000</td>\n",
       "      <td>77.000000</td>\n",
       "      <td>141.000000</td>\n",
       "      <td>171.000000</td>\n",
       "      <td>130.000000</td>\n",
       "    </tr>\n",
       "  </tbody>\n",
       "</table>\n",
       "<p>8 rows × 1913 columns</p>\n",
       "</div>"
      ],
      "text/plain": [
       "                d_1           d_2           d_3           d_4           d_5  \\\n",
       "count  30490.000000  30490.000000  30490.000000  30490.000000  30490.000000   \n",
       "mean       1.070220      1.041292      0.780026      0.833454      0.627944   \n",
       "std        5.126689      5.365468      3.667454      4.415141      3.379344   \n",
       "min        0.000000      0.000000      0.000000      0.000000      0.000000   \n",
       "25%        0.000000      0.000000      0.000000      0.000000      0.000000   \n",
       "50%        0.000000      0.000000      0.000000      0.000000      0.000000   \n",
       "75%        0.000000      0.000000      0.000000      0.000000      0.000000   \n",
       "max      360.000000    436.000000    207.000000    323.000000    296.000000   \n",
       "\n",
       "                d_6           d_7           d_8           d_9          d_10  \\\n",
       "count  30490.000000  30490.000000  30490.000000  30490.000000  30490.000000   \n",
       "mean       0.958052      0.918662      1.244080      1.073663      0.838701   \n",
       "std        4.785947      5.059495      6.617729      5.917204      4.206199   \n",
       "min        0.000000      0.000000      0.000000      0.000000      0.000000   \n",
       "25%        0.000000      0.000000      0.000000      0.000000      0.000000   \n",
       "50%        0.000000      0.000000      0.000000      0.000000      0.000000   \n",
       "75%        0.000000      0.000000      0.000000      0.000000      0.000000   \n",
       "max      314.000000    316.000000    370.000000    385.000000    353.000000   \n",
       "\n",
       "       ...        d_1904        d_1905        d_1906        d_1907  \\\n",
       "count  ...  30490.000000  30490.000000  30490.000000  30490.000000   \n",
       "mean   ...      1.370581      1.586159      1.693670      1.248245   \n",
       "std    ...      3.740017      4.097191      4.359809      3.276925   \n",
       "min    ...      0.000000      0.000000      0.000000      0.000000   \n",
       "25%    ...      0.000000      0.000000      0.000000      0.000000   \n",
       "50%    ...      0.000000      0.000000      0.000000      0.000000   \n",
       "75%    ...      1.000000      2.000000      2.000000      1.000000   \n",
       "max    ...    129.000000    160.000000    204.000000     98.000000   \n",
       "\n",
       "             d_1908        d_1909        d_1910        d_1911        d_1912  \\\n",
       "count  30490.000000  30490.000000  30490.000000  30490.000000  30490.000000   \n",
       "mean       1.232207      1.159167      1.149000      1.328862      1.605838   \n",
       "std        3.125471      2.876026      2.950364      3.358012      4.089422   \n",
       "min        0.000000      0.000000      0.000000      0.000000      0.000000   \n",
       "25%        0.000000      0.000000      0.000000      0.000000      0.000000   \n",
       "50%        0.000000      0.000000      0.000000      0.000000      0.000000   \n",
       "75%        1.000000      1.000000      1.000000      1.000000      2.000000   \n",
       "max      100.000000     88.000000     77.000000    141.000000    171.000000   \n",
       "\n",
       "             d_1913  \n",
       "count  30490.000000  \n",
       "mean       1.633158  \n",
       "std        3.812248  \n",
       "min        0.000000  \n",
       "25%        0.000000  \n",
       "50%        0.000000  \n",
       "75%        2.000000  \n",
       "max      130.000000  \n",
       "\n",
       "[8 rows x 1913 columns]"
      ]
     },
     "execution_count": 86,
     "metadata": {},
     "output_type": "execute_result"
    }
   ],
   "source": [
    "df_sales.describe()"
   ]
  },
  {
   "cell_type": "code",
   "execution_count": 88,
   "metadata": {},
   "outputs": [
    {
     "data": {
      "text/html": [
       "<div>\n",
       "<style scoped>\n",
       "    .dataframe tbody tr th:only-of-type {\n",
       "        vertical-align: middle;\n",
       "    }\n",
       "\n",
       "    .dataframe tbody tr th {\n",
       "        vertical-align: top;\n",
       "    }\n",
       "\n",
       "    .dataframe thead th {\n",
       "        text-align: right;\n",
       "    }\n",
       "</style>\n",
       "<table border=\"1\" class=\"dataframe\">\n",
       "  <thead>\n",
       "    <tr style=\"text-align: right;\">\n",
       "      <th></th>\n",
       "      <th>id</th>\n",
       "      <th>item</th>\n",
       "      <th>category</th>\n",
       "      <th>department</th>\n",
       "      <th>store</th>\n",
       "      <th>store_code</th>\n",
       "      <th>region</th>\n",
       "      <th>d</th>\n",
       "      <th>sales</th>\n",
       "    </tr>\n",
       "  </thead>\n",
       "  <tbody>\n",
       "    <tr>\n",
       "      <th>0</th>\n",
       "      <td>ACCESORIES_1_001_NYC_1</td>\n",
       "      <td>ACCESORIES_1_001</td>\n",
       "      <td>ACCESORIES</td>\n",
       "      <td>ACCESORIES_1</td>\n",
       "      <td>Greenwich_Village</td>\n",
       "      <td>NYC_1</td>\n",
       "      <td>New York</td>\n",
       "      <td>d_1</td>\n",
       "      <td>0</td>\n",
       "    </tr>\n",
       "    <tr>\n",
       "      <th>1</th>\n",
       "      <td>ACCESORIES_1_002_NYC_1</td>\n",
       "      <td>ACCESORIES_1_002</td>\n",
       "      <td>ACCESORIES</td>\n",
       "      <td>ACCESORIES_1</td>\n",
       "      <td>Greenwich_Village</td>\n",
       "      <td>NYC_1</td>\n",
       "      <td>New York</td>\n",
       "      <td>d_1</td>\n",
       "      <td>0</td>\n",
       "    </tr>\n",
       "    <tr>\n",
       "      <th>2</th>\n",
       "      <td>ACCESORIES_1_003_NYC_1</td>\n",
       "      <td>ACCESORIES_1_003</td>\n",
       "      <td>ACCESORIES</td>\n",
       "      <td>ACCESORIES_1</td>\n",
       "      <td>Greenwich_Village</td>\n",
       "      <td>NYC_1</td>\n",
       "      <td>New York</td>\n",
       "      <td>d_1</td>\n",
       "      <td>0</td>\n",
       "    </tr>\n",
       "    <tr>\n",
       "      <th>3</th>\n",
       "      <td>ACCESORIES_1_004_NYC_1</td>\n",
       "      <td>ACCESORIES_1_004</td>\n",
       "      <td>ACCESORIES</td>\n",
       "      <td>ACCESORIES_1</td>\n",
       "      <td>Greenwich_Village</td>\n",
       "      <td>NYC_1</td>\n",
       "      <td>New York</td>\n",
       "      <td>d_1</td>\n",
       "      <td>0</td>\n",
       "    </tr>\n",
       "    <tr>\n",
       "      <th>4</th>\n",
       "      <td>ACCESORIES_1_005_NYC_1</td>\n",
       "      <td>ACCESORIES_1_005</td>\n",
       "      <td>ACCESORIES</td>\n",
       "      <td>ACCESORIES_1</td>\n",
       "      <td>Greenwich_Village</td>\n",
       "      <td>NYC_1</td>\n",
       "      <td>New York</td>\n",
       "      <td>d_1</td>\n",
       "      <td>0</td>\n",
       "    </tr>\n",
       "  </tbody>\n",
       "</table>\n",
       "</div>"
      ],
      "text/plain": [
       "                       id              item    category    department  \\\n",
       "0  ACCESORIES_1_001_NYC_1  ACCESORIES_1_001  ACCESORIES  ACCESORIES_1   \n",
       "1  ACCESORIES_1_002_NYC_1  ACCESORIES_1_002  ACCESORIES  ACCESORIES_1   \n",
       "2  ACCESORIES_1_003_NYC_1  ACCESORIES_1_003  ACCESORIES  ACCESORIES_1   \n",
       "3  ACCESORIES_1_004_NYC_1  ACCESORIES_1_004  ACCESORIES  ACCESORIES_1   \n",
       "4  ACCESORIES_1_005_NYC_1  ACCESORIES_1_005  ACCESORIES  ACCESORIES_1   \n",
       "\n",
       "               store store_code    region    d  sales  \n",
       "0  Greenwich_Village      NYC_1  New York  d_1      0  \n",
       "1  Greenwich_Village      NYC_1  New York  d_1      0  \n",
       "2  Greenwich_Village      NYC_1  New York  d_1      0  \n",
       "3  Greenwich_Village      NYC_1  New York  d_1      0  \n",
       "4  Greenwich_Village      NYC_1  New York  d_1      0  "
      ]
     },
     "execution_count": 88,
     "metadata": {},
     "output_type": "execute_result"
    }
   ],
   "source": [
    "#transpose\n",
    "df_item_sales=df_sales.melt(id_vars=['id', 'item', 'category', 'department',\n",
    "                                     'store', 'store_code', 'region'],\n",
    "                                     var_name='d',\n",
    "                                     value_name='sales')\n",
    "df_item_sales.head()"
   ]
  },
  {
   "cell_type": "code",
   "execution_count": 89,
   "metadata": {},
   "outputs": [
    {
     "name": "stdout",
     "output_type": "stream",
     "text": [
      "<class 'pandas.core.frame.DataFrame'>\n",
      "RangeIndex: 58327370 entries, 0 to 58327369\n",
      "Data columns (total 9 columns):\n",
      " #   Column      Dtype \n",
      "---  ------      ----- \n",
      " 0   id          object\n",
      " 1   item        object\n",
      " 2   category    object\n",
      " 3   department  object\n",
      " 4   store       object\n",
      " 5   store_code  object\n",
      " 6   region      object\n",
      " 7   d           object\n",
      " 8   sales       int64 \n",
      "dtypes: int64(1), object(8)\n",
      "memory usage: 3.9+ GB\n"
     ]
    }
   ],
   "source": [
    "df_item_sales.info()"
   ]
  },
  {
   "cell_type": "code",
   "execution_count": 90,
   "metadata": {},
   "outputs": [
    {
     "name": "stdout",
     "output_type": "stream",
     "text": [
      "0.6819627560783214\n"
     ]
    }
   ],
   "source": [
    "#Should I delete those reg where sales = 0\n",
    "sales_0=df_item_sales[df_item_sales['sales']==0].value_counts().sum()/len(df_item_sales)\n",
    "print(sales_0)"
   ]
  },
  {
   "cell_type": "code",
   "execution_count": null,
   "metadata": {},
   "outputs": [],
   "source": [
    "#store db"
   ]
  },
  {
   "cell_type": "code",
   "execution_count": 91,
   "metadata": {},
   "outputs": [],
   "source": [
    "df_stores=df_item_sales[['store', 'store_code','region']].drop_duplicates()"
   ]
  },
  {
   "cell_type": "code",
   "execution_count": 92,
   "metadata": {},
   "outputs": [
    {
     "data": {
      "text/html": [
       "<div>\n",
       "<style scoped>\n",
       "    .dataframe tbody tr th:only-of-type {\n",
       "        vertical-align: middle;\n",
       "    }\n",
       "\n",
       "    .dataframe tbody tr th {\n",
       "        vertical-align: top;\n",
       "    }\n",
       "\n",
       "    .dataframe thead th {\n",
       "        text-align: right;\n",
       "    }\n",
       "</style>\n",
       "<table border=\"1\" class=\"dataframe\">\n",
       "  <thead>\n",
       "    <tr style=\"text-align: right;\">\n",
       "      <th></th>\n",
       "      <th>store</th>\n",
       "      <th>store_code</th>\n",
       "      <th>region</th>\n",
       "    </tr>\n",
       "  </thead>\n",
       "  <tbody>\n",
       "    <tr>\n",
       "      <th>0</th>\n",
       "      <td>Greenwich_Village</td>\n",
       "      <td>NYC_1</td>\n",
       "      <td>New York</td>\n",
       "    </tr>\n",
       "    <tr>\n",
       "      <th>3049</th>\n",
       "      <td>Harlem</td>\n",
       "      <td>NYC_2</td>\n",
       "      <td>New York</td>\n",
       "    </tr>\n",
       "    <tr>\n",
       "      <th>6098</th>\n",
       "      <td>Tribeca</td>\n",
       "      <td>NYC_3</td>\n",
       "      <td>New York</td>\n",
       "    </tr>\n",
       "    <tr>\n",
       "      <th>9147</th>\n",
       "      <td>Brooklyn</td>\n",
       "      <td>NYC_4</td>\n",
       "      <td>New York</td>\n",
       "    </tr>\n",
       "    <tr>\n",
       "      <th>12196</th>\n",
       "      <td>South_End</td>\n",
       "      <td>BOS_1</td>\n",
       "      <td>Boston</td>\n",
       "    </tr>\n",
       "  </tbody>\n",
       "</table>\n",
       "</div>"
      ],
      "text/plain": [
       "                   store store_code    region\n",
       "0      Greenwich_Village      NYC_1  New York\n",
       "3049              Harlem      NYC_2  New York\n",
       "6098             Tribeca      NYC_3  New York\n",
       "9147            Brooklyn      NYC_4  New York\n",
       "12196          South_End      BOS_1    Boston"
      ]
     },
     "execution_count": 92,
     "metadata": {},
     "output_type": "execute_result"
    }
   ],
   "source": [
    "df_stores.head()"
   ]
  },
  {
   "cell_type": "code",
   "execution_count": 93,
   "metadata": {},
   "outputs": [
    {
     "data": {
      "text/html": [
       "<div>\n",
       "<style scoped>\n",
       "    .dataframe tbody tr th:only-of-type {\n",
       "        vertical-align: middle;\n",
       "    }\n",
       "\n",
       "    .dataframe tbody tr th {\n",
       "        vertical-align: top;\n",
       "    }\n",
       "\n",
       "    .dataframe thead th {\n",
       "        text-align: right;\n",
       "    }\n",
       "</style>\n",
       "<table border=\"1\" class=\"dataframe\">\n",
       "  <thead>\n",
       "    <tr style=\"text-align: right;\">\n",
       "      <th></th>\n",
       "      <th>store</th>\n",
       "      <th>store_code</th>\n",
       "      <th>region</th>\n",
       "    </tr>\n",
       "  </thead>\n",
       "  <tbody>\n",
       "    <tr>\n",
       "      <th>0</th>\n",
       "      <td>Greenwich_Village</td>\n",
       "      <td>NYC_1</td>\n",
       "      <td>New York</td>\n",
       "    </tr>\n",
       "    <tr>\n",
       "      <th>1</th>\n",
       "      <td>Harlem</td>\n",
       "      <td>NYC_2</td>\n",
       "      <td>New York</td>\n",
       "    </tr>\n",
       "    <tr>\n",
       "      <th>2</th>\n",
       "      <td>Tribeca</td>\n",
       "      <td>NYC_3</td>\n",
       "      <td>New York</td>\n",
       "    </tr>\n",
       "    <tr>\n",
       "      <th>3</th>\n",
       "      <td>Brooklyn</td>\n",
       "      <td>NYC_4</td>\n",
       "      <td>New York</td>\n",
       "    </tr>\n",
       "    <tr>\n",
       "      <th>4</th>\n",
       "      <td>South_End</td>\n",
       "      <td>BOS_1</td>\n",
       "      <td>Boston</td>\n",
       "    </tr>\n",
       "  </tbody>\n",
       "</table>\n",
       "</div>"
      ],
      "text/plain": [
       "               store store_code    region\n",
       "0  Greenwich_Village      NYC_1  New York\n",
       "1             Harlem      NYC_2  New York\n",
       "2            Tribeca      NYC_3  New York\n",
       "3           Brooklyn      NYC_4  New York\n",
       "4          South_End      BOS_1    Boston"
      ]
     },
     "execution_count": 93,
     "metadata": {},
     "output_type": "execute_result"
    }
   ],
   "source": [
    "df_stores.reset_index(drop=True, inplace=True)\n",
    "df_stores.head()"
   ]
  },
  {
   "cell_type": "code",
   "execution_count": 94,
   "metadata": {},
   "outputs": [
    {
     "name": "stdout",
     "output_type": "stream",
     "text": [
      "<class 'pandas.core.frame.DataFrame'>\n",
      "RangeIndex: 10 entries, 0 to 9\n",
      "Data columns (total 3 columns):\n",
      " #   Column      Non-Null Count  Dtype \n",
      "---  ------      --------------  ----- \n",
      " 0   store       10 non-null     object\n",
      " 1   store_code  10 non-null     object\n",
      " 2   region      10 non-null     object\n",
      "dtypes: object(3)\n",
      "memory usage: 372.0+ bytes\n"
     ]
    }
   ],
   "source": [
    "df_stores.info()"
   ]
  },
  {
   "cell_type": "code",
   "execution_count": 95,
   "metadata": {},
   "outputs": [
    {
     "data": {
      "text/html": [
       "<div>\n",
       "<style scoped>\n",
       "    .dataframe tbody tr th:only-of-type {\n",
       "        vertical-align: middle;\n",
       "    }\n",
       "\n",
       "    .dataframe tbody tr th {\n",
       "        vertical-align: top;\n",
       "    }\n",
       "\n",
       "    .dataframe thead th {\n",
       "        text-align: right;\n",
       "    }\n",
       "</style>\n",
       "<table border=\"1\" class=\"dataframe\">\n",
       "  <thead>\n",
       "    <tr style=\"text-align: right;\">\n",
       "      <th></th>\n",
       "      <th>store</th>\n",
       "      <th>store_code</th>\n",
       "      <th>region</th>\n",
       "    </tr>\n",
       "  </thead>\n",
       "  <tbody>\n",
       "    <tr>\n",
       "      <th>0</th>\n",
       "      <td>Greenwich_Village</td>\n",
       "      <td>NYC_1</td>\n",
       "      <td>New York</td>\n",
       "    </tr>\n",
       "    <tr>\n",
       "      <th>1</th>\n",
       "      <td>Harlem</td>\n",
       "      <td>NYC_2</td>\n",
       "      <td>New York</td>\n",
       "    </tr>\n",
       "    <tr>\n",
       "      <th>2</th>\n",
       "      <td>Tribeca</td>\n",
       "      <td>NYC_3</td>\n",
       "      <td>New York</td>\n",
       "    </tr>\n",
       "    <tr>\n",
       "      <th>3</th>\n",
       "      <td>Brooklyn</td>\n",
       "      <td>NYC_4</td>\n",
       "      <td>New York</td>\n",
       "    </tr>\n",
       "    <tr>\n",
       "      <th>4</th>\n",
       "      <td>South_End</td>\n",
       "      <td>BOS_1</td>\n",
       "      <td>Boston</td>\n",
       "    </tr>\n",
       "    <tr>\n",
       "      <th>5</th>\n",
       "      <td>Roxbury</td>\n",
       "      <td>BOS_2</td>\n",
       "      <td>Boston</td>\n",
       "    </tr>\n",
       "    <tr>\n",
       "      <th>6</th>\n",
       "      <td>Back_Bay</td>\n",
       "      <td>BOS_3</td>\n",
       "      <td>Boston</td>\n",
       "    </tr>\n",
       "    <tr>\n",
       "      <th>7</th>\n",
       "      <td>Midtown_Village</td>\n",
       "      <td>PHI_1</td>\n",
       "      <td>Philadelphia</td>\n",
       "    </tr>\n",
       "    <tr>\n",
       "      <th>8</th>\n",
       "      <td>Yorktown</td>\n",
       "      <td>PHI_2</td>\n",
       "      <td>Philadelphia</td>\n",
       "    </tr>\n",
       "    <tr>\n",
       "      <th>9</th>\n",
       "      <td>Queen_Village</td>\n",
       "      <td>PHI_3</td>\n",
       "      <td>Philadelphia</td>\n",
       "    </tr>\n",
       "  </tbody>\n",
       "</table>\n",
       "</div>"
      ],
      "text/plain": [
       "               store store_code        region\n",
       "0  Greenwich_Village      NYC_1      New York\n",
       "1             Harlem      NYC_2      New York\n",
       "2            Tribeca      NYC_3      New York\n",
       "3           Brooklyn      NYC_4      New York\n",
       "4          South_End      BOS_1        Boston\n",
       "5            Roxbury      BOS_2        Boston\n",
       "6           Back_Bay      BOS_3        Boston\n",
       "7    Midtown_Village      PHI_1  Philadelphia\n",
       "8           Yorktown      PHI_2  Philadelphia\n",
       "9      Queen_Village      PHI_3  Philadelphia"
      ]
     },
     "execution_count": 95,
     "metadata": {},
     "output_type": "execute_result"
    }
   ],
   "source": [
    "df_stores"
   ]
  },
  {
   "cell_type": "code",
   "execution_count": 96,
   "metadata": {},
   "outputs": [
    {
     "name": "stdout",
     "output_type": "stream",
     "text": [
      "<class 'pandas.core.frame.DataFrame'>\n",
      "Index: 3 entries, 0 to 1612\n",
      "Data columns (total 1 columns):\n",
      " #   Column    Non-Null Count  Dtype \n",
      "---  ------    --------------  ----- \n",
      " 0   category  3 non-null      object\n",
      "dtypes: object(1)\n",
      "memory usage: 48.0+ bytes\n"
     ]
    }
   ],
   "source": [
    "df_category=df_item_sales[['category']].drop_duplicates()\n",
    "df_category.info()"
   ]
  },
  {
   "cell_type": "code",
   "execution_count": 97,
   "metadata": {},
   "outputs": [
    {
     "data": {
      "text/html": [
       "<div>\n",
       "<style scoped>\n",
       "    .dataframe tbody tr th:only-of-type {\n",
       "        vertical-align: middle;\n",
       "    }\n",
       "\n",
       "    .dataframe tbody tr th {\n",
       "        vertical-align: top;\n",
       "    }\n",
       "\n",
       "    .dataframe thead th {\n",
       "        text-align: right;\n",
       "    }\n",
       "</style>\n",
       "<table border=\"1\" class=\"dataframe\">\n",
       "  <thead>\n",
       "    <tr style=\"text-align: right;\">\n",
       "      <th></th>\n",
       "      <th>category</th>\n",
       "    </tr>\n",
       "  </thead>\n",
       "  <tbody>\n",
       "    <tr>\n",
       "      <th>0</th>\n",
       "      <td>ACCESORIES</td>\n",
       "    </tr>\n",
       "    <tr>\n",
       "      <th>1</th>\n",
       "      <td>HOME_&amp;_GARDEN</td>\n",
       "    </tr>\n",
       "    <tr>\n",
       "      <th>2</th>\n",
       "      <td>SUPERMARKET</td>\n",
       "    </tr>\n",
       "  </tbody>\n",
       "</table>\n",
       "</div>"
      ],
      "text/plain": [
       "        category\n",
       "0     ACCESORIES\n",
       "1  HOME_&_GARDEN\n",
       "2    SUPERMARKET"
      ]
     },
     "execution_count": 97,
     "metadata": {},
     "output_type": "execute_result"
    }
   ],
   "source": [
    "df_category.reset_index(drop=True, inplace=True)\n",
    "df_category"
   ]
  },
  {
   "cell_type": "code",
   "execution_count": null,
   "metadata": {},
   "outputs": [],
   "source": [
    "#Item db"
   ]
  },
  {
   "cell_type": "code",
   "execution_count": 99,
   "metadata": {},
   "outputs": [
    {
     "name": "stdout",
     "output_type": "stream",
     "text": [
      "<class 'pandas.core.frame.DataFrame'>\n",
      "RangeIndex: 3049 entries, 0 to 3048\n",
      "Data columns (total 2 columns):\n",
      " #   Column    Non-Null Count  Dtype \n",
      "---  ------    --------------  ----- \n",
      " 0   item      3049 non-null   object\n",
      " 1   category  3049 non-null   object\n",
      "dtypes: object(2)\n",
      "memory usage: 47.8+ KB\n"
     ]
    }
   ],
   "source": [
    "df_item=df_item_sales[['item', 'category']].drop_duplicates()\n",
    "df_item.reset_index(drop=True, inplace=True)\n",
    "df_item.info()"
   ]
  }
 ],
 "metadata": {
  "kernelspec": {
   "display_name": "Python 3",
   "language": "python",
   "name": "python3"
  },
  "language_info": {
   "codemirror_mode": {
    "name": "ipython",
    "version": 3
   },
   "file_extension": ".py",
   "mimetype": "text/x-python",
   "name": "python",
   "nbconvert_exporter": "python",
   "pygments_lexer": "ipython3",
   "version": "3.12.2"
  }
 },
 "nbformat": 4,
 "nbformat_minor": 2
}
