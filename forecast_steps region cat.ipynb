{
 "cells": [
  {
   "cell_type": "markdown",
   "metadata": {},
   "source": [
    "# Librerias"
   ]
  },
  {
   "cell_type": "code",
   "execution_count": 1,
   "metadata": {},
   "outputs": [],
   "source": [
    "import os\n",
    "\n",
    "import warnings\n",
    "warnings.filterwarnings(\"ignore\")\n",
    "\n",
    "import pandas as pd\n",
    "import xgboost as xgb\n",
    "import lightgbm as lgb"
   ]
  },
  {
   "cell_type": "code",
   "execution_count": 2,
   "metadata": {},
   "outputs": [],
   "source": [
    "import pickle\n",
    "\n",
    "from datetime import datetime\n",
    "import numpy as np\n",
    "\n",
    "import matplotlib.pyplot as plt\n",
    "import shap\n",
    "%matplotlib inline\n",
    "\n",
    "from sklearn.metrics import mean_squared_error\n",
    "from sklearn.metrics import root_mean_squared_error\n",
    "from sklearn.metrics import mean_absolute_percentage_error\n",
    "from sklearn.preprocessing import OrdinalEncoder\n",
    "from statsmodels.graphics.tsaplots import plot_acf, plot_pacf\n"
   ]
  },
  {
   "cell_type": "code",
   "execution_count": 3,
   "metadata": {},
   "outputs": [],
   "source": [
    "pd.set_option('display.max_rows', None)\n",
    "pd.set_option('display.max_columns',None)"
   ]
  },
  {
   "cell_type": "code",
   "execution_count": 4,
   "metadata": {},
   "outputs": [
    {
     "data": {
      "text/plain": [
       "'2.2.1'"
      ]
     },
     "execution_count": 4,
     "metadata": {},
     "output_type": "execute_result"
    }
   ],
   "source": [
    "pd.__version__ "
   ]
  },
  {
   "cell_type": "code",
   "execution_count": 5,
   "metadata": {},
   "outputs": [],
   "source": [
    "# if pd.__version__ != \"2.2.1\":\n",
    "#     os.system(\"pip install pandas==2.2.1\")"
   ]
  },
  {
   "cell_type": "markdown",
   "metadata": {},
   "source": [
    "# Funciones"
   ]
  },
  {
   "cell_type": "code",
   "execution_count": 6,
   "metadata": {},
   "outputs": [],
   "source": [
    "def build_ts_vars(df, gb_list, target_column, agg_func, agg_func_name,lag=[1]): # RS_ agregar lag\n",
    "    \n",
    "    assert \"date\" in df.columns.tolist(), \"Date must be in df columns\"\n",
    "    \n",
    "    new_name = \"_\".join(gb_list + [target_column] + [agg_func_name])\n",
    "    \n",
    "    gb_df_ = (\n",
    "        df\n",
    "        .set_index(\"date\")\n",
    "        .groupby(gb_list)\n",
    "        .resample(\"W\")[target_column]\n",
    "        .apply(agg_func)\n",
    "        .to_frame()\n",
    "        .reset_index()\n",
    "        .rename(\n",
    "            columns = {\n",
    "                target_column : new_name\n",
    "            }\n",
    "        )\n",
    "    )\n",
    "    \n",
    "    for i in lag:\n",
    "        gb_df_[f\"{new_name}_lag{i}\"] = gb_df_.groupby(gb_list)[new_name].transform(lambda series: series.shift(i))\n",
    "        \n",
    "    \n",
    "    # while i <= lag:\n",
    "    #     gb_df_[f\"{new_name}_ma3{i}\"] = gb_df_.groupby(gb_list)[new_name].transform(lambda series: (series.rolling(window = 3).mean()).shift(i))\n",
    "    #     i+=1\n",
    "    print(f\"Dropping columns that might cause target leakage {new_name}\")\n",
    "    gb_df_.drop(new_name, inplace = True, axis = 1)\n",
    "\n",
    "    dfst = pd.merge(df, gb_df_, on = [\"date\"] + gb_list, how = \"left\")\n",
    "    \n",
    "    return dfst"
   ]
  },
  {
   "cell_type": "code",
   "execution_count": 7,
   "metadata": {},
   "outputs": [],
   "source": [
    "def recuperar_fechas(df,dfo):\n",
    "    unicos=dfo[[\"yearweek\",\"date\"]].drop_duplicates()\n",
    "    df.drop([\"date\"], inplace = True, axis = 1)\n",
    "    df=pd.merge(df,unicos, on=[\"yearweek\"],how=\"left\")\n",
    "    return df    "
   ]
  },
  {
   "cell_type": "code",
   "execution_count": 8,
   "metadata": {},
   "outputs": [],
   "source": [
    "def plot_ts_acf_pacf(y, title):\n",
    "    '''\n",
    "    Plots the ts you pass and the acf and pacf.\n",
    "    '''\n",
    "    fig = plt.figure(figsize = (12, 10))\n",
    "    ax1, ax2, ax3 = fig.subplots(3, 1)\n",
    "\n",
    "    ax1.plot(y)\n",
    "    plot_acf(x = y, ax = ax2, lags = 12)\n",
    "    plot_pacf(x = y, ax = ax3, lags = 12)\n",
    "\n",
    "    plt.suptitle(t = title, fontsize = 20)"
   ]
  },
  {
   "cell_type": "code",
   "execution_count": 9,
   "metadata": {},
   "outputs": [],
   "source": [
    "# def participacion_media(df,groupedweek):\n",
    "    \n",
    "#     df[\"week\"]=df['date'].dt.isocalendar().week\n",
    "#     df.drop([\"sales_mon_fri_por_mean\",\"sales_sat_sun_por_mean\"], inplace = True, axis = 1)\n",
    "#     df=pd.merge(df,groupedweek, on=[\"id\",\"week\"],how=\"left\")\n",
    "#     df.drop([\"week\"], inplace = True, axis = 1)\n",
    "#     return df"
   ]
  },
  {
   "cell_type": "code",
   "execution_count": 10,
   "metadata": {},
   "outputs": [],
   "source": [
    "def load_data(TRAIN_CSV_PATH):\n",
    "    '''\n",
    "    Loads  df.\n",
    "    '''\n",
    "    df = pd.read_csv(TRAIN_CSV_PATH)\n",
    "    \n",
    "    df[\"date\"] = pd.to_datetime(df[\"date\"], format = \"%Y-%m-%d\")\n",
    "\n",
    "    df['month'] = df['date'].dt.month.astype(\"uint8\")\n",
    "    df['quarter'] = df['date'].dt.quarter.astype(\"uint16\")\n",
    "    df['year'] = df['date'].dt.isocalendar().year.astype(\"uint16\")\n",
    "    df[\"week\"]=df['date'].dt.isocalendar().week.astype(\"uint16\")\n",
    "    df[\"item\"]=df[\"item\"].astype(\"uint16\")\n",
    "    df[\"category\"]=df[\"category\"].astype(\"uint8\")\n",
    "    df[\"department\"]=df[\"department\"].astype(\"uint8\")\n",
    "    df[\"store_code\"]=df[\"store_code\"].astype(\"uint8\")\n",
    "    df[\"region\"]=df[\"region\"].astype(\"uint8\")\n",
    "    df[\"event\"]=df[\"event\"].astype(\"uint8\")\n",
    "    df[\"event2\"]=df[\"event2\"].astype(\"uint8\")\n",
    "    df[\"Cantidad\"]=df[\"Cantidad\"].astype(\"float64\")\n",
    "  \n",
    "    df2=df[df[\"Cantidad\"]!=0]# creamos un dataframe sin ventas 0\n",
    "\n",
    "    #Definimos el primer dia de venta de cada producto para luego filtrar el dataset.\n",
    "\n",
    "    df_fechas_agregadas_por_ventas = df2.groupby([\"id\"]).agg (\n",
    "        fecha_ult_venta = ('yearweek', 'max'),\n",
    "        fecha_prim_venta = ('yearweek', 'min'),\n",
    "            ).reset_index()\n",
    "    \n",
    "    df=pd.merge(df,df_fechas_agregadas_por_ventas[[\"id\",\"fecha_prim_venta\"]],how=\"left\",on=[\"id\"]) # llevamos el primer dia de vetna por ID al dataset principal\n",
    "    df=df[df[\"yearweek\"]>=df[\"fecha_prim_venta\"]] #Eliminamos los registros de ventas antes del primer dia de venta.\n",
    "    df.drop(columns=[\"fecha_prim_venta\"],inplace=True)\n",
    "    df.reset_index(drop=True,inplace=True)\n",
    "    df.sort_values([\"yearweek\", \"id\"], ascending = True, inplace = True)\n",
    "    \n",
    "    sinventas_ultimoano=df_fechas_agregadas_por_ventas[df_fechas_agregadas_por_ventas[\"fecha_ult_venta\"]<201517][\"id\"].to_list()\n",
    "    df_prod_cont = df.loc[~df['id'].isin(sinventas_ultimoano)]\n",
    "    \n",
    "    semana=201316\n",
    "    df_final = df_prod_cont.loc[df_prod_cont[\"yearweek\"]>semana]\n",
    "    df_final.reset_index(drop=True,inplace=True)\n",
    "    df_final.sort_values([\"yearweek\", \"id\"], ascending = True, inplace = True)\n",
    "    \n",
    "    # NR_ROWS=df[\"id\"].nunique()*4\n",
    "    # dfho = df[:-NR_ROWS] # historical data\n",
    "    # dfho[\"week\"]=dfho['date'].dt.isocalendar().week\n",
    "    # groupedweek=dfho.groupby([\"id\",\"store_code\",\"week\"]).agg({\"sales_mon_fri_por\":\"mean\",\"sales_sat_sun_por\":\"mean\"}).reset_index()\n",
    "    # groupedweek = groupedweek.rename(columns={'sales_mon_fri_por': 'sales_mon_fri_por_mean', 'sales_sat_sun_por': 'sales_sat_sun_por_mean'})\n",
    "    \n",
    "    # df[\"week\"]=df['date'].dt.isocalendar().week\n",
    "    # df=pd.merge(df,groupedweek, on=[\"id\",\"store_code\",\"week\"],how=\"left\")\n",
    "    # df.drop([\"week\"], inplace = True, axis = 1)\n",
    "\n",
    "    return df,df_final\n",
    "\n",
    "def append_new_date(df, new_date, dffo):\n",
    "    '''\n",
    "    Appends a new row to the historical df.\n",
    "    Useful to create features for train and predict.\n",
    "    '''\n",
    "    new_data = dffo[dffo[\"yearweek\"]==new_date]\n",
    "    df = pd.concat([df,new_data])\n",
    "    df.sort_values([\"id\", \"yearweek\"], ascending = True, inplace = True)\n",
    "\n",
    "    return df\n",
    "\n",
    "def build_ts_features(df):\n",
    "    '''\n",
    "    Generates time series features.\n",
    "    '''\n",
    "    #df.sort_values([\"id\", \"yearweek\"], ascending = True, inplace = True)\n",
    "    df_copy = df.copy(deep = True)\n",
    "    # df_copy[\"item_sales_mean\"] = df_copy.groupby([\"item\"])[\"Cantidad\"].transform(lambda x: (x.mean())).astype(np.float16)\n",
    "    # df_copy[\"revenue\"]=df_copy[\"sell_price\"]*df_copy[\"Cantidad\"].astype(\"float64\") \n",
    "    # df_copy[\"cant_diff\"]=df_copy.groupby([\"id\"])[\"Cantidad\"].diff()\n",
    "    #df_copy[\"price_diff\"]=df_copy.groupby([\"id\"])[\"sell_price\"].diff()\n",
    "    \n",
    "    lags = [1,4,9]\n",
    "    for lag in lags:\n",
    "        df_copy[\"UID_sales_lag_\"+str(lag)] = df_copy.groupby([\"id\"])[\"Cantidad\"].shift(lag).astype(\"float64\")\n",
    "    # for lag in lags:    \n",
    "    #     df_copy[\"UID_salesweek_lag_\"+str(lag)] = df_copy.groupby([\"item\"])[\"sales_mon_fri_por_mean\"].shift(lag).astype(\"float64\")\n",
    "    # for lag in lags:    \n",
    "    #     df_copy[\"UID_saleswkd_lag_\"+str(lag)] = df_copy.groupby([\"item\"])[\"sales_sat_sun_por_mean\"].shift(lag).astype(\"float64\")\n",
    "    for lag in lags:\n",
    "        df_copy['UID_MA_lag_{}_win_{}'.format(lag, 4)] = df_copy.groupby([\"id\"])['UID_sales_lag_{}'.format(lag)].transform(lambda x: x.rolling(window=4).mean()).astype(np.float64)\n",
    "    for lag in lags:\n",
    "        df_copy['UID_MA_lag_{}_win_{}'.format(lag, 8)] = df_copy.groupby([\"id\"])['UID_sales_lag_{}'.format(lag)].transform(lambda x: x.rolling(window=8).mean()).astype(np.float64)\n",
    "    for lag in lags:\n",
    "        df_copy['UID_MA_lag_{}_win_{}'.format(lag, 12)] = df_copy.groupby([\"id\"])['UID_sales_lag_{}'.format(lag)].transform(lambda x: x.rolling(window=12).mean()).astype(np.float64)\n",
    "    for lag in lags:\n",
    "        df_copy['UID_Mmax_lag_{}_win_{}'.format(lag, 4)] = df_copy.groupby([\"id\"])['UID_sales_lag_{}'.format(lag)].transform(lambda x: x.rolling(window=4).max()).astype(np.float64)\n",
    "    for lag in lags:\n",
    "        df_copy['UID_Mmax_lag_{}_win_{}'.format(lag, 8)] = df_copy.groupby([\"id\"])['UID_sales_lag_{}'.format(lag)].transform(lambda x: x.rolling(window=8).max()).astype(np.float64)\n",
    "    for lag in lags:\n",
    "        df_copy['UID_Mmax_lag_{}_win_{}'.format(lag, 12)] = df_copy.groupby([\"id\"])['UID_sales_lag_{}'.format(lag)].transform(lambda x: x.rolling(window=12).max()).astype(np.float64) \n",
    "    # for lag in lags:\n",
    "    #     df_copy['UID_Mmin_lag_{}_win_{}'.format(lag, 4)] = df_copy.groupby([\"id\"])['UID_sales_lag_{}'.format(lag)].transform(lambda x: x.rolling(window=4).min()).astype(np.float64)\n",
    "    # for lag in lags:\n",
    "    #     df_copy['UID_Mmin_lag_{}_win_{}'.format(lag, 8)] = df_copy.groupby([\"id\"])['UID_sales_lag_{}'.format(lag)].transform(lambda x: x.rolling(window=8).min()).astype(np.float64)\n",
    "    # for lag in lags:\n",
    "    #     df_copy['UID_Mmin_lag_{}_win_{}'.format(lag, 12)] = df_copy.groupby([\"id\"])['UID_sales_lag_{}'.format(lag)].transform(lambda x: x.rolling(window=12).min()).astype(np.float64)       \n",
    "    for lag in lags:\n",
    "        df_copy['UID_Mstd_lag_{}_win_{}'.format(lag, 4)] = df_copy.groupby([\"id\"])['UID_sales_lag_{}'.format(lag)].transform(lambda x: x.rolling(window=4).std()).astype(np.float64)\n",
    "    for lag in lags:\n",
    "        df_copy['UID_Mstd_lag_{}_win_{}'.format(lag, 8)] = df_copy.groupby([\"id\"])['UID_sales_lag_{}'.format(lag)].transform(lambda x: x.rolling(window=8).std()).astype(np.float64)\n",
    "    for lag in lags:\n",
    "        df_copy['UID_Mstd_lag_{}_win_{}'.format(lag, 12)] = df_copy.groupby([\"id\"])['UID_sales_lag_{}'.format(lag)].transform(lambda x: x.rolling(window=12).std()).astype(np.float64) \n",
    "\n",
    "    # df_copy['sales_pct_change'] = df_copy.groupby('id')['Cantidad'].pct_change()\n",
    "    # df_copy['price_pct_change'] = df_copy.groupby('id')['sell_price'].pct_change()\n",
    "    # df_copy['sales_pct_change'].replace([np.inf, -np.inf], np.nan, inplace=True)\n",
    "    # df_copy['price_pct_change'].replace([np.inf, -np.inf], np.nan, inplace=True)\n",
    "    \n",
    "    # for lag in lags:\n",
    "    #     df_copy[f\"sales_pct_change_lag{lag}\"] = df_copy.groupby([\"id\"])[\"sales_pct_change\"].transform(lambda x: x.shift(lag))\n",
    "    # for lag in lags:\n",
    "    #     df_copy[f\"sales_diff_lag{lag}\"] = df_copy.groupby([\"id\"])[\"cant_diff\"].transform(lambda x: x.shift(lag))\n",
    "    # df_copy[\"error_MA_m\"]=df_copy['UID_MA_lag_{}_win_{}'.format(lag, 4)]-df_copy[\"item_sales_mean\"] \n",
    "    # for lag in lags:\n",
    "    #     df_copy[f\"price_pct_change_lag{lag}\"] = df_copy.groupby([\"id\"])[\"price_pct_change\"].transform(lambda x: x.shift(lag)) \n",
    "    # for lag in lags:\n",
    "    #     df_copy[f\"price_diff_lag{lag}\"] = df_copy.groupby([\"id\"])[\"price_diff\"].transform(lambda x: x.shift(lag)) \n",
    "\n",
    "    # df_copy[\"item_sales_mean\"] = df_copy.groupby(\"item\")[\"Cantidad\"].transform(\"mean\").astype(np.float16)\n",
    "    \n",
    "    # df_copy[\"shop_sales_mean\"] = df_copy.groupby(\"store_code\")[\"Cantidad\"].transform(\"mean\").astype(np.float16)\n",
    "\n",
    "    # df_copy[\"dep_sales_mean\"] = df_copy.groupby(\"department\")[\"Cantidad\"].transform(\"mean\").astype(np.float16)\n",
    "    \n",
    "    # df_copy[\"shop_item_sales_mean\"] = df_copy.groupby([\"store_code\",\"item\"])[\"Cantidad\"].transform(\"mean\").astype(np.float16) # autorelacionada\n",
    "    \n",
    "    \n",
    "    \n",
    "    \n",
    "        \n",
    "    #df_copy[\"UID_revenue_lag_1\"] = df_copy.groupby([\"id\"])[\"revenue\"].shift(1).astype(\"float64\")      \n",
    "    # df_copy[\"item_sales_meanM\"] = df_copy.groupby([\"week\",\"item\"])[\"Cantidad\"].transform(lambda x: (x.mean())).astype(np.float16)\n",
    "    #df_copy[\"item_sales_meanM_s1\"] = df_copy.groupby([\"id\"])[\"item_sales_meanM\"].transform(lambda x: x.shift(1))\n",
    "    # df_copy[\"shop_dep_sales_meanM\"] = df_copy.groupby([\"week\",\"store_code\",\"department\"])[\"Cantidad\"].transform(lambda x: (x.mean())).astype(np.float16)\n",
    "    # df_copy[\"shop_dep_sales_meanM_s1\"] = df_copy.groupby([\"id\"])[\"shop_dep_sales_meanM\"].transform(lambda x: x.shift(1))\n",
    "    # df_copy[\"shop_sales_meanM\"] = df_copy.groupby([\"week\",\"store_code\"])[\"Cantidad\"].transform(lambda x: (x.mean())).astype(np.float16)\n",
    "    # df_copy[\"shop_sales_meanM_s1\"] = df_copy.groupby([\"id\"])[\"shop_sales_meanM\"].transform(lambda x: x.shift(1))\n",
    "    \n",
    "    # df_copy['week_avg_sold'] = df_copy.groupby(['id',\"week\"])['Cantidad'].transform('mean').astype(np.float16)\n",
    "    # df_copy['avg_sold'] = df_copy.groupby(['id'])['Cantidad'].transform('mean').astype(np.float16)\n",
    "    # df_copy['selling_trend'] = (df_copy['week_avg_sold'] - df_copy['avg_sold']).astype(np.float16)\n",
    "\n",
    "    # df_copy['expanding_sold_mean'] = df_copy.groupby(['id'])['Cantidad'].transform(lambda x: x.expanding(2).mean()).astype(np.float16)\n",
    "\n",
    "    \n",
    "    # GB_LIST = [\"item\"]\n",
    "    # TARGET_COLUMN = \"Cantidad\"\n",
    "    # AGG_FUNC = \"sum\"\n",
    "    # AGG_FUNC_NAME = \"SUM\"\n",
    "    # LAG=lags\n",
    "\n",
    "    # df_copy = build_ts_vars(\n",
    "    # df = df_copy,\n",
    "    # gb_list = GB_LIST,\n",
    "    # target_column = TARGET_COLUMN,\n",
    "    # agg_func = AGG_FUNC,\n",
    "    # agg_func_name =  AGG_FUNC_NAME,\n",
    "    # lag=LAG\n",
    "    # )\n",
    "\n",
    "    # GB_LIST = [\"item\"]\n",
    "    # TARGET_COLUMN = \"Cantidad\"\n",
    "    # AGG_FUNC = \"mean\"\n",
    "    # AGG_FUNC_NAME = \"MEAN\"\n",
    "    # LAG=lags\n",
    "\n",
    "    # df_copy = build_ts_vars(\n",
    "    # df = df_copy,\n",
    "    # gb_list = GB_LIST,\n",
    "    # target_column = TARGET_COLUMN,\n",
    "    # agg_func = AGG_FUNC,\n",
    "    # agg_func_name =  AGG_FUNC_NAME,\n",
    "    # lag=LAG\n",
    "    # )\n",
    "\n",
    "    # GB_LIST = [\"item\"]\n",
    "    # TARGET_COLUMN = \"Cantidad\"\n",
    "    # AGG_FUNC = \"std\"\n",
    "    # AGG_FUNC_NAME = \"STD\"\n",
    "    # LAG=lags\n",
    "\n",
    "    # df_copy = build_ts_vars(\n",
    "    # df = df_copy,\n",
    "    # gb_list = GB_LIST,\n",
    "    # target_column = TARGET_COLUMN,\n",
    "    # agg_func = AGG_FUNC,\n",
    "    # agg_func_name =  AGG_FUNC_NAME,\n",
    "    # lag=LAG\n",
    "    # )\n",
    "\n",
    "    # GB_LIST = [\"item\"]\n",
    "    # TARGET_COLUMN = \"Cantidad\"\n",
    "    # AGG_FUNC = \"min\"\n",
    "    # AGG_FUNC_NAME = \"MIN\"\n",
    "    # LAG=lags\n",
    "\n",
    "    # df_copy = build_ts_vars(\n",
    "    # df = df_copy,\n",
    "    # gb_list = GB_LIST,\n",
    "    # target_column = TARGET_COLUMN,\n",
    "    # agg_func = AGG_FUNC,\n",
    "    # agg_func_name =  AGG_FUNC_NAME,\n",
    "    # lag=LAG\n",
    "    # )\n",
    "\n",
    "    # GB_LIST = [\"item\"]\n",
    "    # TARGET_COLUMN = \"Cantidad\"\n",
    "    # AGG_FUNC = \"max\"\n",
    "    # AGG_FUNC_NAME = \"MAX\"\n",
    "    # LAG=lags\n",
    "\n",
    "    # df_copy = build_ts_vars(\n",
    "    # df = df_copy,\n",
    "    # gb_list = GB_LIST,\n",
    "    # target_column = TARGET_COLUMN,\n",
    "    # agg_func = AGG_FUNC,\n",
    "    # agg_func_name =  AGG_FUNC_NAME,\n",
    "    # lag=LAG\n",
    "    # )\n",
    "\n",
    "\n",
    "    # GB_LIST = [\"store_code\",\"department\"] # RS: \n",
    "    # TARGET_COLUMN = \"Cantidad\"\n",
    "    # AGG_FUNC = \"sum\"\n",
    "    # AGG_FUNC_NAME = \"sum\"\n",
    "    # LAG=lags\n",
    "    # df_copy = build_ts_vars(\n",
    "    # df = df_copy,\n",
    "    # gb_list = GB_LIST,\n",
    "    # target_column = TARGET_COLUMN,\n",
    "    # agg_func = AGG_FUNC,\n",
    "    # agg_func_name =  AGG_FUNC_NAME,\n",
    "    # lag=LAG \n",
    "    # )\n",
    "\n",
    "    # GB_LIST = [\"store_code\",\"department\"]\n",
    "    # TARGET_COLUMN = \"Cantidad\"\n",
    "    # AGG_FUNC = \"min\"\n",
    "    # AGG_FUNC_NAME = \"MIN\"\n",
    "    # LAG=lags\n",
    "\n",
    "    # df_copy = build_ts_vars(\n",
    "    # df = df_copy,\n",
    "    # gb_list = GB_LIST,\n",
    "    # target_column = TARGET_COLUMN,\n",
    "    # agg_func = AGG_FUNC,\n",
    "    # agg_func_name =  AGG_FUNC_NAME,\n",
    "    # lag=LAG\n",
    "    # )\n",
    "\n",
    "    # GB_LIST = [\"store_code\",\"department\"]\n",
    "    # TARGET_COLUMN = \"Cantidad\"\n",
    "    # AGG_FUNC = \"max\"\n",
    "    # AGG_FUNC_NAME = \"MAX\"\n",
    "    # LAG=lags\n",
    "\n",
    "    # df_copy = build_ts_vars(\n",
    "    # df = df_copy,\n",
    "    # gb_list = GB_LIST,\n",
    "    # target_column = TARGET_COLUMN,\n",
    "    # agg_func = AGG_FUNC,\n",
    "    # agg_func_name =  AGG_FUNC_NAME,\n",
    "    # lag=LAG\n",
    "    # )\n",
    "\n",
    "    # GB_LIST = [\"store_code\"] # RS: \n",
    "    # TARGET_COLUMN = \"Cantidad\"\n",
    "    # AGG_FUNC = \"sum\"\n",
    "    # AGG_FUNC_NAME = \"sum\"\n",
    "    # LAG=lags\n",
    "    # df_copy = build_ts_vars(\n",
    "    #     df = df_copy,\n",
    "    #     gb_list = GB_LIST,\n",
    "    #     target_column = TARGET_COLUMN,\n",
    "    #     agg_func = AGG_FUNC,\n",
    "    #     agg_func_name =  AGG_FUNC_NAME,\n",
    "    #     lag=LAG \n",
    "    # )\n",
    "\n",
    "    # GB_LIST = [\"store_code\"]\n",
    "    # TARGET_COLUMN = \"Cantidad\"\n",
    "    # AGG_FUNC = \"min\"\n",
    "    # AGG_FUNC_NAME = \"MIN\"\n",
    "    # LAG=lags\n",
    "\n",
    "    # df_copy = build_ts_vars(\n",
    "    # df = df_copy,\n",
    "    # gb_list = GB_LIST,\n",
    "    # target_column = TARGET_COLUMN,\n",
    "    # agg_func = AGG_FUNC,\n",
    "    # agg_func_name =  AGG_FUNC_NAME,\n",
    "    # lag=LAG\n",
    "    # )\n",
    "\n",
    "    # GB_LIST = [\"store_code\"]\n",
    "    # TARGET_COLUMN = \"Cantidad\"\n",
    "    # AGG_FUNC = \"max\"\n",
    "    # AGG_FUNC_NAME = \"MAX\"\n",
    "    # LAG=lags\n",
    "\n",
    "    # df_copy = build_ts_vars(\n",
    "    # df = df_copy,\n",
    "    # gb_list = GB_LIST,\n",
    "    # target_column = TARGET_COLUMN,\n",
    "    # agg_func = AGG_FUNC,\n",
    "    # agg_func_name =  AGG_FUNC_NAME,\n",
    "    # lag=LAG\n",
    "    # )\n",
    "\n",
    "    #df_copy.sort_values([\"yearweek\", \"id\"], ascending = True, inplace = True)\n",
    "\n",
    "    COLUMNS_TO_DROP = [\"date\"\n",
    "    ,'sales_mon_thu', 'sales_fri_sun'\n",
    "    ,\"sales_mon_thu_por\",\"sales_fri_sun_por\",\"sales_mon_thu_por_mean\",\"sales_fri_sun_por_mean\"\n",
    "    # ,'week_avg_sold','avg_sold'\n",
    "    # ,\"item_sales_meanM\"\n",
    "    #\"shop_dep_sales_meanM\",\"shop_sales_meanM\",\n",
    "    \n",
    "    #,'month', 'year'\n",
    "    ,\"event\"\n",
    "    # ,\"revenue\"\n",
    "    # ,\"cant_diff\"\n",
    "    #\"sales_pct_change\",\"price_pct_change\",\"price_diff\"\n",
    "    #\"item\",\"store_code\",\"region\",\"event\",\"week\",\n",
    "    #,\"sell_price\"\n",
    "                      ]\n",
    "\n",
    "    df_copy.drop(COLUMNS_TO_DROP, inplace = True, axis = 1)\n",
    "    df.sort_values([\"id\", \"yearweek\"], ascending = True, inplace = True)\n",
    "    df_copy.set_index(\"id\", inplace = True)\n",
    "\n",
    "    return df_copy\n",
    "\n",
    "def split_train_new_pred(df):\n",
    "    '''\n",
    "    Spits the data for traing (X_train) and features used to make 1 step ahead prediction (X_new_pred).\n",
    "    '''\n",
    "    train_index = sorted(list(df[\"yearweek\"].unique()))[:-5]\n",
    "\n",
    "    valida_index = sorted(list(df[\"yearweek\"].unique()))[-5:-1]\n",
    "\n",
    "    test_index = [sorted(list(df[\"yearweek\"].unique()))[-1]]\n",
    "\n",
    "    # print(f\"Our train index is {train_index[:2]} - ... - {train_index[-2:]}\\n\")\n",
    "    # print(f\"Our validation index is {valida_index}\\n\")\n",
    "    # print(f\"Our test/prediction index is {test_index}\\n\")\n",
    "\n",
    "    X_train = df[df[\"yearweek\"].isin(train_index)].drop([\"Cantidad\"], axis=1)\n",
    "    Y_train = df[df[\"yearweek\"].isin(train_index)][\"Cantidad\"]\n",
    "\n",
    "    X_valida = df[df[\"yearweek\"].isin(valida_index)].drop([\"Cantidad\"], axis=1)\n",
    "    Y_valida = df[df[\"yearweek\"].isin(valida_index)][\"Cantidad\"]\n",
    "\n",
    "    X_test = df[df[\"yearweek\"].isin(test_index)].drop([\"Cantidad\"], axis = 1)\n",
    "    Y_test = df[df[\"yearweek\"].isin(test_index)][\"Cantidad\"]\n",
    "    \n",
    "    return X_train, Y_train, X_valida, Y_valida , X_test , Y_test\n",
    "\n",
    "def train_model(X_train, Y_train,X_valida,Y_valida):\n",
    "    '''\n",
    "    Initialize, trains and returns a trained XGBoost Regressor model.\n",
    "    '''\n",
    "    \n",
    "    # model = xgb.XGBRegressor(eval_metric ='rmse', seed = 175)#,base_score=0)\n",
    "    # model.fit(X_train, Y_train,eval_set = [(X_train, Y_train), (X_valida, Y_valida)],verbose = True,early_stopping_rounds=50)\n",
    "\n",
    "    model = lgb.LGBMRegressor(objective='rmse', early_stopping_rounds = 10, n_estimators=1000, learning_rate=0.005)\n",
    "    model.fit(X_train,  Y_train, eval_set=[(X_valida, Y_valida)], eval_metric='rmse')\n",
    "    \n",
    "    return model\n",
    "\n",
    "def get_1_step_prediction(model, X_test,new_date):\n",
    "    '''\n",
    "    Makes 1 step ahead forecasting, and converts to a pandas DataFrame the prediction.\n",
    "    '''\n",
    "    y_pred = model.predict(X_test).astype(\"float64\")\n",
    "    y_pred_df=X_test.copy(deep=True)\n",
    "    y_pred_df[\"Cantidad\"] = y_pred\n",
    "    y_pred_df[\"yearweek\"]=new_date\n",
    "\n",
    "    return y_pred_df\n",
    "\n",
    "def get_n_step_prediction(dfh, idxf,dffo,dfo, verbose = True):\n",
    "    '''\n",
    "    Makes n steps ahead forecasting.\n",
    "    '''\n",
    "    # starting the loop\n",
    "    \n",
    "\n",
    "    resultados=[]\n",
    "    x=0\n",
    "           \n",
    "    for new_date in idxf:\n",
    "        print(new_date)\n",
    "        if verbose: print(f\"Working with {new_date} date.\")\n",
    "        # append a new date to the historical df\n",
    "        dfh = append_new_date(df = dfh, new_date = new_date, dffo=dffo)\n",
    "        \n",
    "        if verbose: print(f\"Building new featues. df shape is {dfh.shape}\")\n",
    "        # build time series features\n",
    "        dfhf = build_ts_features(df = dfh)\n",
    "        \n",
    "        if verbose: print(f\"Splitting data into train and prediction. df shape is {dfhf.shape}\")\n",
    "        # split the data between historical data an features for new predicition\n",
    "        X_train, Y_train, X_valida,Y_valida ,X_test , Y_test = split_train_new_pred(dfhf)\n",
    "        columnas=X_test.columns\n",
    "        if verbose: print(f\"Model has been trained. Making predictions\")\n",
    "        # train model and get predictions\n",
    "        if new_date==201617:\n",
    "            model = train_model(X_train = X_train, Y_train = Y_train, X_valida = X_valida, Y_valida = Y_valida)\n",
    "        y_pred_df = get_1_step_prediction(model = model, X_test = X_test, new_date = new_date)\n",
    "\n",
    "        feature_importance = model.feature_importances_\n",
    "        \n",
    "      \n",
    "        if verbose: print(f\"Appending the predictions. df shape is {dfh.shape}\")\n",
    "        # append new predictions to our historical df           \n",
    "        y_pred_df = y_pred_df.reset_index().rename(columns={'index': 'id'})\n",
    "        y_pred_df = y_pred_df.reindex(columns=dfh.columns)\n",
    "        y_pred_df=recuperar_fechas(y_pred_df,dfo)\n",
    "        #y_pred_df=participacion_media(y_pred_df,groupedweek)\n",
    "        y_pred_df = y_pred_df.reindex(columns=dfh.columns)\n",
    "        dfh=dfh[dfh[\"yearweek\"]!=new_date]\n",
    "        dfh.reset_index(drop=True,inplace=True)\n",
    "        dfh = pd.concat([dfh,y_pred_df])\n",
    "        dfh.sort_values([\"id\", \"yearweek\"], ascending = True, inplace = True)\n",
    "        dfh.reset_index(drop=True,inplace=True)\n",
    "\n",
    "        Y_train_predict = model.predict(X_train).astype(\"float64\")\n",
    "        Y_valida_predict = model.predict(X_valida).astype(\"float64\")\n",
    "\n",
    "        rmse_train = np.sqrt(\n",
    "                                mean_squared_error(\n",
    "                                    y_true = Y_train,\n",
    "                                    y_pred = Y_train_predict\n",
    "                                )\n",
    "                            )\n",
    "\n",
    "        rmse_valida = np.sqrt(\n",
    "                                mean_squared_error(\n",
    "                                    y_true = Y_valida,\n",
    "                                    y_pred = Y_valida_predict\n",
    "                                )\n",
    "                            )\n",
    "\n",
    "        rmse_train= str(round(rmse_train, 3)).replace(\".\", \"_\")\n",
    "        rmse_valida = str(round(rmse_valida, 3)).replace(\".\", \"_\")\n",
    "        print(rmse_train,rmse_valida)\n",
    "        \n",
    "        if new_date==201617:\n",
    "            Y_valida_predict = model.predict(X_valida).astype(\"float64\")\n",
    "            y_val_df=X_valida.copy(deep=True)\n",
    "            y_val_df[\"Cantidad\"] = Y_valida_predict\n",
    "            y_val_df = y_val_df.reset_index().rename(columns={'index': 'id'})\n",
    "            y_val_df = y_val_df.reindex(columns=dfh.columns)\n",
    "            y_val_df=recuperar_fechas(y_val_df,dfo)\n",
    "            y_val_df = y_val_df.reindex(columns=dfh.columns)\n",
    "            a=(feature_importance,rmse_train,rmse_valida)\n",
    "            resultados.append(a)\n",
    "            res=pd.DataFrame(resultados,columns=[\"modelo\",\"Train RMSE\", \"Validation RMSE\"])\n",
    "        if verbose: print()\n",
    "        \n",
    "    return dfh,y_val_df,res,columnas\n",
    "\n",
    "def plot_predictions(dfho, dffo, title = \"Normal XGBoost\"):\n",
    "    '''\n",
    "    Plots the results: \n",
    "        for historical data (dfho), \n",
    "        future data (dffo)\n",
    "        predictions (dfho.index.isin(dffo.index))\n",
    "    '''\n",
    "    x=dffo.set_index(\"date\").resample(\"W\")[\"Cantidad\"].sum()\n",
    "    y=dfho.set_index(\"date\").resample(\"W\")[\"Cantidad\"].sum()\n",
    "    fig = plt.figure(figsize = (12, 5))\n",
    "    ax = fig.add_subplot()\n",
    "    \n",
    "    ax.plot(y[-59:-4], color = \"blue\", label = \"Historical Data\")\n",
    "    ax.plot(x, color = \"green\", label = \"Validation Data\")\n",
    "    ax.plot(y[-4:], color = \"red\", label = \"XGBoost Predictions\")\n",
    "    \n",
    "    plt.legend()\n",
    "    plt.suptitle(title)"
   ]
  },
  {
   "cell_type": "code",
   "execution_count": 11,
   "metadata": {},
   "outputs": [],
   "source": [
    "def highly_correlated(X, y, threshold):\n",
    "    col_corr = list() # Set of all the names of deleted columns\n",
    "    colnames = list()\n",
    "    rownames = list()\n",
    "    corr_matrix = X.corr().abs()\n",
    "    for i in range(len(corr_matrix.columns)):\n",
    "        for j in range(i):\n",
    "            if (corr_matrix.iloc[i, j] >= threshold) and (corr_matrix.columns[j] not in col_corr):\n",
    "                colnames.append(corr_matrix.columns[i]) # getting the name of column\n",
    "                rownames.append(corr_matrix.index[j])\n",
    "                col_corr.append(corr_matrix.iloc[i, j])\n",
    "    Z = pd.DataFrame({'F1':colnames,\n",
    "                      'F2':rownames,\n",
    "                      'corr_F1_F2':col_corr,\n",
    "                      'corr_F1_target': [np.abs(np.corrcoef(X[i],y)[0,1]) for i in colnames],\n",
    "                      'corr_F2_target': [np.abs(np.corrcoef(X[i],y)[0,1]) for i in rownames]\n",
    "                      })\n",
    "    Z['F_to_delete'] = rownames\n",
    "    Z['F_to_delete'][Z['corr_F1_target'] < Z['corr_F2_target']] = Z['F1'][Z['corr_F1_target'] < Z['corr_F2_target']]\n",
    "\n",
    "    return Z"
   ]
  },
  {
   "cell_type": "markdown",
   "metadata": {},
   "source": [
    "# Series Temporales"
   ]
  },
  {
   "cell_type": "code",
   "execution_count": 12,
   "metadata": {},
   "outputs": [],
   "source": [
    "VERBOSE = False\n",
    "CWD = os.getcwd()\n",
    "DATA_PATH = os.path.join(CWD, \"data\")"
   ]
  },
  {
   "cell_type": "code",
   "execution_count": 13,
   "metadata": {},
   "outputs": [],
   "source": [
    "dfo,dfof = load_data(TRAIN_CSV_PATH = os.path.join(DATA_PATH, \"ventassem.csv\"))"
   ]
  },
  {
   "cell_type": "code",
   "execution_count": 14,
   "metadata": {},
   "outputs": [
    {
     "data": {
      "text/plain": [
       "30490"
      ]
     },
     "execution_count": 14,
     "metadata": {},
     "output_type": "execute_result"
    }
   ],
   "source": [
    "dfo[\"id\"].nunique()"
   ]
  },
  {
   "cell_type": "code",
   "execution_count": 15,
   "metadata": {},
   "outputs": [
    {
     "data": {
      "text/plain": [
       "30456"
      ]
     },
     "execution_count": 15,
     "metadata": {},
     "output_type": "execute_result"
    }
   ],
   "source": [
    "dfof[\"id\"].nunique()"
   ]
  },
  {
   "cell_type": "code",
   "execution_count": 16,
   "metadata": {},
   "outputs": [],
   "source": [
    "y = dfof.set_index('date').resample(\"W\")[\"Cantidad\"].sum()[:-4] # quitamos los registros de las ultimas 4 semanas"
   ]
  },
  {
   "cell_type": "code",
   "execution_count": 17,
   "metadata": {},
   "outputs": [
    {
     "data": {
      "image/png": "[encoded data removed]",
      "text/plain": [
       "<Figure size 1200x1000 with 3 Axes>"
      ]
     },
     "metadata": {},
     "output_type": "display_data"
    }
   ],
   "source": [
    "plot_ts_acf_pacf(y = y, title = \"Weekly Sales for all items in all shops\");"
   ]
  },
  {
   "cell_type": "code",
   "execution_count": 18,
   "metadata": {},
   "outputs": [],
   "source": [
    "#groupedweek.head()"
   ]
  },
  {
   "cell_type": "markdown",
   "metadata": {},
   "source": [
    "## Global"
   ]
  },
  {
   "cell_type": "code",
   "execution_count": 19,
   "metadata": {},
   "outputs": [],
   "source": [
    "NR_ROWS=dfof[\"id\"].nunique()*4\n",
    "\n",
    "dfho = dfof[:-NR_ROWS] # historical data\n",
    "dffo = dfof[-NR_ROWS:] # let`s imagine this is future data\n",
    "\n",
    "idxf=dffo[\"yearweek\"].unique().tolist()\n",
    "dfho.sort_values([\"id\", \"yearweek\"], ascending = True, inplace = True)\n",
    "dffo.sort_values([\"id\", \"yearweek\"], ascending = True, inplace = True)\n"
   ]
  },
  {
   "cell_type": "code",
   "execution_count": 20,
   "metadata": {},
   "outputs": [
    {
     "data": {
      "text/plain": [
       "array([0, 1, 2], dtype=uint8)"
      ]
     },
     "execution_count": 20,
     "metadata": {},
     "output_type": "execute_result"
    }
   ],
   "source": [
    "dfof[\"category\"].unique()"
   ]
  },
  {
   "cell_type": "code",
   "execution_count": 21,
   "metadata": {},
   "outputs": [],
   "source": [
    "region=0"
   ]
  },
  {
   "cell_type": "code",
   "execution_count": 22,
   "metadata": {},
   "outputs": [],
   "source": [
    "dfhos=dfho[dfho[\"region\"]==region]\n",
    "dfhos.drop([\"region\"], inplace = True, axis = 1)\n",
    "dffos=dffo[dffo[\"region\"]==region]\n",
    "dffos.drop([\"region\"], inplace = True, axis = 1)\n",
    "dff0= pd.DataFrame(columns=dfof.columns)\n",
    "dfv0=pd.DataFrame(columns=dfof.columns)\n",
    "res0=pd.DataFrame(columns=[\"modelo\",\"Train RMSE\", \"Validation RMSE\",\"category\"])\n"
   ]
  },
  {
   "cell_type": "code",
   "execution_count": 23,
   "metadata": {},
   "outputs": [],
   "source": [
    "y = dfhos.set_index('date').resample(\"W\")[\"Cantidad\"].sum()[:-4] # quitamos los registros de las ultimas 4 semanas"
   ]
  },
  {
   "cell_type": "code",
   "execution_count": 24,
   "metadata": {},
   "outputs": [
    {
     "data": {
      "image/png": "[encoded data removed]",
      "text/plain": [
       "<Figure size 1200x1000 with 3 Axes>"
      ]
     },
     "metadata": {},
     "output_type": "display_data"
    }
   ],
   "source": [
    "plot_ts_acf_pacf(y = y, title = \"Weekly Sales for all items in all shops\");"
   ]
  },
  {
   "cell_type": "code",
   "execution_count": 25,
   "metadata": {},
   "outputs": [
    {
     "name": "stdout",
     "output_type": "stream",
     "text": [
      "cat=  0\n",
      "201617\n",
      "[LightGBM] [Warning] early_stopping_round is set=10, early_stopping_rounds=10 will be ignored. Current value: early_stopping_round=10\n",
      "[LightGBM] [Info] Auto-choosing col-wise multi-threading, the overhead of testing was 0.038784 seconds.\n",
      "You can set `force_col_wise=true` to remove the overhead.\n",
      "[LightGBM] [Info] Total Bins 6842\n",
      "[LightGBM] [Info] Number of data points in the train set: 245107, number of used features: 40\n",
      "[LightGBM] [Warning] early_stopping_round is set=10, early_stopping_rounds=10 will be ignored. Current value: early_stopping_round=10\n",
      "[LightGBM] [Info] Start training from score 4.043675\n",
      "Training until validation scores don't improve for 10 rounds\n",
      "Early stopping, best iteration is:\n",
      "[709]\tvalid_0's rmse: 3.93592\n",
      "3_979 3_936\n",
      "201618\n",
      "3_976 3_5\n",
      "201619\n",
      "3_976 2_904\n",
      "201620\n",
      "3_977 2_026\n",
      "cat=  1\n",
      "201617\n",
      "[LightGBM] [Warning] early_stopping_round is set=10, early_stopping_rounds=10 will be ignored. Current value: early_stopping_round=10\n",
      "[LightGBM] [Info] Auto-choosing row-wise multi-threading, the overhead of testing was 0.008833 seconds.\n",
      "You can set `force_row_wise=true` to remove the overhead.\n",
      "And if memory is not enough, you can set `force_col_wise=true`.\n",
      "[LightGBM] [Info] Total Bins 7684\n",
      "[LightGBM] [Info] Number of data points in the train set: 448704, number of used features: 40\n",
      "[LightGBM] [Warning] early_stopping_round is set=10, early_stopping_rounds=10 will be ignored. Current value: early_stopping_round=10\n",
      "[LightGBM] [Info] Start training from score 6.141534\n",
      "Training until validation scores don't improve for 10 rounds\n",
      "Early stopping, best iteration is:\n",
      "[573]\tvalid_0's rmse: 4.68265\n",
      "5_426 4_683\n",
      "201618\n",
      "5_421 4_043\n",
      "201619\n",
      "5_419 3_165\n",
      "201620\n",
      "5_413 2_226\n",
      "cat=  2\n",
      "201617\n",
      "[LightGBM] [Warning] early_stopping_round is set=10, early_stopping_rounds=10 will be ignored. Current value: early_stopping_round=10\n",
      "[LightGBM] [Info] Auto-choosing row-wise multi-threading, the overhead of testing was 0.016193 seconds.\n",
      "You can set `force_row_wise=true` to remove the overhead.\n",
      "And if memory is not enough, you can set `force_col_wise=true`.\n",
      "[LightGBM] [Info] Total Bins 8361\n",
      "[LightGBM] [Info] Number of data points in the train set: 614862, number of used features: 40\n",
      "[LightGBM] [Warning] early_stopping_round is set=10, early_stopping_rounds=10 will be ignored. Current value: early_stopping_round=10\n",
      "[LightGBM] [Info] Start training from score 12.024425\n",
      "Training until validation scores don't improve for 10 rounds\n",
      "Early stopping, best iteration is:\n",
      "[692]\tvalid_0's rmse: 7.17715\n",
      "11_052 7_177\n",
      "201618\n",
      "11_033 6_039\n",
      "201619\n",
      "11_01 4_88\n",
      "201620\n",
      "10_986 3_569\n"
     ]
    },
    {
     "data": {
      "image/png": "[encoded data removed]",
      "text/plain": [
       "<Figure size 1200x500 with 1 Axes>"
      ]
     },
     "metadata": {},
     "output_type": "display_data"
    }
   ],
   "source": [
    "for cat in dfo[\"category\"].unique().tolist():\n",
    "    print(\"cat= \",cat) \n",
    "    dfhoc=dfhos[dfhos[\"category\"]==cat]\n",
    "    dfhoc.drop([\"category\"], inplace = True, axis = 1)\n",
    "    dffoc=dffos[dffos[\"category\"]==cat]\n",
    "    dffoc.drop([\"category\"], inplace = True, axis = 1)\n",
    "    dfhoc,dfvv,res,col= get_n_step_prediction(dfh = dfhoc, idxf = idxf,dffo=dffoc,dfo=dfo, verbose = VERBOSE)\n",
    "    dfvv[\"category\"]=cat\n",
    "    dfhoc[\"category\"]=cat\n",
    "    res[\"category\"]=cat\n",
    "    dfhoc = dfhoc.reindex(columns=dfo.columns)\n",
    "    dff0=pd.concat([dff0,dfhoc])\n",
    "    dfv0=pd.concat([dfv0,dfvv])\n",
    "    res0=pd.concat([res0,res])\n",
    "dff0[\"region\"]=region\n",
    "dfv0[\"region\"]=region\n",
    "res0[\"region\"]=region\n",
    "#dfho.sort_values([\"id\", \"yearweek\"], ascending = True, inplace = True)\n",
    "#dfhoss=recuperar_fechas(dfho,dfo)\n",
    "\n",
    "plot_predictions(dfho =dff0, dffo = dfv0)"
   ]
  },
  {
   "cell_type": "code",
   "execution_count": 26,
   "metadata": {},
   "outputs": [],
   "source": [
    "dfhoc=dfhos[dfhos[\"category\"]==2]\n",
    "dfhoc.drop([\"category\"], inplace = True, axis = 1)"
   ]
  },
  {
   "cell_type": "code",
   "execution_count": 27,
   "metadata": {},
   "outputs": [],
   "source": [
    "y = dfhoc.set_index('date').resample(\"W\")[\"Cantidad\"].sum()[:-4] # quitamos los registros de las ultimas 4 semanas"
   ]
  },
  {
   "cell_type": "code",
   "execution_count": 28,
   "metadata": {},
   "outputs": [
    {
     "data": {
      "image/png": "[encoded data removed]",
      "text/plain": [
       "<Figure size 1200x1000 with 3 Axes>"
      ]
     },
     "metadata": {},
     "output_type": "display_data"
    }
   ],
   "source": [
    "plot_ts_acf_pacf(y = y, title = \"Weekly Sales for all items in all shops\");"
   ]
  },
  {
   "cell_type": "code",
   "execution_count": null,
   "metadata": {},
   "outputs": [],
   "source": []
  },
  {
   "cell_type": "code",
   "execution_count": 29,
   "metadata": {},
   "outputs": [],
   "source": [
    "region=1"
   ]
  },
  {
   "cell_type": "code",
   "execution_count": 30,
   "metadata": {},
   "outputs": [],
   "source": [
    "dfhos=dfho[dfho[\"region\"]==region]\n",
    "dfhos.drop([\"region\"], inplace = True, axis = 1)\n",
    "dffos=dffo[dffo[\"region\"]==region]\n",
    "dffos.drop([\"region\"], inplace = True, axis = 1)\n",
    "dff1= pd.DataFrame(columns=dfof.columns)\n",
    "dfv1=pd.DataFrame(columns=dfof.columns)\n",
    "res1=pd.DataFrame(columns=[\"modelo\",\"Train RMSE\", \"Validation RMSE\",\"category\"])"
   ]
  },
  {
   "cell_type": "code",
   "execution_count": 31,
   "metadata": {},
   "outputs": [
    {
     "name": "stdout",
     "output_type": "stream",
     "text": [
      "cat=  0\n",
      "201617\n",
      "[LightGBM] [Warning] early_stopping_round is set=10, early_stopping_rounds=10 will be ignored. Current value: early_stopping_round=10\n",
      "[LightGBM] [Info] Auto-choosing row-wise multi-threading, the overhead of testing was 0.014188 seconds.\n",
      "You can set `force_row_wise=true` to remove the overhead.\n",
      "And if memory is not enough, you can set `force_col_wise=true`.\n",
      "[LightGBM] [Info] Total Bins 7402\n",
      "[LightGBM] [Info] Number of data points in the train set: 324956, number of used features: 40\n",
      "[LightGBM] [Warning] early_stopping_round is set=10, early_stopping_rounds=10 will be ignored. Current value: early_stopping_round=10\n",
      "[LightGBM] [Info] Start training from score 5.793741\n",
      "Training until validation scores don't improve for 10 rounds\n",
      "Early stopping, best iteration is:\n",
      "[691]\tvalid_0's rmse: 5.10503\n",
      "5_298 5_105\n",
      "201618\n",
      "5_301 4_265\n",
      "201619\n",
      "5_299 3_426\n",
      "201620\n",
      "5_296 2_437\n",
      "cat=  1\n",
      "201617\n",
      "[LightGBM] [Warning] early_stopping_round is set=10, early_stopping_rounds=10 will be ignored. Current value: early_stopping_round=10\n",
      "[LightGBM] [Info] Auto-choosing row-wise multi-threading, the overhead of testing was 0.025234 seconds.\n",
      "You can set `force_row_wise=true` to remove the overhead.\n",
      "And if memory is not enough, you can set `force_col_wise=true`.\n",
      "[LightGBM] [Info] Total Bins 8240\n",
      "[LightGBM] [Info] Number of data points in the train set: 594211, number of used features: 40\n",
      "[LightGBM] [Warning] early_stopping_round is set=10, early_stopping_rounds=10 will be ignored. Current value: early_stopping_round=10\n",
      "[LightGBM] [Info] Start training from score 6.926349\n",
      "Training until validation scores don't improve for 10 rounds\n",
      "Did not meet early stopping. Best iteration is:\n",
      "[1000]\tvalid_0's rmse: 5.0524\n",
      "5_084 5_052\n",
      "201618\n",
      "5_084 4_372\n",
      "201619\n",
      "5_09 3_267\n",
      "201620\n",
      "5_087 2_288\n",
      "cat=  2\n",
      "201617\n",
      "[LightGBM] [Warning] early_stopping_round is set=10, early_stopping_rounds=10 will be ignored. Current value: early_stopping_round=10\n",
      "[LightGBM] [Info] Auto-choosing row-wise multi-threading, the overhead of testing was 0.036161 seconds.\n",
      "You can set `force_row_wise=true` to remove the overhead.\n",
      "And if memory is not enough, you can set `force_col_wise=true`.\n",
      "[LightGBM] [Info] Total Bins 8355\n",
      "[LightGBM] [Info] Number of data points in the train set: 787390, number of used features: 40\n",
      "[LightGBM] [Warning] early_stopping_round is set=10, early_stopping_rounds=10 will be ignored. Current value: early_stopping_round=10\n",
      "[LightGBM] [Info] Start training from score 14.403241\n",
      "Training until validation scores don't improve for 10 rounds\n",
      "Early stopping, best iteration is:\n",
      "[725]\tvalid_0's rmse: 8.48322\n",
      "12_565 8_483\n",
      "201618\n",
      "12_544 7_071\n",
      "201619\n",
      "12_524 5_314\n",
      "201620\n",
      "12_494 3_946\n"
     ]
    },
    {
     "data": {
      "image/png": "[encoded data removed]",
      "text/plain": [
       "<Figure size 1200x500 with 1 Axes>"
      ]
     },
     "metadata": {},
     "output_type": "display_data"
    }
   ],
   "source": [
    "for cat in dfo[\"category\"].unique().tolist():\n",
    "    print(\"cat= \",cat) \n",
    "    dfhoc=dfhos[dfhos[\"category\"]==cat]\n",
    "    dfhoc.drop([\"category\"], inplace = True, axis = 1)\n",
    "    dffoc=dffos[dffos[\"category\"]==cat]\n",
    "    dffoc.drop([\"category\"], inplace = True, axis = 1)\n",
    "    dfhoc,dfvv,res,col= get_n_step_prediction(dfh = dfhoc, idxf = idxf,dffo=dffoc,dfo=dfo, verbose = VERBOSE)\n",
    "    dfvv[\"category\"]=cat\n",
    "    dfhoc[\"category\"]=cat\n",
    "    res[\"category\"]=cat\n",
    "    dfhoc = dfhoc.reindex(columns=dfo.columns)\n",
    "    dff1=pd.concat([dff1,dfhoc])\n",
    "    dfv1=pd.concat([dfv1,dfvv])\n",
    "    res1=pd.concat([res1,res])\n",
    "dff1[\"region\"]=region\n",
    "dfv1[\"region\"]=region\n",
    "res1[\"region\"]=region\n",
    "#dfho.sort_values([\"id\", \"yearweek\"], ascending = True, inplace = True)\n",
    "#dfhoss=recuperar_fechas(dfho,dfo)\n",
    "\n",
    "plot_predictions(dfho =dff1, dffo = dfv1)"
   ]
  },
  {
   "cell_type": "code",
   "execution_count": 32,
   "metadata": {},
   "outputs": [],
   "source": [
    "region=2"
   ]
  },
  {
   "cell_type": "code",
   "execution_count": 33,
   "metadata": {},
   "outputs": [],
   "source": [
    "dfhos=dfho[dfho[\"region\"]==region]\n",
    "dfhos.drop([\"region\"], inplace = True, axis = 1)\n",
    "dffos=dffo[dffo[\"region\"]==region]\n",
    "dffos.drop([\"region\"], inplace = True, axis = 1)\n",
    "dff2= pd.DataFrame(columns=dfof.columns)\n",
    "dfv2=pd.DataFrame(columns=dfof.columns)\n",
    "res2=pd.DataFrame(columns=[\"modelo\",\"Train RMSE\", \"Validation RMSE\",\"category\"])\n",
    "\n"
   ]
  },
  {
   "cell_type": "code",
   "execution_count": 34,
   "metadata": {},
   "outputs": [
    {
     "name": "stdout",
     "output_type": "stream",
     "text": [
      "cat=  0\n",
      "201617\n",
      "[LightGBM] [Warning] early_stopping_round is set=10, early_stopping_rounds=10 will be ignored. Current value: early_stopping_round=10\n",
      "[LightGBM] [Info] Auto-choosing row-wise multi-threading, the overhead of testing was 0.024821 seconds.\n",
      "You can set `force_row_wise=true` to remove the overhead.\n",
      "And if memory is not enough, you can set `force_col_wise=true`.\n",
      "[LightGBM] [Info] Total Bins 6574\n",
      "[LightGBM] [Info] Number of data points in the train set: 245767, number of used features: 40\n",
      "[LightGBM] [Warning] early_stopping_round is set=10, early_stopping_rounds=10 will be ignored. Current value: early_stopping_round=10\n",
      "[LightGBM] [Info] Start training from score 3.654742\n",
      "Training until validation scores don't improve for 10 rounds\n",
      "Did not meet early stopping. Best iteration is:\n",
      "[1000]\tvalid_0's rmse: 3.75426\n",
      "3_455 3_754\n",
      "201618\n",
      "3_458 3_197\n",
      "201619\n",
      "3_459 2_646\n",
      "201620\n",
      "3_463 1_749\n",
      "cat=  1\n",
      "201617\n",
      "[LightGBM] [Warning] early_stopping_round is set=10, early_stopping_rounds=10 will be ignored. Current value: early_stopping_round=10\n",
      "[LightGBM] [Info] Auto-choosing row-wise multi-threading, the overhead of testing was 0.077520 seconds.\n",
      "You can set `force_row_wise=true` to remove the overhead.\n",
      "And if memory is not enough, you can set `force_col_wise=true`.\n",
      "[LightGBM] [Info] Total Bins 7628\n",
      "[LightGBM] [Info] Number of data points in the train set: 446963, number of used features: 40\n",
      "[LightGBM] [Warning] early_stopping_round is set=10, early_stopping_rounds=10 will be ignored. Current value: early_stopping_round=10\n",
      "[LightGBM] [Info] Start training from score 5.216047\n",
      "Training until validation scores don't improve for 10 rounds\n",
      "Early stopping, best iteration is:\n",
      "[669]\tvalid_0's rmse: 4.68608\n",
      "4_496 4_686\n",
      "201618\n",
      "4_507 3_657\n",
      "201619\n",
      "4_507 2_886\n",
      "201620\n",
      "4_505 2_006\n",
      "cat=  2\n",
      "201617\n",
      "[LightGBM] [Warning] early_stopping_round is set=10, early_stopping_rounds=10 will be ignored. Current value: early_stopping_round=10\n",
      "[LightGBM] [Info] Auto-choosing row-wise multi-threading, the overhead of testing was 0.051909 seconds.\n",
      "You can set `force_row_wise=true` to remove the overhead.\n",
      "And if memory is not enough, you can set `force_col_wise=true`.\n",
      "[LightGBM] [Info] Total Bins 8358\n",
      "[LightGBM] [Info] Number of data points in the train set: 616536, number of used features: 40\n",
      "[LightGBM] [Warning] early_stopping_round is set=10, early_stopping_rounds=10 will be ignored. Current value: early_stopping_round=10\n",
      "[LightGBM] [Info] Start training from score 12.936730\n",
      "Training until validation scores don't improve for 10 rounds\n",
      "Early stopping, best iteration is:\n",
      "[842]\tvalid_0's rmse: 11.6154\n",
      "11_964 11_615\n",
      "201618\n",
      "11_947 10_644\n",
      "201619\n",
      "11_975 7_326\n",
      "201620\n",
      "11_964 5_182\n"
     ]
    },
    {
     "data": {
      "image/png": "[encoded data removed]",
      "text/plain": [
       "<Figure size 1200x500 with 1 Axes>"
      ]
     },
     "metadata": {},
     "output_type": "display_data"
    }
   ],
   "source": [
    "for cat in dfo[\"category\"].unique().tolist():\n",
    "    print(\"cat= \",cat) \n",
    "    dfhoc=dfhos[dfhos[\"category\"]==cat]\n",
    "    dfhoc.drop([\"category\"], inplace = True, axis = 1)\n",
    "    dffoc=dffos[dffos[\"category\"]==cat]\n",
    "    dffoc.drop([\"category\"], inplace = True, axis = 1)\n",
    "    dfhoc,dfvv,res,col= get_n_step_prediction(dfh = dfhoc, idxf = idxf,dffo=dffoc,dfo=dfo, verbose = VERBOSE)\n",
    "    dfvv[\"category\"]=cat\n",
    "    dfhoc[\"category\"]=cat\n",
    "    res[\"category\"]=cat\n",
    "    dfhoc = dfhoc.reindex(columns=dfo.columns)\n",
    "    dff2=pd.concat([dff2,dfhoc])\n",
    "    dfv2=pd.concat([dfv2,dfvv])\n",
    "    res2=pd.concat([res2,res])\n",
    "\n",
    "dff2[\"region\"]=region\n",
    "dfv2[\"region\"]=region\n",
    "res2[\"region\"]=region\n",
    "#dfho.sort_values([\"id\", \"yearweek\"], ascending = True, inplace = True)\n",
    "#dfhoss=recuperar_fechas(dfho,dfo)\n",
    "\n",
    "plot_predictions(dfho =dff2, dffo = dfv2)"
   ]
  },
  {
   "cell_type": "markdown",
   "metadata": {},
   "source": [
    "PARAR!!!!!!!!!!!!!!!!!!!"
   ]
  },
  {
   "cell_type": "code",
   "execution_count": null,
   "metadata": {},
   "outputs": [],
   "source": []
  },
  {
   "cell_type": "code",
   "execution_count": null,
   "metadata": {},
   "outputs": [],
   "source": []
  },
  {
   "cell_type": "code",
   "execution_count": null,
   "metadata": {},
   "outputs": [],
   "source": []
  },
  {
   "cell_type": "code",
   "execution_count": null,
   "metadata": {},
   "outputs": [],
   "source": []
  },
  {
   "cell_type": "code",
   "execution_count": null,
   "metadata": {},
   "outputs": [],
   "source": []
  },
  {
   "cell_type": "code",
   "execution_count": null,
   "metadata": {},
   "outputs": [],
   "source": []
  },
  {
   "cell_type": "code",
   "execution_count": null,
   "metadata": {},
   "outputs": [],
   "source": []
  },
  {
   "cell_type": "code",
   "execution_count": null,
   "metadata": {},
   "outputs": [],
   "source": []
  },
  {
   "cell_type": "code",
   "execution_count": null,
   "metadata": {},
   "outputs": [],
   "source": []
  },
  {
   "cell_type": "code",
   "execution_count": null,
   "metadata": {},
   "outputs": [],
   "source": []
  },
  {
   "cell_type": "code",
   "execution_count": null,
   "metadata": {},
   "outputs": [],
   "source": []
  },
  {
   "cell_type": "code",
   "execution_count": null,
   "metadata": {},
   "outputs": [],
   "source": []
  },
  {
   "cell_type": "code",
   "execution_count": null,
   "metadata": {},
   "outputs": [],
   "source": []
  },
  {
   "cell_type": "code",
   "execution_count": null,
   "metadata": {},
   "outputs": [],
   "source": []
  },
  {
   "cell_type": "code",
   "execution_count": null,
   "metadata": {},
   "outputs": [],
   "source": []
  },
  {
   "cell_type": "code",
   "execution_count": null,
   "metadata": {},
   "outputs": [],
   "source": []
  },
  {
   "cell_type": "code",
   "execution_count": null,
   "metadata": {},
   "outputs": [],
   "source": []
  },
  {
   "cell_type": "code",
   "execution_count": null,
   "metadata": {},
   "outputs": [],
   "source": []
  },
  {
   "cell_type": "code",
   "execution_count": null,
   "metadata": {},
   "outputs": [],
   "source": []
  },
  {
   "cell_type": "code",
   "execution_count": null,
   "metadata": {},
   "outputs": [],
   "source": []
  },
  {
   "cell_type": "code",
   "execution_count": null,
   "metadata": {},
   "outputs": [],
   "source": []
  },
  {
   "cell_type": "code",
   "execution_count": null,
   "metadata": {},
   "outputs": [],
   "source": []
  },
  {
   "cell_type": "code",
   "execution_count": 35,
   "metadata": {},
   "outputs": [],
   "source": [
    "resultado=pd.concat([res0,res1,res2])"
   ]
  },
  {
   "cell_type": "code",
   "execution_count": 36,
   "metadata": {},
   "outputs": [
    {
     "data": {
      "text/html": [
       "<div>\n",
       "<style scoped>\n",
       "    .dataframe tbody tr th:only-of-type {\n",
       "        vertical-align: middle;\n",
       "    }\n",
       "\n",
       "    .dataframe tbody tr th {\n",
       "        vertical-align: top;\n",
       "    }\n",
       "\n",
       "    .dataframe thead th {\n",
       "        text-align: right;\n",
       "    }\n",
       "</style>\n",
       "<table border=\"1\" class=\"dataframe\">\n",
       "  <thead>\n",
       "    <tr style=\"text-align: right;\">\n",
       "      <th></th>\n",
       "      <th>modelo</th>\n",
       "      <th>Train RMSE</th>\n",
       "      <th>Validation RMSE</th>\n",
       "      <th>category</th>\n",
       "      <th>region</th>\n",
       "    </tr>\n",
       "  </thead>\n",
       "  <tbody>\n",
       "    <tr>\n",
       "      <th>0</th>\n",
       "      <td>[786, 2, 222, 1109, 1718, 17, 487, 144, 0, 0, ...</td>\n",
       "      <td>3_979</td>\n",
       "      <td>3_936</td>\n",
       "      <td>0</td>\n",
       "      <td>0</td>\n",
       "    </tr>\n",
       "    <tr>\n",
       "      <th>0</th>\n",
       "      <td>[358, 135, 38, 701, 748, 15, 707, 122, 0, 0, 3...</td>\n",
       "      <td>5_426</td>\n",
       "      <td>4_683</td>\n",
       "      <td>1</td>\n",
       "      <td>0</td>\n",
       "    </tr>\n",
       "    <tr>\n",
       "      <th>0</th>\n",
       "      <td>[396, 0, 35, 628, 1673, 272, 1014, 180, 0, 0, ...</td>\n",
       "      <td>11_052</td>\n",
       "      <td>7_177</td>\n",
       "      <td>2</td>\n",
       "      <td>0</td>\n",
       "    </tr>\n",
       "    <tr>\n",
       "      <th>0</th>\n",
       "      <td>[632, 3, 239, 1891, 1188, 13, 775, 73, 0, 0, 4...</td>\n",
       "      <td>5_298</td>\n",
       "      <td>5_105</td>\n",
       "      <td>0</td>\n",
       "      <td>1</td>\n",
       "    </tr>\n",
       "    <tr>\n",
       "      <th>0</th>\n",
       "      <td>[520, 242, 839, 1634, 1214, 140, 2057, 334, 0,...</td>\n",
       "      <td>5_084</td>\n",
       "      <td>5_052</td>\n",
       "      <td>1</td>\n",
       "      <td>1</td>\n",
       "    </tr>\n",
       "    <tr>\n",
       "      <th>0</th>\n",
       "      <td>[435, 0, 114, 912, 1452, 60, 1091, 198, 0, 0, ...</td>\n",
       "      <td>12_565</td>\n",
       "      <td>8_483</td>\n",
       "      <td>2</td>\n",
       "      <td>1</td>\n",
       "    </tr>\n",
       "    <tr>\n",
       "      <th>0</th>\n",
       "      <td>[766, 124, 788, 2024, 1878, 72, 1134, 130, 0, ...</td>\n",
       "      <td>3_455</td>\n",
       "      <td>3_754</td>\n",
       "      <td>0</td>\n",
       "      <td>2</td>\n",
       "    </tr>\n",
       "    <tr>\n",
       "      <th>0</th>\n",
       "      <td>[203, 137, 190, 993, 695, 190, 2156, 112, 0, 0...</td>\n",
       "      <td>4_496</td>\n",
       "      <td>4_686</td>\n",
       "      <td>1</td>\n",
       "      <td>2</td>\n",
       "    </tr>\n",
       "    <tr>\n",
       "      <th>0</th>\n",
       "      <td>[433, 0, 82, 1042, 1343, 10, 1435, 138, 0, 0, ...</td>\n",
       "      <td>11_964</td>\n",
       "      <td>11_615</td>\n",
       "      <td>2</td>\n",
       "      <td>2</td>\n",
       "    </tr>\n",
       "  </tbody>\n",
       "</table>\n",
       "</div>"
      ],
      "text/plain": [
       "                                              modelo Train RMSE  \\\n",
       "0  [786, 2, 222, 1109, 1718, 17, 487, 144, 0, 0, ...      3_979   \n",
       "0  [358, 135, 38, 701, 748, 15, 707, 122, 0, 0, 3...      5_426   \n",
       "0  [396, 0, 35, 628, 1673, 272, 1014, 180, 0, 0, ...     11_052   \n",
       "0  [632, 3, 239, 1891, 1188, 13, 775, 73, 0, 0, 4...      5_298   \n",
       "0  [520, 242, 839, 1634, 1214, 140, 2057, 334, 0,...      5_084   \n",
       "0  [435, 0, 114, 912, 1452, 60, 1091, 198, 0, 0, ...     12_565   \n",
       "0  [766, 124, 788, 2024, 1878, 72, 1134, 130, 0, ...      3_455   \n",
       "0  [203, 137, 190, 993, 695, 190, 2156, 112, 0, 0...      4_496   \n",
       "0  [433, 0, 82, 1042, 1343, 10, 1435, 138, 0, 0, ...     11_964   \n",
       "\n",
       "  Validation RMSE category  region  \n",
       "0           3_936        0       0  \n",
       "0           4_683        1       0  \n",
       "0           7_177        2       0  \n",
       "0           5_105        0       1  \n",
       "0           5_052        1       1  \n",
       "0           8_483        2       1  \n",
       "0           3_754        0       2  \n",
       "0           4_686        1       2  \n",
       "0          11_615        2       2  "
      ]
     },
     "execution_count": 36,
     "metadata": {},
     "output_type": "execute_result"
    }
   ],
   "source": [
    "resultado"
   ]
  },
  {
   "cell_type": "code",
   "execution_count": 44,
   "metadata": {},
   "outputs": [
    {
     "data": {
      "text/plain": [
       "array([ 786,    2,  222, 1109, 1718,   17,  487,  144,    0,    0, 4289,\n",
       "        593,  328, 2465,  515,  226, 1264,  268,  353,  859,  547, 1068,\n",
       "        477,  194,  149,  343,  212,  114,  271,  179,  207,  413,  216,\n",
       "        230,  252,  255,  193,  102,   80,  123])"
      ]
     },
     "execution_count": 44,
     "metadata": {},
     "output_type": "execute_result"
    }
   ],
   "source": [
    "resultado.iat[0,0]"
   ]
  },
  {
   "cell_type": "code",
   "execution_count": 47,
   "metadata": {},
   "outputs": [
    {
     "data": {
      "text/plain": [
       "Text(0.5, 1.0, 'Feature Importance')"
      ]
     },
     "execution_count": 47,
     "metadata": {},
     "output_type": "execute_result"
    },
    {
     "data": {
      "image/png": "[encoded data removed]",
      "text/plain": [
       "<Figure size 1200x600 with 1 Axes>"
      ]
     },
     "metadata": {},
     "output_type": "display_data"
    }
   ],
   "source": [
    "feature_importance = resultado.iat[2,0]\n",
    "sorted_idx = np.argsort(feature_importance)\n",
    "fig = plt.figure(figsize=(12, 6))\n",
    "plt.barh(range(len(sorted_idx)), feature_importance[sorted_idx], align=\"center\")\n",
    "plt.yticks(range(len(sorted_idx)), np.array(col)[sorted_idx])\n",
    "plt.title(\"Feature Importance\")"
   ]
  },
  {
   "cell_type": "code",
   "execution_count": 56,
   "metadata": {},
   "outputs": [
    {
     "data": {
      "text/plain": [
       "Text(0.5, 1.0, 'Top 5 Feature Importance')"
      ]
     },
     "execution_count": 56,
     "metadata": {},
     "output_type": "execute_result"
    },
    {
     "data": {
      "image/png": "[encoded data removed]",
      "text/plain": [
       "<Figure size 1200x600 with 1 Axes>"
      ]
     },
     "metadata": {},
     "output_type": "display_data"
    }
   ],
   "source": [
    "feature_importance = resultado.iat[2,0]\n",
    "sorted_idx = np.argsort(feature_importance)[::-1]  # Invertimos el orden para que los más importantes estén primero\n",
    "top_5_idx = sorted_idx[:5]  # Seleccionamos solo los primeros 5\n",
    "\n",
    "fig = plt.figure(figsize=(12, 6))\n",
    "plt.barh(range(len(top_5_idx)), feature_importance[top_5_idx], align=\"center\")\n",
    "plt.yticks(range(len(top_5_idx)), np.array(col)[top_5_idx])\n",
    "plt.title(\"Top 5 Feature Importance\")"
   ]
  },
  {
   "cell_type": "code",
   "execution_count": 48,
   "metadata": {},
   "outputs": [],
   "source": [
    "dfv=pd.concat([dfv0,dfv1,dfv2])"
   ]
  },
  {
   "cell_type": "code",
   "execution_count": 49,
   "metadata": {},
   "outputs": [],
   "source": [
    "dff=pd.concat([dff0,dff1,dff2])"
   ]
  },
  {
   "cell_type": "code",
   "execution_count": 50,
   "metadata": {},
   "outputs": [],
   "source": [
    "y = dfv.set_index('date').resample(\"W\")[\"Cantidad\"].sum() # quitamos los registros de las ultimas 4 semanas"
   ]
  },
  {
   "cell_type": "code",
   "execution_count": 51,
   "metadata": {},
   "outputs": [
    {
     "data": {
      "text/plain": [
       "date\n",
       "2016-04-03    288862.823686\n",
       "2016-04-10    289760.156370\n",
       "2016-04-17    297688.209812\n",
       "2016-04-24    291391.752506\n",
       "Freq: W-SUN, Name: Cantidad, dtype: float64"
      ]
     },
     "execution_count": 51,
     "metadata": {},
     "output_type": "execute_result"
    }
   ],
   "source": [
    "y"
   ]
  },
  {
   "cell_type": "code",
   "execution_count": null,
   "metadata": {},
   "outputs": [],
   "source": [
    "y = dff.set_index('date').resample(\"W\")[\"Cantidad\"].sum() # quitamos los registros de las ultimas 4 semanas"
   ]
  },
  {
   "cell_type": "code",
   "execution_count": null,
   "metadata": {},
   "outputs": [],
   "source": [
    "y[-8:-4]"
   ]
  },
  {
   "cell_type": "code",
   "execution_count": null,
   "metadata": {},
   "outputs": [],
   "source": [
    "plot_predictions(dfho =dff, dffo = dfv)"
   ]
  },
  {
   "cell_type": "code",
   "execution_count": null,
   "metadata": {},
   "outputs": [],
   "source": [
    "dfv=dfv.rename(columns={\"Cantidad\":\"Valid\"})"
   ]
  },
  {
   "cell_type": "code",
   "execution_count": null,
   "metadata": {},
   "outputs": [],
   "source": [
    "dff=pd.merge(dff,dfv[[\"id\",\"yearweek\",\"Valid\"]],how=\"left\",on=[\"id\",\"yearweek\"])"
   ]
  },
  {
   "cell_type": "code",
   "execution_count": null,
   "metadata": {},
   "outputs": [],
   "source": [
    "Y_valid_total=dff[(dff[\"yearweek\"]>201612)&(dff[\"yearweek\"]<201617)][\"Cantidad\"]"
   ]
  },
  {
   "cell_type": "code",
   "execution_count": null,
   "metadata": {},
   "outputs": [],
   "source": [
    "Y_valid_total.min()"
   ]
  },
  {
   "cell_type": "code",
   "execution_count": null,
   "metadata": {},
   "outputs": [],
   "source": [
    "Y_valid_pred=dff[(dff[\"yearweek\"]>201612)&(dff[\"yearweek\"]<201617)][\"Valid\"]"
   ]
  },
  {
   "cell_type": "code",
   "execution_count": null,
   "metadata": {},
   "outputs": [],
   "source": [
    "Y_valid_pred.min()"
   ]
  },
  {
   "cell_type": "code",
   "execution_count": null,
   "metadata": {},
   "outputs": [],
   "source": [
    "rmse_valida = np.sqrt(\n",
    "                                mean_squared_error(\n",
    "                                    y_true = Y_valid_total,\n",
    "                                    y_pred = Y_valid_pred\n",
    "                                )\n",
    "                            )"
   ]
  },
  {
   "cell_type": "code",
   "execution_count": null,
   "metadata": {},
   "outputs": [],
   "source": [
    "rmse_valida"
   ]
  },
  {
   "cell_type": "code",
   "execution_count": null,
   "metadata": {},
   "outputs": [],
   "source": [
    "from pathlib import Path  \n",
    "filepath = Path(\"data/pred.csv\")  \n",
    "filepath.parent.mkdir(parents=True, exist_ok=True)  \n",
    "dff.to_csv(filepath,index=False)  "
   ]
  },
  {
   "cell_type": "code",
   "execution_count": null,
   "metadata": {},
   "outputs": [],
   "source": [
    "from pathlib import Path  \n",
    "filepath = Path(\"data/val.csv\")  \n",
    "filepath.parent.mkdir(parents=True, exist_ok=True)  \n",
    "dfv.to_csv(filepath,index=False)  "
   ]
  },
  {
   "cell_type": "code",
   "execution_count": null,
   "metadata": {},
   "outputs": [],
   "source": [
    "dff=pd.read_csv(\"data/pred.csv\")"
   ]
  },
  {
   "cell_type": "code",
   "execution_count": null,
   "metadata": {},
   "outputs": [],
   "source": [
    "dfv=pd.read_csv(\"data/val.csv\")"
   ]
  },
  {
   "cell_type": "code",
   "execution_count": null,
   "metadata": {},
   "outputs": [],
   "source": [
    "dff[\"date\"]=pd.to_datetime(dff[\"date\"])\n",
    "dfv[\"date\"]=pd.to_datetime(dfv[\"date\"])"
   ]
  },
  {
   "cell_type": "code",
   "execution_count": null,
   "metadata": {},
   "outputs": [],
   "source": [
    "\n",
    "sample1=dff[\"id\"].sample().item()\n",
    "t1=dff[dff[\"id\"]==sample1]\n",
    "t2=dfv[dfv[\"id\"]==sample1]\n",
    "plot_predictions(dfho =t1, dffo = t2,title=sample1)"
   ]
  },
  {
   "cell_type": "code",
   "execution_count": null,
   "metadata": {},
   "outputs": [],
   "source": [
    "\n",
    "sample1=dff[\"id\"].sample().item()\n",
    "t1=dff[dff[\"id\"]==sample1]\n",
    "t2=dfv[dfv[\"id\"]==sample1]\n",
    "plot_predictions(dfho =t1, dffo = t2,title=sample1)"
   ]
  },
  {
   "cell_type": "code",
   "execution_count": null,
   "metadata": {},
   "outputs": [],
   "source": [
    "sample1=dff[\"id\"].sample().item()\n",
    "t1=dff[dff[\"id\"]==sample1]\n",
    "t2=dfv[dfv[\"id\"]==sample1]\n",
    "plot_predictions(dfho =t1, dffo = t2,title=sample1)"
   ]
  },
  {
   "cell_type": "code",
   "execution_count": null,
   "metadata": {},
   "outputs": [],
   "source": [
    "y=dff.set_index(\"date\").resample(\"W\")[\"Cantidad\"].sum()\n",
    "y[-57:]"
   ]
  },
  {
   "cell_type": "code",
   "execution_count": null,
   "metadata": {},
   "outputs": [],
   "source": [
    "x=dfv.set_index(\"date\").resample(\"W\")[\"Cantidad\"].sum()\n",
    "x"
   ]
  },
  {
   "cell_type": "code",
   "execution_count": null,
   "metadata": {},
   "outputs": [],
   "source": [
    "plot_predictions(dfho =dff, dffo = dfv)"
   ]
  },
  {
   "cell_type": "markdown",
   "metadata": {},
   "source": [
    "Prueba Paso a Paso"
   ]
  },
  {
   "cell_type": "code",
   "execution_count": null,
   "metadata": {},
   "outputs": [],
   "source": [
    "R_ROWS=dfof[\"id\"].nunique()*4\n",
    "\n",
    "dfho = dfof[:-NR_ROWS] # historical data\n",
    "dffo = dfof[-NR_ROWS:] # let`s imagine this is future data\n",
    "\n",
    "idxf=dffo[\"yearweek\"].unique().tolist()\n",
    "dfho.sort_values([\"id\", \"yearweek\"], ascending = True, inplace = True)\n",
    "dffo.sort_values([\"id\", \"yearweek\"], ascending = True, inplace = True)"
   ]
  },
  {
   "cell_type": "code",
   "execution_count": null,
   "metadata": {},
   "outputs": [],
   "source": [
    "region=0"
   ]
  },
  {
   "cell_type": "code",
   "execution_count": null,
   "metadata": {},
   "outputs": [],
   "source": [
    "dfhos=dfho[dfho[\"region\"]==region]\n",
    "dfhos.drop([\"region\"], inplace = True, axis = 1)\n",
    "dffos=dffo[dffo[\"region\"]==region]\n",
    "dffos.drop([\"region\"], inplace = True, axis = 1)\n",
    "dff0= pd.DataFrame(columns=dfof.columns)\n",
    "dfv0=pd.DataFrame(columns=dfof.columns)\n",
    "res0=pd.DataFrame(columns=[\"modelo\",\"Train RMSE\", \"Validation RMSE\",\"category\"])\n"
   ]
  },
  {
   "cell_type": "code",
   "execution_count": null,
   "metadata": {},
   "outputs": [],
   "source": [
    "dffos.head()"
   ]
  },
  {
   "cell_type": "code",
   "execution_count": null,
   "metadata": {},
   "outputs": [],
   "source": [
    "cat=0"
   ]
  },
  {
   "cell_type": "code",
   "execution_count": null,
   "metadata": {},
   "outputs": [],
   "source": [
    "print(\"cat= \",cat) \n",
    "dfhoc=dfhos[dfhos[\"category\"]==cat]\n",
    "dfhoc.drop([\"category\"], inplace = True, axis = 1)\n",
    "dffoc=dffos[dffos[\"category\"]==cat]\n",
    "dffoc.drop([\"category\"], inplace = True, axis = 1)"
   ]
  },
  {
   "cell_type": "code",
   "execution_count": null,
   "metadata": {},
   "outputs": [],
   "source": [
    "dfhoc.head()"
   ]
  },
  {
   "cell_type": "code",
   "execution_count": null,
   "metadata": {},
   "outputs": [],
   "source": [
    "new_date=201617"
   ]
  },
  {
   "cell_type": "code",
   "execution_count": null,
   "metadata": {},
   "outputs": [],
   "source": [
    "new_data = dffoc[dffoc[\"yearweek\"]==new_date]\n",
    "dfh = pd.concat([dfhoc,new_data])\n",
    "dfh.sort_values([\"id\", \"yearweek\"], ascending = True, inplace = True)"
   ]
  },
  {
   "cell_type": "code",
   "execution_count": null,
   "metadata": {},
   "outputs": [],
   "source": [
    "dfhf = build_ts_features(df = dfh)"
   ]
  },
  {
   "cell_type": "code",
   "execution_count": null,
   "metadata": {},
   "outputs": [],
   "source": [
    "dfhf.tail()"
   ]
  },
  {
   "cell_type": "code",
   "execution_count": null,
   "metadata": {},
   "outputs": [],
   "source": [
    "X_train, Y_train, X_valida,Y_valida ,X_test , Y_test = split_train_new_pred(dfhf)"
   ]
  },
  {
   "cell_type": "code",
   "execution_count": null,
   "metadata": {},
   "outputs": [],
   "source": [
    "model = train_model(X_train = X_train, Y_train = Y_train, X_valida = X_valida, Y_valida = Y_valida)"
   ]
  },
  {
   "cell_type": "code",
   "execution_count": null,
   "metadata": {},
   "outputs": [],
   "source": [
    "y_pred_df = get_1_step_prediction(model = model, X_test = X_test, new_date = new_date)"
   ]
  },
  {
   "cell_type": "code",
   "execution_count": null,
   "metadata": {},
   "outputs": [],
   "source": [
    "y_pred_df.head()"
   ]
  },
  {
   "cell_type": "code",
   "execution_count": null,
   "metadata": {},
   "outputs": [],
   "source": [
    "y_pred_df = y_pred_df.reset_index().rename(columns={'index': 'id'})\n",
    "y_pred_df = y_pred_df.reindex(columns=dfh.columns)\n",
    "y_pred_df=recuperar_fechas(y_pred_df,dfo)"
   ]
  },
  {
   "cell_type": "code",
   "execution_count": null,
   "metadata": {},
   "outputs": [],
   "source": [
    "#y_pred_df=participacion_media(y_pred_df,groupedweek)\n",
    "y_pred_df = y_pred_df.reindex(columns=dfh.columns)\n",
    "dfh=dfh[dfh[\"yearweek\"]!=new_date]\n",
    "dfh.reset_index(drop=True,inplace=True)\n",
    "dfh = pd.concat([dfh,y_pred_df])\n",
    "dfh.sort_values([\"id\", \"yearweek\"], ascending = True, inplace = True)\n",
    "dfh.reset_index(drop=True,inplace=True)"
   ]
  },
  {
   "cell_type": "code",
   "execution_count": null,
   "metadata": {},
   "outputs": [],
   "source": [
    "y_pred_df[\"Cantidad\"].sum()"
   ]
  },
  {
   "cell_type": "code",
   "execution_count": null,
   "metadata": {},
   "outputs": [],
   "source": [
    "new_date=201617"
   ]
  },
  {
   "cell_type": "code",
   "execution_count": null,
   "metadata": {},
   "outputs": [],
   "source": [
    "dffo.head()"
   ]
  },
  {
   "cell_type": "code",
   "execution_count": null,
   "metadata": {},
   "outputs": [],
   "source": [
    "new_data = dffo[dffo[\"yearweek\"]==new_date]"
   ]
  },
  {
   "cell_type": "code",
   "execution_count": null,
   "metadata": {},
   "outputs": [],
   "source": [
    "new_data.head()"
   ]
  },
  {
   "cell_type": "code",
   "execution_count": null,
   "metadata": {},
   "outputs": [],
   "source": [
    "dfho.shape"
   ]
  },
  {
   "cell_type": "code",
   "execution_count": null,
   "metadata": {},
   "outputs": [],
   "source": [
    "dfho.head()"
   ]
  },
  {
   "cell_type": "code",
   "execution_count": null,
   "metadata": {},
   "outputs": [],
   "source": [
    "new_data.shape"
   ]
  },
  {
   "cell_type": "code",
   "execution_count": null,
   "metadata": {},
   "outputs": [],
   "source": [
    "dfh = pd.concat([dfho,new_data])"
   ]
  },
  {
   "cell_type": "code",
   "execution_count": null,
   "metadata": {},
   "outputs": [],
   "source": [
    "dfh.sort_values([\"item\", \"yearweek\"], ascending = True, inplace = True)"
   ]
  },
  {
   "cell_type": "code",
   "execution_count": null,
   "metadata": {},
   "outputs": [],
   "source": [
    "dfh.shape"
   ]
  },
  {
   "cell_type": "code",
   "execution_count": null,
   "metadata": {},
   "outputs": [],
   "source": [
    "dfh.tail()"
   ]
  },
  {
   "cell_type": "code",
   "execution_count": null,
   "metadata": {},
   "outputs": [],
   "source": [
    "#dfh.sort_values([\"id\", \"yearweek\"], ascending = True, inplace = True)"
   ]
  },
  {
   "cell_type": "code",
   "execution_count": null,
   "metadata": {},
   "outputs": [],
   "source": [
    "df_copy = dfh.copy(deep = True)"
   ]
  },
  {
   "cell_type": "code",
   "execution_count": null,
   "metadata": {},
   "outputs": [],
   "source": [
    "lags = [1,2,3]\n",
    "for lag in lags:\n",
    "    df_copy[\"UID_sales_lag_\"+str(lag)] = df_copy.groupby([\"item\"])[\"Cantidad\"].shift(lag).astype(\"float64\")\n",
    "# for lag in lags:    \n",
    "#     df_copy[\"UID_salesweek_lag_\"+str(lag)] = df_copy.groupby([\"item\"])[\"sales_mon_fri_por_mean\"].shift(lag).astype(\"float64\")\n",
    "# for lag in lags:    \n",
    "#     df_copy[\"UID_saleswkd_lag_\"+str(lag)] = df_copy.groupby([\"item\"])[\"sales_sat_sun_por_mean\"].shift(lag).astype(\"float64\")"
   ]
  },
  {
   "cell_type": "code",
   "execution_count": null,
   "metadata": {},
   "outputs": [],
   "source": [
    "df_copy.head()"
   ]
  },
  {
   "cell_type": "code",
   "execution_count": null,
   "metadata": {},
   "outputs": [],
   "source": [
    "GB_LIST = [\"department\"]\n",
    "TARGET_COLUMN = \"Cantidad\"\n",
    "AGG_FUNC = \"sum\"\n",
    "AGG_FUNC_NAME = \"SUM\"\n",
    "LAG=1\n",
    "\n",
    "df_copy = build_ts_vars(\n",
    "df = df_copy,\n",
    "gb_list = GB_LIST,\n",
    "target_column = TARGET_COLUMN,\n",
    "agg_func = AGG_FUNC,\n",
    "agg_func_name =  AGG_FUNC_NAME,\n",
    "lag=LAG\n",
    ")\n",
    "\n",
    "GB_LIST = [\"category\",\"department\"] # RS: \n",
    "TARGET_COLUMN = \"Cantidad\"\n",
    "AGG_FUNC = \"sum\"\n",
    "AGG_FUNC_NAME = \"sum\"\n",
    "LAG=1\n",
    "df_copy = build_ts_vars(\n",
    "df = df_copy,\n",
    "gb_list = GB_LIST,\n",
    "target_column = TARGET_COLUMN,\n",
    "agg_func = AGG_FUNC,\n",
    "agg_func_name =  AGG_FUNC_NAME,\n",
    "lag=LAG \n",
    ")\n",
    "\n",
    "GB_LIST = [\"category\"] # RS: \n",
    "TARGET_COLUMN = \"Cantidad\"\n",
    "AGG_FUNC = \"sum\"\n",
    "AGG_FUNC_NAME = \"sum\"\n",
    "LAG=1\n",
    "df_copy = build_ts_vars(\n",
    "    df = df_copy,\n",
    "    gb_list = GB_LIST,\n",
    "    target_column = TARGET_COLUMN,\n",
    "    agg_func = AGG_FUNC,\n",
    "    agg_func_name =  AGG_FUNC_NAME,\n",
    "    lag=LAG \n",
    ")"
   ]
  },
  {
   "cell_type": "code",
   "execution_count": null,
   "metadata": {},
   "outputs": [],
   "source": [
    "#df_copy.sort_values([\"yearweek\", \"id\"], ascending = True, inplace = True)"
   ]
  },
  {
   "cell_type": "code",
   "execution_count": null,
   "metadata": {},
   "outputs": [],
   "source": [
    "COLUMNS_TO_DROP = [\"date\"\n",
    "    ,'sales_mon_fri', 'sales_sat_sun'\n",
    "    ,\"sales_mon_fri_por\",\"sales_sat_sun_por\"\n",
    "    #,\"sales_mon_fri_por_mean\",\"sales_sat_sun_por_mean\"\n",
    "    ,'month', 'year'\n",
    "    #\"item\",\"store_code\",\"region\",\"event\",\"week\",\n",
    "    #,\"sell_price\"\n",
    "                      ]\n",
    "\n",
    "df_copy.drop(COLUMNS_TO_DROP, inplace = True, axis = 1)"
   ]
  },
  {
   "cell_type": "code",
   "execution_count": null,
   "metadata": {},
   "outputs": [],
   "source": [
    "df_copy.head()"
   ]
  },
  {
   "cell_type": "code",
   "execution_count": null,
   "metadata": {},
   "outputs": [],
   "source": [
    "df_copy.set_index(\"item\", inplace = True)"
   ]
  },
  {
   "cell_type": "code",
   "execution_count": null,
   "metadata": {},
   "outputs": [],
   "source": [
    "dfhf=df_copy.copy(deep = True)"
   ]
  },
  {
   "cell_type": "code",
   "execution_count": null,
   "metadata": {},
   "outputs": [],
   "source": [
    "dfhf.tail()"
   ]
  },
  {
   "cell_type": "code",
   "execution_count": null,
   "metadata": {},
   "outputs": [],
   "source": [
    "train_index = sorted(list(dfhf[\"yearweek\"].unique()))[:-5]\n",
    "\n",
    "valida_index = sorted(list(dfhf[\"yearweek\"].unique()))[-5:-1]\n",
    "\n",
    "test_index = [sorted(list(dfhf[\"yearweek\"].unique()))[-1]]\n",
    "\n",
    "print(f\"Our train index is {train_index[:2]} - ... - {train_index[-2:]}\\n\")\n",
    "print(f\"Our validation index is {valida_index}\\n\")\n",
    "print(f\"Our test/prediction index is {test_index}\\n\")\n",
    "\n",
    "X_train = dfhf[dfhf[\"yearweek\"].isin(train_index)].drop([\"Cantidad\", \"yearweek\"], axis=1)\n",
    "Y_train = dfhf[dfhf[\"yearweek\"].isin(train_index)][\"Cantidad\"]\n",
    "\n",
    "X_valida = dfhf[dfhf[\"yearweek\"].isin(valida_index)].drop([\"Cantidad\", \"yearweek\"], axis=1)\n",
    "Y_valida = dfhf[dfhf[\"yearweek\"].isin(valida_index)][\"Cantidad\"]\n",
    "\n",
    "X_test = dfhf[dfhf[\"yearweek\"].isin(test_index)].drop([\"Cantidad\", \"yearweek\"], axis = 1)\n",
    "Y_test = dfhf[dfhf[\"yearweek\"].isin(test_index)][\"Cantidad\"]"
   ]
  },
  {
   "cell_type": "code",
   "execution_count": null,
   "metadata": {},
   "outputs": [],
   "source": [
    "X_train.tail()"
   ]
  },
  {
   "cell_type": "code",
   "execution_count": null,
   "metadata": {},
   "outputs": [],
   "source": [
    "X_valida.shape"
   ]
  },
  {
   "cell_type": "code",
   "execution_count": null,
   "metadata": {},
   "outputs": [],
   "source": [
    "X_test.shape"
   ]
  },
  {
   "cell_type": "code",
   "execution_count": null,
   "metadata": {},
   "outputs": [],
   "source": [
    "Y_train.sum()"
   ]
  },
  {
   "cell_type": "code",
   "execution_count": null,
   "metadata": {},
   "outputs": [],
   "source": [
    "Y_valida.sum()"
   ]
  },
  {
   "cell_type": "code",
   "execution_count": null,
   "metadata": {},
   "outputs": [],
   "source": [
    "Y_test.sum()"
   ]
  },
  {
   "cell_type": "code",
   "execution_count": null,
   "metadata": {},
   "outputs": [],
   "source": [
    "Y_train.sum()+Y_valida.sum()"
   ]
  },
  {
   "cell_type": "code",
   "execution_count": null,
   "metadata": {},
   "outputs": [],
   "source": [
    "model = xgb.XGBRegressor(eval_metric ='rmse', seed = 175)#,base_score=0)"
   ]
  },
  {
   "cell_type": "code",
   "execution_count": null,
   "metadata": {},
   "outputs": [],
   "source": [
    "model.fit(X_train, Y_train,eval_set = [(X_train, Y_train), (X_valida, Y_valida)],verbose = True,early_stopping_rounds=50)\n"
   ]
  },
  {
   "cell_type": "code",
   "execution_count": null,
   "metadata": {},
   "outputs": [],
   "source": [
    "y_pred = model.predict(X_test).astype(\"float64\")"
   ]
  },
  {
   "cell_type": "code",
   "execution_count": null,
   "metadata": {},
   "outputs": [],
   "source": [
    "Y_valida_predict = model.predict(X_valida).astype(\"float64\")"
   ]
  },
  {
   "cell_type": "code",
   "execution_count": null,
   "metadata": {},
   "outputs": [],
   "source": [
    "Y_train_predict = model.predict(X_train).astype(\"float64\")"
   ]
  },
  {
   "cell_type": "code",
   "execution_count": null,
   "metadata": {},
   "outputs": [],
   "source": [
    "rmse_train = np.sqrt(\n",
    "    mean_squared_error(\n",
    "        y_true = Y_train,\n",
    "        y_pred = Y_train_predict\n",
    "    )\n",
    ")\n",
    "\n",
    "rmse_valida = np.sqrt(\n",
    "    mean_squared_error(\n",
    "        y_true = Y_valida,\n",
    "        y_pred = Y_valida_predict\n",
    "    )\n",
    ")\n",
    "\n",
    "rmse_train= str(round(rmse_train, 3)).replace(\".\", \"_\")\n",
    "rmse_valida = str(round(rmse_valida, 3)).replace(\".\", \"_\")"
   ]
  },
  {
   "cell_type": "code",
   "execution_count": null,
   "metadata": {},
   "outputs": [],
   "source": [
    "resultados=[]"
   ]
  },
  {
   "cell_type": "code",
   "execution_count": null,
   "metadata": {},
   "outputs": [],
   "source": [
    "print(f\"Train RMSE: {rmse_train}\")\n",
    "print(f\"Validation RMSE: {rmse_valida}\")"
   ]
  },
  {
   "cell_type": "code",
   "execution_count": null,
   "metadata": {},
   "outputs": [],
   "source": [
    "a=(new_date,rmse_train,rmse_valida)"
   ]
  },
  {
   "cell_type": "code",
   "execution_count": null,
   "metadata": {},
   "outputs": [],
   "source": [
    "resultados.append(a)"
   ]
  },
  {
   "cell_type": "code",
   "execution_count": null,
   "metadata": {},
   "outputs": [],
   "source": [
    "resultados"
   ]
  },
  {
   "cell_type": "code",
   "execution_count": null,
   "metadata": {},
   "outputs": [],
   "source": [
    "ab=pd.DataFrame(resultados,columns=[\"modelo\",\"Train RMSE\", \"Validation RMSE\"])"
   ]
  },
  {
   "cell_type": "code",
   "execution_count": null,
   "metadata": {},
   "outputs": [],
   "source": [
    "ab"
   ]
  },
  {
   "cell_type": "code",
   "execution_count": null,
   "metadata": {},
   "outputs": [],
   "source": [
    "y_pred.sum()"
   ]
  },
  {
   "cell_type": "code",
   "execution_count": null,
   "metadata": {},
   "outputs": [],
   "source": [
    "y_pred_df=X_test.copy(deep=True)"
   ]
  },
  {
   "cell_type": "code",
   "execution_count": null,
   "metadata": {},
   "outputs": [],
   "source": [
    "y_pred_df[\"Cantidad\"] = y_pred"
   ]
  },
  {
   "cell_type": "code",
   "execution_count": null,
   "metadata": {},
   "outputs": [],
   "source": [
    "y_pred_df[\"yearweek\"]=new_date"
   ]
  },
  {
   "cell_type": "code",
   "execution_count": null,
   "metadata": {},
   "outputs": [],
   "source": [
    "y_pred_df.describe().T"
   ]
  },
  {
   "cell_type": "code",
   "execution_count": null,
   "metadata": {},
   "outputs": [],
   "source": [
    "y_pred_df.head()"
   ]
  },
  {
   "cell_type": "code",
   "execution_count": null,
   "metadata": {},
   "outputs": [],
   "source": [
    "y_pred_df = y_pred_df.reset_index().rename(columns={'index': 'item'})"
   ]
  },
  {
   "cell_type": "code",
   "execution_count": null,
   "metadata": {},
   "outputs": [],
   "source": [
    "y_pred_df = y_pred_df.reindex(columns=dfh.columns)"
   ]
  },
  {
   "cell_type": "code",
   "execution_count": null,
   "metadata": {},
   "outputs": [],
   "source": [
    "y_pred_df=recuperar_fechas(y_pred_df,dfo)"
   ]
  },
  {
   "cell_type": "code",
   "execution_count": null,
   "metadata": {},
   "outputs": [],
   "source": [
    "y_pred_df=participacion_media(y_pred_df,groupedweeks)"
   ]
  },
  {
   "cell_type": "code",
   "execution_count": null,
   "metadata": {},
   "outputs": [],
   "source": [
    "y_pred_df.head()"
   ]
  },
  {
   "cell_type": "code",
   "execution_count": null,
   "metadata": {},
   "outputs": [],
   "source": [
    "y_pred_df = y_pred_df.reindex(columns=dfh.columns)"
   ]
  },
  {
   "cell_type": "code",
   "execution_count": null,
   "metadata": {},
   "outputs": [],
   "source": [
    "y_pred_df.head()"
   ]
  },
  {
   "cell_type": "code",
   "execution_count": null,
   "metadata": {},
   "outputs": [],
   "source": [
    "dfh=dfh[dfh[\"yearweek\"]!=new_date]"
   ]
  },
  {
   "cell_type": "code",
   "execution_count": null,
   "metadata": {},
   "outputs": [],
   "source": [
    "dfh.reset_index(drop=True,inplace=True)"
   ]
  },
  {
   "cell_type": "code",
   "execution_count": null,
   "metadata": {},
   "outputs": [],
   "source": [
    "dfh[dfh[\"yearweek\"]!=new_date][\"Cantidad\"].sum()"
   ]
  },
  {
   "cell_type": "code",
   "execution_count": null,
   "metadata": {},
   "outputs": [],
   "source": [
    "dfh = pd.concat([dfh,y_pred_df])"
   ]
  },
  {
   "cell_type": "code",
   "execution_count": null,
   "metadata": {},
   "outputs": [],
   "source": [
    "(dfh[\"Cantidad\"].sum())-y_pred.sum()"
   ]
  },
  {
   "cell_type": "code",
   "execution_count": null,
   "metadata": {},
   "outputs": [],
   "source": [
    "dfh.reset_index(drop=True,inplace=True)"
   ]
  },
  {
   "cell_type": "code",
   "execution_count": null,
   "metadata": {},
   "outputs": [],
   "source": [
    "dfh.tail(10)"
   ]
  },
  {
   "cell_type": "code",
   "execution_count": null,
   "metadata": {},
   "outputs": [],
   "source": [
    "dff= pd.DataFrame(columns=dfo.columns)\n",
    "resu=pd.DataFrame(columns=[\"modelo\",\"Train RMSE\", \"Validation RMSE\",\"store\"])"
   ]
  },
  {
   "cell_type": "code",
   "execution_count": null,
   "metadata": {},
   "outputs": [],
   "source": [
    "new_date=201618"
   ]
  },
  {
   "cell_type": "code",
   "execution_count": null,
   "metadata": {},
   "outputs": [],
   "source": [
    "dffo.head()"
   ]
  },
  {
   "cell_type": "code",
   "execution_count": null,
   "metadata": {},
   "outputs": [],
   "source": [
    "new_data = dffo[dffo[\"yearweek\"]==new_date]"
   ]
  },
  {
   "cell_type": "code",
   "execution_count": null,
   "metadata": {},
   "outputs": [],
   "source": [
    "new_data.head()"
   ]
  },
  {
   "cell_type": "code",
   "execution_count": null,
   "metadata": {},
   "outputs": [],
   "source": [
    "dfh.shape"
   ]
  },
  {
   "cell_type": "code",
   "execution_count": null,
   "metadata": {},
   "outputs": [],
   "source": [
    "dfh.head()"
   ]
  },
  {
   "cell_type": "code",
   "execution_count": null,
   "metadata": {},
   "outputs": [],
   "source": [
    "new_data.shape"
   ]
  },
  {
   "cell_type": "code",
   "execution_count": null,
   "metadata": {},
   "outputs": [],
   "source": [
    "dfh = pd.concat([dfh,new_data])"
   ]
  },
  {
   "cell_type": "code",
   "execution_count": null,
   "metadata": {},
   "outputs": [],
   "source": [
    "dfh.sort_values([\"item\", \"yearweek\"], ascending = True, inplace = True)"
   ]
  },
  {
   "cell_type": "code",
   "execution_count": null,
   "metadata": {},
   "outputs": [],
   "source": [
    "dfh.shape"
   ]
  },
  {
   "cell_type": "code",
   "execution_count": null,
   "metadata": {},
   "outputs": [],
   "source": [
    "dfh.tail()"
   ]
  },
  {
   "cell_type": "code",
   "execution_count": null,
   "metadata": {},
   "outputs": [],
   "source": [
    "#dfh.sort_values([\"id\", \"yearweek\"], ascending = True, inplace = True)"
   ]
  },
  {
   "cell_type": "code",
   "execution_count": null,
   "metadata": {},
   "outputs": [],
   "source": [
    "df_copy = dfh.copy(deep = True)"
   ]
  },
  {
   "cell_type": "code",
   "execution_count": null,
   "metadata": {},
   "outputs": [],
   "source": [
    "lags = [1,2,3]\n",
    "for lag in lags:\n",
    "    df_copy[\"UID_sales_lag_\"+str(lag)] = df_copy.groupby([\"item\"])[\"Cantidad\"].shift(lag).astype(\"float64\")\n",
    "for lag in lags:    \n",
    "    df_copy[\"UID_salesweek_lag_\"+str(lag)] = df_copy.groupby([\"item\"])[\"sales_mon_fri_por_mean\"].shift(lag).astype(\"float64\")\n",
    "for lag in lags:    \n",
    "    df_copy[\"UID_saleswkd_lag_\"+str(lag)] = df_copy.groupby([\"item\"])[\"sales_sat_sun_por_mean\"].shift(lag).astype(\"float64\")"
   ]
  },
  {
   "cell_type": "code",
   "execution_count": null,
   "metadata": {},
   "outputs": [],
   "source": [
    "df_copy.head()"
   ]
  },
  {
   "cell_type": "code",
   "execution_count": null,
   "metadata": {},
   "outputs": [],
   "source": [
    "GB_LIST = [\"department\"]\n",
    "TARGET_COLUMN = \"Cantidad\"\n",
    "AGG_FUNC = \"sum\"\n",
    "AGG_FUNC_NAME = \"SUM\"\n",
    "LAG=1\n",
    "\n",
    "df_copy = build_ts_vars(\n",
    "df = df_copy,\n",
    "gb_list = GB_LIST,\n",
    "target_column = TARGET_COLUMN,\n",
    "agg_func = AGG_FUNC,\n",
    "agg_func_name =  AGG_FUNC_NAME,\n",
    "lag=LAG\n",
    ")\n",
    "\n",
    "GB_LIST = [\"category\",\"department\"] # RS: \n",
    "TARGET_COLUMN = \"Cantidad\"\n",
    "AGG_FUNC = \"sum\"\n",
    "AGG_FUNC_NAME = \"sum\"\n",
    "LAG=1\n",
    "df_copy = build_ts_vars(\n",
    "df = df_copy,\n",
    "gb_list = GB_LIST,\n",
    "target_column = TARGET_COLUMN,\n",
    "agg_func = AGG_FUNC,\n",
    "agg_func_name =  AGG_FUNC_NAME,\n",
    "lag=LAG \n",
    ")\n",
    "\n",
    "GB_LIST = [\"category\"] # RS: \n",
    "TARGET_COLUMN = \"Cantidad\"\n",
    "AGG_FUNC = \"sum\"\n",
    "AGG_FUNC_NAME = \"sum\"\n",
    "LAG=1\n",
    "df_copy = build_ts_vars(\n",
    "    df = df_copy,\n",
    "    gb_list = GB_LIST,\n",
    "    target_column = TARGET_COLUMN,\n",
    "    agg_func = AGG_FUNC,\n",
    "    agg_func_name =  AGG_FUNC_NAME,\n",
    "    lag=LAG \n",
    ")"
   ]
  },
  {
   "cell_type": "code",
   "execution_count": null,
   "metadata": {},
   "outputs": [],
   "source": [
    "#df_copy.sort_values([\"yearweek\", \"id\"], ascending = True, inplace = True)"
   ]
  },
  {
   "cell_type": "code",
   "execution_count": null,
   "metadata": {},
   "outputs": [],
   "source": [
    "COLUMNS_TO_DROP = [\"date\"\n",
    "    ,'sales_mon_fri', 'sales_sat_sun'\n",
    "    ,\"sales_mon_fri_por\",\"sales_sat_sun_por\"\n",
    "    ,\"sales_mon_fri_por_mean\",\"sales_sat_sun_por_mean\" \n",
    "    ,'month', 'year'\n",
    "    #\"item\",\"store_code\",\"region\",\"event\",\"week\",\n",
    "    #,\"sell_price\"\n",
    "                      ]\n",
    "\n",
    "df_copy.drop(COLUMNS_TO_DROP, inplace = True, axis = 1)"
   ]
  },
  {
   "cell_type": "code",
   "execution_count": null,
   "metadata": {},
   "outputs": [],
   "source": [
    "df_copy.head()"
   ]
  },
  {
   "cell_type": "code",
   "execution_count": null,
   "metadata": {},
   "outputs": [],
   "source": [
    "df_copy.set_index(\"item\", inplace = True)"
   ]
  },
  {
   "cell_type": "code",
   "execution_count": null,
   "metadata": {},
   "outputs": [],
   "source": [
    "dfhf=df_copy.copy(deep = True)"
   ]
  },
  {
   "cell_type": "code",
   "execution_count": null,
   "metadata": {},
   "outputs": [],
   "source": [
    "train_index = sorted(list(dfhf[\"yearweek\"].unique()))[:-2]\n",
    "\n",
    "valida_index = [sorted(list(dfhf[\"yearweek\"].unique()))[-2]]\n",
    "\n",
    "test_index = [sorted(list(dfhf[\"yearweek\"].unique()))[-1]]\n",
    "\n",
    "# print(f\"Our train index is {train_index[:2]} - ... - {train_index[-2:]}\\n\")\n",
    "# print(f\"Our validation index is {valida_index}\\n\")\n",
    "# print(f\"Our test/prediction index is {test_index}\\n\")\n",
    "\n",
    "X_train = dfhf[dfhf[\"yearweek\"].isin(train_index)].drop([\"Cantidad\", \"yearweek\"], axis=1)\n",
    "Y_train = dfhf[dfhf[\"yearweek\"].isin(train_index)][\"Cantidad\"]\n",
    "\n",
    "X_valida = dfhf[dfhf[\"yearweek\"].isin(valida_index)].drop([\"Cantidad\", \"yearweek\"], axis=1)\n",
    "Y_valida = dfhf[dfhf[\"yearweek\"].isin(valida_index)][\"Cantidad\"]\n",
    "\n",
    "X_test = dfhf[dfhf[\"yearweek\"].isin(test_index)].drop([\"Cantidad\", \"yearweek\"], axis = 1)\n",
    "Y_test = dfhf[dfhf[\"yearweek\"].isin(test_index)][\"Cantidad\"]"
   ]
  },
  {
   "cell_type": "code",
   "execution_count": null,
   "metadata": {},
   "outputs": [],
   "source": [
    "X_train.shape"
   ]
  },
  {
   "cell_type": "code",
   "execution_count": null,
   "metadata": {},
   "outputs": [],
   "source": [
    "X_valida.shape"
   ]
  },
  {
   "cell_type": "code",
   "execution_count": null,
   "metadata": {},
   "outputs": [],
   "source": [
    "X_test.shape"
   ]
  },
  {
   "cell_type": "code",
   "execution_count": null,
   "metadata": {},
   "outputs": [],
   "source": [
    "Y_train.sum()"
   ]
  },
  {
   "cell_type": "code",
   "execution_count": null,
   "metadata": {},
   "outputs": [],
   "source": [
    "Y_valida.sum()"
   ]
  },
  {
   "cell_type": "code",
   "execution_count": null,
   "metadata": {},
   "outputs": [],
   "source": [
    "Y_test.sum()"
   ]
  },
  {
   "cell_type": "code",
   "execution_count": null,
   "metadata": {},
   "outputs": [],
   "source": [
    "Y_train.sum()+Y_valida.sum()"
   ]
  },
  {
   "cell_type": "code",
   "execution_count": null,
   "metadata": {},
   "outputs": [],
   "source": [
    "model = xgb.XGBRegressor(eval_metric ='rmse', seed = 175)#,base_score=0)"
   ]
  },
  {
   "cell_type": "code",
   "execution_count": null,
   "metadata": {},
   "outputs": [],
   "source": [
    "model.fit(X_train, Y_train,eval_set = [(X_train, Y_train), (X_valida, Y_valida)],verbose = True,early_stopping_rounds=50)\n"
   ]
  },
  {
   "cell_type": "code",
   "execution_count": null,
   "metadata": {},
   "outputs": [],
   "source": [
    "y_pred = model.predict(X_test).astype(\"float64\")"
   ]
  },
  {
   "cell_type": "code",
   "execution_count": null,
   "metadata": {},
   "outputs": [],
   "source": [
    "Y_valida_predict = model.predict(X_valida).astype(\"float64\")"
   ]
  },
  {
   "cell_type": "code",
   "execution_count": null,
   "metadata": {},
   "outputs": [],
   "source": [
    "Y_train_predict = model.predict(X_train).astype(\"float64\")"
   ]
  },
  {
   "cell_type": "code",
   "execution_count": null,
   "metadata": {},
   "outputs": [],
   "source": [
    "rmse_train = np.sqrt(\n",
    "    mean_squared_error(\n",
    "        y_true = Y_train,\n",
    "        y_pred = Y_train_predict\n",
    "    )\n",
    ")\n",
    "\n",
    "rmse_valida = np.sqrt(\n",
    "    mean_squared_error(\n",
    "        y_true = Y_valida,\n",
    "        y_pred = Y_valida_predict\n",
    "    )\n",
    ")\n",
    "\n",
    "rmse_train= str(round(rmse_train, 3)).replace(\".\", \"_\")\n",
    "rmse_valida = str(round(rmse_valida, 3)).replace(\".\", \"_\")"
   ]
  },
  {
   "cell_type": "code",
   "execution_count": null,
   "metadata": {},
   "outputs": [],
   "source": [
    "print(f\"Train RMSE: {rmse_train}\")\n",
    "print(f\"Validation RMSE: {rmse_valida}\")"
   ]
  },
  {
   "cell_type": "code",
   "execution_count": null,
   "metadata": {},
   "outputs": [],
   "source": [
    "a=(new_date,rmse_train,rmse_valida)"
   ]
  },
  {
   "cell_type": "code",
   "execution_count": null,
   "metadata": {},
   "outputs": [],
   "source": [
    "resultados.append(a)"
   ]
  },
  {
   "cell_type": "code",
   "execution_count": null,
   "metadata": {},
   "outputs": [],
   "source": [
    "resultados"
   ]
  },
  {
   "cell_type": "code",
   "execution_count": null,
   "metadata": {},
   "outputs": [],
   "source": [
    "ab=pd.DataFrame(resultados,columns=[\"modelo\",\"Train RMSE\", \"Validation RMSE\"])"
   ]
  },
  {
   "cell_type": "code",
   "execution_count": null,
   "metadata": {},
   "outputs": [],
   "source": [
    "ab"
   ]
  },
  {
   "cell_type": "code",
   "execution_count": null,
   "metadata": {},
   "outputs": [],
   "source": [
    "y_pred.sum()"
   ]
  },
  {
   "cell_type": "code",
   "execution_count": null,
   "metadata": {},
   "outputs": [],
   "source": [
    "y_pred_df=X_test.copy(deep=True)"
   ]
  },
  {
   "cell_type": "code",
   "execution_count": null,
   "metadata": {},
   "outputs": [],
   "source": [
    "y_pred_df[\"Cantidad\"] = y_pred"
   ]
  },
  {
   "cell_type": "code",
   "execution_count": null,
   "metadata": {},
   "outputs": [],
   "source": [
    "y_pred_df[\"yearweek\"]=new_date"
   ]
  },
  {
   "cell_type": "code",
   "execution_count": null,
   "metadata": {},
   "outputs": [],
   "source": [
    "y_pred_df.describe().T"
   ]
  },
  {
   "cell_type": "code",
   "execution_count": null,
   "metadata": {},
   "outputs": [],
   "source": [
    "y_pred_df.head()"
   ]
  },
  {
   "cell_type": "code",
   "execution_count": null,
   "metadata": {},
   "outputs": [],
   "source": [
    "y_pred_df = y_pred_df.reset_index().rename(columns={'index': 'item'})"
   ]
  },
  {
   "cell_type": "code",
   "execution_count": null,
   "metadata": {},
   "outputs": [],
   "source": [
    "y_pred_df = y_pred_df.reindex(columns=dfh.columns)"
   ]
  },
  {
   "cell_type": "code",
   "execution_count": null,
   "metadata": {},
   "outputs": [],
   "source": [
    "y_pred_df=recuperar_fechas(y_pred_df,dfo)"
   ]
  },
  {
   "cell_type": "code",
   "execution_count": null,
   "metadata": {},
   "outputs": [],
   "source": [
    "y_pred_df=participacion_media(y_pred_df,groupedweeks)"
   ]
  },
  {
   "cell_type": "code",
   "execution_count": null,
   "metadata": {},
   "outputs": [],
   "source": [
    "y_pred_df.head()"
   ]
  },
  {
   "cell_type": "code",
   "execution_count": null,
   "metadata": {},
   "outputs": [],
   "source": [
    "y_pred_df = y_pred_df.reindex(columns=dfh.columns)"
   ]
  },
  {
   "cell_type": "code",
   "execution_count": null,
   "metadata": {},
   "outputs": [],
   "source": [
    "y_pred_df.head()"
   ]
  },
  {
   "cell_type": "code",
   "execution_count": null,
   "metadata": {},
   "outputs": [],
   "source": [
    "dfh=dfh[dfh[\"yearweek\"]!=new_date]"
   ]
  },
  {
   "cell_type": "code",
   "execution_count": null,
   "metadata": {},
   "outputs": [],
   "source": [
    "dfh.reset_index(drop=True,inplace=True)"
   ]
  },
  {
   "cell_type": "code",
   "execution_count": null,
   "metadata": {},
   "outputs": [],
   "source": [
    "dfh[dfh[\"yearweek\"]!=new_date][\"Cantidad\"].sum()"
   ]
  },
  {
   "cell_type": "code",
   "execution_count": null,
   "metadata": {},
   "outputs": [],
   "source": [
    "dfh = pd.concat([dfh,y_pred_df])"
   ]
  },
  {
   "cell_type": "code",
   "execution_count": null,
   "metadata": {},
   "outputs": [],
   "source": [
    "(dfh[\"Cantidad\"].sum())-y_pred.sum()"
   ]
  },
  {
   "cell_type": "code",
   "execution_count": null,
   "metadata": {},
   "outputs": [],
   "source": [
    "dfh.reset_index(drop=True,inplace=True)"
   ]
  },
  {
   "cell_type": "code",
   "execution_count": null,
   "metadata": {},
   "outputs": [],
   "source": [
    "dfh.tail(10)"
   ]
  },
  {
   "cell_type": "code",
   "execution_count": null,
   "metadata": {},
   "outputs": [],
   "source": [
    "new_date=201619"
   ]
  },
  {
   "cell_type": "code",
   "execution_count": null,
   "metadata": {},
   "outputs": [],
   "source": [
    "dffo.head()"
   ]
  },
  {
   "cell_type": "code",
   "execution_count": null,
   "metadata": {},
   "outputs": [],
   "source": [
    "new_data = dffo[dffo[\"yearweek\"]==new_date]"
   ]
  },
  {
   "cell_type": "code",
   "execution_count": null,
   "metadata": {},
   "outputs": [],
   "source": [
    "new_data.head()"
   ]
  },
  {
   "cell_type": "code",
   "execution_count": null,
   "metadata": {},
   "outputs": [],
   "source": [
    "dfh.shape"
   ]
  },
  {
   "cell_type": "code",
   "execution_count": null,
   "metadata": {},
   "outputs": [],
   "source": [
    "dfh.head()"
   ]
  },
  {
   "cell_type": "code",
   "execution_count": null,
   "metadata": {},
   "outputs": [],
   "source": [
    "new_data.shape"
   ]
  },
  {
   "cell_type": "code",
   "execution_count": null,
   "metadata": {},
   "outputs": [],
   "source": [
    "dfh = pd.concat([dfh,new_data])"
   ]
  },
  {
   "cell_type": "code",
   "execution_count": null,
   "metadata": {},
   "outputs": [],
   "source": [
    "dfh.sort_values([\"item\", \"yearweek\"], ascending = True, inplace = True)"
   ]
  },
  {
   "cell_type": "code",
   "execution_count": null,
   "metadata": {},
   "outputs": [],
   "source": [
    "dfh.shape"
   ]
  },
  {
   "cell_type": "code",
   "execution_count": null,
   "metadata": {},
   "outputs": [],
   "source": [
    "dfh.tail()"
   ]
  },
  {
   "cell_type": "code",
   "execution_count": null,
   "metadata": {},
   "outputs": [],
   "source": [
    "#dfh.sort_values([\"id\", \"yearweek\"], ascending = True, inplace = True)"
   ]
  },
  {
   "cell_type": "code",
   "execution_count": null,
   "metadata": {},
   "outputs": [],
   "source": [
    "df_copy = dfh.copy(deep = True)"
   ]
  },
  {
   "cell_type": "code",
   "execution_count": null,
   "metadata": {},
   "outputs": [],
   "source": [
    "lags = [1,2,3]\n",
    "for lag in lags:\n",
    "    df_copy[\"UID_sales_lag_\"+str(lag)] = df_copy.groupby([\"item\"])[\"Cantidad\"].shift(lag).astype(\"float64\")\n",
    "for lag in lags:    \n",
    "    df_copy[\"UID_salesweek_lag_\"+str(lag)] = df_copy.groupby([\"item\"])[\"sales_mon_fri_por_mean\"].shift(lag).astype(\"float64\")\n",
    "for lag in lags:    \n",
    "    df_copy[\"UID_saleswkd_lag_\"+str(lag)] = df_copy.groupby([\"item\"])[\"sales_sat_sun_por_mean\"].shift(lag).astype(\"float64\")"
   ]
  },
  {
   "cell_type": "code",
   "execution_count": null,
   "metadata": {},
   "outputs": [],
   "source": [
    "df_copy.head()"
   ]
  },
  {
   "cell_type": "code",
   "execution_count": null,
   "metadata": {},
   "outputs": [],
   "source": [
    "GB_LIST = [\"department\"]\n",
    "TARGET_COLUMN = \"Cantidad\"\n",
    "AGG_FUNC = \"sum\"\n",
    "AGG_FUNC_NAME = \"SUM\"\n",
    "LAG=1\n",
    "\n",
    "df_copy = build_ts_vars(\n",
    "df = df_copy,\n",
    "gb_list = GB_LIST,\n",
    "target_column = TARGET_COLUMN,\n",
    "agg_func = AGG_FUNC,\n",
    "agg_func_name =  AGG_FUNC_NAME,\n",
    "lag=LAG\n",
    ")\n",
    "\n",
    "GB_LIST = [\"category\",\"department\"] # RS: \n",
    "TARGET_COLUMN = \"Cantidad\"\n",
    "AGG_FUNC = \"sum\"\n",
    "AGG_FUNC_NAME = \"sum\"\n",
    "LAG=1\n",
    "df_copy = build_ts_vars(\n",
    "df = df_copy,\n",
    "gb_list = GB_LIST,\n",
    "target_column = TARGET_COLUMN,\n",
    "agg_func = AGG_FUNC,\n",
    "agg_func_name =  AGG_FUNC_NAME,\n",
    "lag=LAG \n",
    ")\n",
    "\n",
    "GB_LIST = [\"category\"] # RS: \n",
    "TARGET_COLUMN = \"Cantidad\"\n",
    "AGG_FUNC = \"sum\"\n",
    "AGG_FUNC_NAME = \"sum\"\n",
    "LAG=1\n",
    "df_copy = build_ts_vars(\n",
    "    df = df_copy,\n",
    "    gb_list = GB_LIST,\n",
    "    target_column = TARGET_COLUMN,\n",
    "    agg_func = AGG_FUNC,\n",
    "    agg_func_name =  AGG_FUNC_NAME,\n",
    "    lag=LAG \n",
    ")"
   ]
  },
  {
   "cell_type": "code",
   "execution_count": null,
   "metadata": {},
   "outputs": [],
   "source": [
    "#df_copy.sort_values([\"yearweek\", \"id\"], ascending = True, inplace = True)"
   ]
  },
  {
   "cell_type": "code",
   "execution_count": null,
   "metadata": {},
   "outputs": [],
   "source": [
    "COLUMNS_TO_DROP = [\"date\"\n",
    "    ,'sales_mon_fri', 'sales_sat_sun'\n",
    "    ,\"sales_mon_fri_por\",\"sales_sat_sun_por\"\n",
    "    ,\"sales_mon_fri_por_mean\",\"sales_sat_sun_por_mean\"\n",
    "    ,'month', 'year'\n",
    "    #\"item\",\"store_code\",\"region\",\"event\",\"week\",\n",
    "    #,\"sell_price\"\n",
    "                      ]\n",
    "\n",
    "df_copy.drop(COLUMNS_TO_DROP, inplace = True, axis = 1)"
   ]
  },
  {
   "cell_type": "code",
   "execution_count": null,
   "metadata": {},
   "outputs": [],
   "source": [
    "df_copy.head()"
   ]
  },
  {
   "cell_type": "code",
   "execution_count": null,
   "metadata": {},
   "outputs": [],
   "source": [
    "df_copy.set_index(\"item\", inplace = True)"
   ]
  },
  {
   "cell_type": "code",
   "execution_count": null,
   "metadata": {},
   "outputs": [],
   "source": [
    "dfhf=df_copy.copy(deep = True)"
   ]
  },
  {
   "cell_type": "code",
   "execution_count": null,
   "metadata": {},
   "outputs": [],
   "source": [
    "train_index = sorted(list(dfhf[\"yearweek\"].unique()))[:-2]\n",
    "\n",
    "valida_index = [sorted(list(dfhf[\"yearweek\"].unique()))[-2]]\n",
    "\n",
    "test_index = [sorted(list(dfhf[\"yearweek\"].unique()))[-1]]\n",
    "\n",
    "# print(f\"Our train index is {train_index[:2]} - ... - {train_index[-2:]}\\n\")\n",
    "# print(f\"Our validation index is {valida_index}\\n\")\n",
    "# print(f\"Our test/prediction index is {test_index}\\n\")\n",
    "\n",
    "X_train = dfhf[dfhf[\"yearweek\"].isin(train_index)].drop([\"Cantidad\", \"yearweek\"], axis=1)\n",
    "Y_train = dfhf[dfhf[\"yearweek\"].isin(train_index)][\"Cantidad\"]\n",
    "\n",
    "X_valida = dfhf[dfhf[\"yearweek\"].isin(valida_index)].drop([\"Cantidad\", \"yearweek\"], axis=1)\n",
    "Y_valida = dfhf[dfhf[\"yearweek\"].isin(valida_index)][\"Cantidad\"]\n",
    "\n",
    "X_test = dfhf[dfhf[\"yearweek\"].isin(test_index)].drop([\"Cantidad\", \"yearweek\"], axis = 1)\n",
    "Y_test = dfhf[dfhf[\"yearweek\"].isin(test_index)][\"Cantidad\"]"
   ]
  },
  {
   "cell_type": "code",
   "execution_count": null,
   "metadata": {},
   "outputs": [],
   "source": [
    "X_train.shape"
   ]
  },
  {
   "cell_type": "code",
   "execution_count": null,
   "metadata": {},
   "outputs": [],
   "source": [
    "X_valida.shape"
   ]
  },
  {
   "cell_type": "code",
   "execution_count": null,
   "metadata": {},
   "outputs": [],
   "source": [
    "X_test.shape"
   ]
  },
  {
   "cell_type": "code",
   "execution_count": null,
   "metadata": {},
   "outputs": [],
   "source": [
    "Y_train.sum()"
   ]
  },
  {
   "cell_type": "code",
   "execution_count": null,
   "metadata": {},
   "outputs": [],
   "source": [
    "Y_valida.sum()"
   ]
  },
  {
   "cell_type": "code",
   "execution_count": null,
   "metadata": {},
   "outputs": [],
   "source": [
    "Y_test.sum()"
   ]
  },
  {
   "cell_type": "code",
   "execution_count": null,
   "metadata": {},
   "outputs": [],
   "source": [
    "Y_train.sum()+Y_valida.sum()"
   ]
  },
  {
   "cell_type": "code",
   "execution_count": null,
   "metadata": {},
   "outputs": [],
   "source": [
    "model = xgb.XGBRegressor(eval_metric ='rmse', seed = 175)#,base_score=0)"
   ]
  },
  {
   "cell_type": "code",
   "execution_count": null,
   "metadata": {},
   "outputs": [],
   "source": [
    "model.fit(X_train, Y_train,eval_set = [(X_train, Y_train), (X_valida, Y_valida)],verbose = True,early_stopping_rounds=50)\n"
   ]
  },
  {
   "cell_type": "code",
   "execution_count": null,
   "metadata": {},
   "outputs": [],
   "source": [
    "y_pred = model.predict(X_test).astype(\"float64\")"
   ]
  },
  {
   "cell_type": "code",
   "execution_count": null,
   "metadata": {},
   "outputs": [],
   "source": [
    "Y_valida_predict = model.predict(X_valida).astype(\"float64\")"
   ]
  },
  {
   "cell_type": "code",
   "execution_count": null,
   "metadata": {},
   "outputs": [],
   "source": [
    "Y_train_predict = model.predict(X_train).astype(\"float64\")"
   ]
  },
  {
   "cell_type": "code",
   "execution_count": null,
   "metadata": {},
   "outputs": [],
   "source": [
    "rmse_train = np.sqrt(\n",
    "    mean_squared_error(\n",
    "        y_true = Y_train,\n",
    "        y_pred = Y_train_predict\n",
    "    )\n",
    ")\n",
    "\n",
    "rmse_valida = np.sqrt(\n",
    "    mean_squared_error(\n",
    "        y_true = Y_valida,\n",
    "        y_pred = Y_valida_predict\n",
    "    )\n",
    ")\n",
    "\n",
    "rmse_train= str(round(rmse_train, 3)).replace(\".\", \"_\")\n",
    "rmse_valida = str(round(rmse_valida, 3)).replace(\".\", \"_\")"
   ]
  },
  {
   "cell_type": "code",
   "execution_count": null,
   "metadata": {},
   "outputs": [],
   "source": [
    "print(f\"Train RMSE: {rmse_train}\")\n",
    "print(f\"Validation RMSE: {rmse_valida}\")"
   ]
  },
  {
   "cell_type": "code",
   "execution_count": null,
   "metadata": {},
   "outputs": [],
   "source": [
    "a=(new_date,rmse_train,rmse_valida)"
   ]
  },
  {
   "cell_type": "code",
   "execution_count": null,
   "metadata": {},
   "outputs": [],
   "source": [
    "resultados.append(a)"
   ]
  },
  {
   "cell_type": "code",
   "execution_count": null,
   "metadata": {},
   "outputs": [],
   "source": [
    "resultados"
   ]
  },
  {
   "cell_type": "code",
   "execution_count": null,
   "metadata": {},
   "outputs": [],
   "source": [
    "ab=pd.DataFrame(resultados,columns=[\"modelo\",\"Train RMSE\", \"Validation RMSE\"])"
   ]
  },
  {
   "cell_type": "code",
   "execution_count": null,
   "metadata": {},
   "outputs": [],
   "source": [
    "ab"
   ]
  },
  {
   "cell_type": "code",
   "execution_count": null,
   "metadata": {},
   "outputs": [],
   "source": [
    "y_pred.sum()"
   ]
  },
  {
   "cell_type": "code",
   "execution_count": null,
   "metadata": {},
   "outputs": [],
   "source": [
    "y_pred_df=X_test.copy(deep=True)"
   ]
  },
  {
   "cell_type": "code",
   "execution_count": null,
   "metadata": {},
   "outputs": [],
   "source": [
    "y_pred_df[\"Cantidad\"] = y_pred"
   ]
  },
  {
   "cell_type": "code",
   "execution_count": null,
   "metadata": {},
   "outputs": [],
   "source": [
    "y_pred_df[\"yearweek\"]=new_date"
   ]
  },
  {
   "cell_type": "code",
   "execution_count": null,
   "metadata": {},
   "outputs": [],
   "source": [
    "y_pred_df.describe().T"
   ]
  },
  {
   "cell_type": "code",
   "execution_count": null,
   "metadata": {},
   "outputs": [],
   "source": [
    "y_pred_df.head()"
   ]
  },
  {
   "cell_type": "code",
   "execution_count": null,
   "metadata": {},
   "outputs": [],
   "source": [
    "y_pred_df = y_pred_df.reset_index().rename(columns={'index': 'item'})"
   ]
  },
  {
   "cell_type": "code",
   "execution_count": null,
   "metadata": {},
   "outputs": [],
   "source": [
    "y_pred_df = y_pred_df.reindex(columns=dfh.columns)"
   ]
  },
  {
   "cell_type": "code",
   "execution_count": null,
   "metadata": {},
   "outputs": [],
   "source": [
    "y_pred_df=recuperar_fechas(y_pred_df,dfo)"
   ]
  },
  {
   "cell_type": "code",
   "execution_count": null,
   "metadata": {},
   "outputs": [],
   "source": [
    "y_pred_df=participacion_media(y_pred_df,groupedweeks)"
   ]
  },
  {
   "cell_type": "code",
   "execution_count": null,
   "metadata": {},
   "outputs": [],
   "source": [
    "y_pred_df.head()"
   ]
  },
  {
   "cell_type": "code",
   "execution_count": null,
   "metadata": {},
   "outputs": [],
   "source": [
    "y_pred_df = y_pred_df.reindex(columns=dfh.columns)"
   ]
  },
  {
   "cell_type": "code",
   "execution_count": null,
   "metadata": {},
   "outputs": [],
   "source": [
    "y_pred_df.head()"
   ]
  },
  {
   "cell_type": "code",
   "execution_count": null,
   "metadata": {},
   "outputs": [],
   "source": [
    "dfh=dfh[dfh[\"yearweek\"]!=new_date]"
   ]
  },
  {
   "cell_type": "code",
   "execution_count": null,
   "metadata": {},
   "outputs": [],
   "source": [
    "dfh.reset_index(drop=True,inplace=True)"
   ]
  },
  {
   "cell_type": "code",
   "execution_count": null,
   "metadata": {},
   "outputs": [],
   "source": [
    "dfh[dfh[\"yearweek\"]!=new_date][\"Cantidad\"].sum()"
   ]
  },
  {
   "cell_type": "code",
   "execution_count": null,
   "metadata": {},
   "outputs": [],
   "source": [
    "dfh = pd.concat([dfh,y_pred_df])"
   ]
  },
  {
   "cell_type": "code",
   "execution_count": null,
   "metadata": {},
   "outputs": [],
   "source": [
    "(dfh[\"Cantidad\"].sum())-y_pred.sum()"
   ]
  },
  {
   "cell_type": "code",
   "execution_count": null,
   "metadata": {},
   "outputs": [],
   "source": [
    "dfh.reset_index(drop=True,inplace=True)"
   ]
  },
  {
   "cell_type": "code",
   "execution_count": null,
   "metadata": {},
   "outputs": [],
   "source": [
    "dfh.tail(10)"
   ]
  },
  {
   "cell_type": "code",
   "execution_count": null,
   "metadata": {},
   "outputs": [],
   "source": [
    "new_date=201620"
   ]
  },
  {
   "cell_type": "code",
   "execution_count": null,
   "metadata": {},
   "outputs": [],
   "source": [
    "dffo.head()"
   ]
  },
  {
   "cell_type": "code",
   "execution_count": null,
   "metadata": {},
   "outputs": [],
   "source": [
    "new_data = dffo[dffo[\"yearweek\"]==new_date]"
   ]
  },
  {
   "cell_type": "code",
   "execution_count": null,
   "metadata": {},
   "outputs": [],
   "source": [
    "new_data.head()"
   ]
  },
  {
   "cell_type": "code",
   "execution_count": null,
   "metadata": {},
   "outputs": [],
   "source": [
    "dfh.shape"
   ]
  },
  {
   "cell_type": "code",
   "execution_count": null,
   "metadata": {},
   "outputs": [],
   "source": [
    "dfh.head()"
   ]
  },
  {
   "cell_type": "code",
   "execution_count": null,
   "metadata": {},
   "outputs": [],
   "source": [
    "new_data.shape"
   ]
  },
  {
   "cell_type": "code",
   "execution_count": null,
   "metadata": {},
   "outputs": [],
   "source": [
    "dfh = pd.concat([dfh,new_data])"
   ]
  },
  {
   "cell_type": "code",
   "execution_count": null,
   "metadata": {},
   "outputs": [],
   "source": [
    "dfh.sort_values([\"item\", \"yearweek\"], ascending = True, inplace = True)"
   ]
  },
  {
   "cell_type": "code",
   "execution_count": null,
   "metadata": {},
   "outputs": [],
   "source": [
    "dfh.shape"
   ]
  },
  {
   "cell_type": "code",
   "execution_count": null,
   "metadata": {},
   "outputs": [],
   "source": [
    "dfh.tail()"
   ]
  },
  {
   "cell_type": "code",
   "execution_count": null,
   "metadata": {},
   "outputs": [],
   "source": [
    "#dfh.sort_values([\"id\", \"yearweek\"], ascending = True, inplace = True)"
   ]
  },
  {
   "cell_type": "code",
   "execution_count": null,
   "metadata": {},
   "outputs": [],
   "source": [
    "df_copy = dfh.copy(deep = True)"
   ]
  },
  {
   "cell_type": "code",
   "execution_count": null,
   "metadata": {},
   "outputs": [],
   "source": [
    "lags = [1,2,3]\n",
    "for lag in lags:\n",
    "    df_copy[\"UID_sales_lag_\"+str(lag)] = df_copy.groupby([\"item\"])[\"Cantidad\"].shift(lag).astype(\"float64\")\n",
    "for lag in lags:    \n",
    "    df_copy[\"UID_salesweek_lag_\"+str(lag)] = df_copy.groupby([\"item\"])[\"sales_mon_fri_por_mean\"].shift(lag).astype(\"float64\")\n",
    "for lag in lags:    \n",
    "    df_copy[\"UID_saleswkd_lag_\"+str(lag)] = df_copy.groupby([\"item\"])[\"sales_sat_sun_por_mean\"].shift(lag).astype(\"float64\")"
   ]
  },
  {
   "cell_type": "code",
   "execution_count": null,
   "metadata": {},
   "outputs": [],
   "source": [
    "df_copy.head()"
   ]
  },
  {
   "cell_type": "code",
   "execution_count": null,
   "metadata": {},
   "outputs": [],
   "source": [
    "GB_LIST = [\"department\"]\n",
    "TARGET_COLUMN = \"Cantidad\"\n",
    "AGG_FUNC = \"sum\"\n",
    "AGG_FUNC_NAME = \"SUM\"\n",
    "LAG=1\n",
    "\n",
    "df_copy = build_ts_vars(\n",
    "df = df_copy,\n",
    "gb_list = GB_LIST,\n",
    "target_column = TARGET_COLUMN,\n",
    "agg_func = AGG_FUNC,\n",
    "agg_func_name =  AGG_FUNC_NAME,\n",
    "lag=LAG\n",
    ")\n",
    "\n",
    "GB_LIST = [\"category\",\"department\"] # RS: \n",
    "TARGET_COLUMN = \"Cantidad\"\n",
    "AGG_FUNC = \"sum\"\n",
    "AGG_FUNC_NAME = \"sum\"\n",
    "LAG=1\n",
    "df_copy = build_ts_vars(\n",
    "df = df_copy,\n",
    "gb_list = GB_LIST,\n",
    "target_column = TARGET_COLUMN,\n",
    "agg_func = AGG_FUNC,\n",
    "agg_func_name =  AGG_FUNC_NAME,\n",
    "lag=LAG \n",
    ")\n",
    "\n",
    "GB_LIST = [\"category\"] # RS: \n",
    "TARGET_COLUMN = \"Cantidad\"\n",
    "AGG_FUNC = \"sum\"\n",
    "AGG_FUNC_NAME = \"sum\"\n",
    "LAG=1\n",
    "df_copy = build_ts_vars(\n",
    "    df = df_copy,\n",
    "    gb_list = GB_LIST,\n",
    "    target_column = TARGET_COLUMN,\n",
    "    agg_func = AGG_FUNC,\n",
    "    agg_func_name =  AGG_FUNC_NAME,\n",
    "    lag=LAG \n",
    ")"
   ]
  },
  {
   "cell_type": "code",
   "execution_count": null,
   "metadata": {},
   "outputs": [],
   "source": [
    "#df_copy.sort_values([\"yearweek\", \"id\"], ascending = True, inplace = True)"
   ]
  },
  {
   "cell_type": "code",
   "execution_count": null,
   "metadata": {},
   "outputs": [],
   "source": [
    "COLUMNS_TO_DROP = [\"date\"\n",
    "    ,'sales_mon_fri', 'sales_sat_sun'\n",
    "    ,\"sales_mon_fri_por\",\"sales_sat_sun_por\"\n",
    "    ,\"sales_mon_fri_por_mean\",\"sales_sat_sun_por_mean\"\n",
    "    ,'month', 'year'\n",
    "    #\"item\",\"store_code\",\"region\",\"event\",\"week\",\n",
    "    #,\"sell_price\"\n",
    "                      ]\n",
    "\n",
    "df_copy.drop(COLUMNS_TO_DROP, inplace = True, axis = 1)"
   ]
  },
  {
   "cell_type": "code",
   "execution_count": null,
   "metadata": {},
   "outputs": [],
   "source": [
    "df_copy.head()"
   ]
  },
  {
   "cell_type": "code",
   "execution_count": null,
   "metadata": {},
   "outputs": [],
   "source": [
    "df_copy.set_index(\"item\", inplace = True)"
   ]
  },
  {
   "cell_type": "code",
   "execution_count": null,
   "metadata": {},
   "outputs": [],
   "source": [
    "dfhf=df_copy.copy(deep = True)"
   ]
  },
  {
   "cell_type": "code",
   "execution_count": null,
   "metadata": {},
   "outputs": [],
   "source": [
    "train_index = sorted(list(dfhf[\"yearweek\"].unique()))[:-2]\n",
    "\n",
    "valida_index = [sorted(list(dfhf[\"yearweek\"].unique()))[-2]]\n",
    "\n",
    "test_index = [sorted(list(dfhf[\"yearweek\"].unique()))[-1]]\n",
    "\n",
    "# print(f\"Our train index is {train_index[:2]} - ... - {train_index[-2:]}\\n\")\n",
    "# print(f\"Our validation index is {valida_index}\\n\")\n",
    "# print(f\"Our test/prediction index is {test_index}\\n\")\n",
    "\n",
    "X_train = dfhf[dfhf[\"yearweek\"].isin(train_index)].drop([\"Cantidad\", \"yearweek\"], axis=1)\n",
    "Y_train = dfhf[dfhf[\"yearweek\"].isin(train_index)][\"Cantidad\"]\n",
    "\n",
    "X_valida = dfhf[dfhf[\"yearweek\"].isin(valida_index)].drop([\"Cantidad\", \"yearweek\"], axis=1)\n",
    "Y_valida = dfhf[dfhf[\"yearweek\"].isin(valida_index)][\"Cantidad\"]\n",
    "\n",
    "X_test = dfhf[dfhf[\"yearweek\"].isin(test_index)].drop([\"Cantidad\", \"yearweek\"], axis = 1)\n",
    "Y_test = dfhf[dfhf[\"yearweek\"].isin(test_index)][\"Cantidad\"]"
   ]
  },
  {
   "cell_type": "code",
   "execution_count": null,
   "metadata": {},
   "outputs": [],
   "source": [
    "X_train.shape"
   ]
  },
  {
   "cell_type": "code",
   "execution_count": null,
   "metadata": {},
   "outputs": [],
   "source": [
    "X_valida.shape"
   ]
  },
  {
   "cell_type": "code",
   "execution_count": null,
   "metadata": {},
   "outputs": [],
   "source": [
    "X_test.shape"
   ]
  },
  {
   "cell_type": "code",
   "execution_count": null,
   "metadata": {},
   "outputs": [],
   "source": [
    "Y_train.sum()"
   ]
  },
  {
   "cell_type": "code",
   "execution_count": null,
   "metadata": {},
   "outputs": [],
   "source": [
    "Y_valida.sum()"
   ]
  },
  {
   "cell_type": "code",
   "execution_count": null,
   "metadata": {},
   "outputs": [],
   "source": [
    "Y_test.sum()"
   ]
  },
  {
   "cell_type": "code",
   "execution_count": null,
   "metadata": {},
   "outputs": [],
   "source": [
    "Y_train.sum()+Y_valida.sum()"
   ]
  },
  {
   "cell_type": "code",
   "execution_count": null,
   "metadata": {},
   "outputs": [],
   "source": [
    "model = xgb.XGBRegressor(eval_metric ='rmse', seed = 175)#,base_score=0)"
   ]
  },
  {
   "cell_type": "code",
   "execution_count": null,
   "metadata": {},
   "outputs": [],
   "source": [
    "model.fit(X_train, Y_train,eval_set = [(X_train, Y_train), (X_valida, Y_valida)],verbose = True,early_stopping_rounds=50)\n"
   ]
  },
  {
   "cell_type": "code",
   "execution_count": null,
   "metadata": {},
   "outputs": [],
   "source": [
    "y_pred = model.predict(X_test).astype(\"float64\")"
   ]
  },
  {
   "cell_type": "code",
   "execution_count": null,
   "metadata": {},
   "outputs": [],
   "source": [
    "Y_valida_predict = model.predict(X_valida).astype(\"float64\")"
   ]
  },
  {
   "cell_type": "code",
   "execution_count": null,
   "metadata": {},
   "outputs": [],
   "source": [
    "Y_train_predict = model.predict(X_train).astype(\"float64\")"
   ]
  },
  {
   "cell_type": "code",
   "execution_count": null,
   "metadata": {},
   "outputs": [],
   "source": [
    "rmse_train = np.sqrt(\n",
    "    mean_squared_error(\n",
    "        y_true = Y_train,\n",
    "        y_pred = Y_train_predict\n",
    "    )\n",
    ")\n",
    "\n",
    "rmse_valida = np.sqrt(\n",
    "    mean_squared_error(\n",
    "        y_true = Y_valida,\n",
    "        y_pred = Y_valida_predict\n",
    "    )\n",
    ")\n",
    "\n",
    "rmse_train= str(round(rmse_train, 3)).replace(\".\", \"_\")\n",
    "rmse_valida = str(round(rmse_valida, 3)).replace(\".\", \"_\")"
   ]
  },
  {
   "cell_type": "code",
   "execution_count": null,
   "metadata": {},
   "outputs": [],
   "source": [
    "resultados=[]"
   ]
  },
  {
   "cell_type": "code",
   "execution_count": null,
   "metadata": {},
   "outputs": [],
   "source": [
    "print(f\"Train RMSE: {rmse_train}\")\n",
    "print(f\"Validation RMSE: {rmse_valida}\")"
   ]
  },
  {
   "cell_type": "code",
   "execution_count": null,
   "metadata": {},
   "outputs": [],
   "source": [
    "a=(new_date,rmse_train,rmse_valida)"
   ]
  },
  {
   "cell_type": "code",
   "execution_count": null,
   "metadata": {},
   "outputs": [],
   "source": [
    "resultados.append(a)"
   ]
  },
  {
   "cell_type": "code",
   "execution_count": null,
   "metadata": {},
   "outputs": [],
   "source": [
    "resultados"
   ]
  },
  {
   "cell_type": "code",
   "execution_count": null,
   "metadata": {},
   "outputs": [],
   "source": [
    "ab=pd.DataFrame(resultados,columns=[\"modelo\",\"Train RMSE\", \"Validation RMSE\"])"
   ]
  },
  {
   "cell_type": "code",
   "execution_count": null,
   "metadata": {},
   "outputs": [],
   "source": [
    "ab"
   ]
  },
  {
   "cell_type": "code",
   "execution_count": null,
   "metadata": {},
   "outputs": [],
   "source": [
    "y_pred.sum()"
   ]
  },
  {
   "cell_type": "code",
   "execution_count": null,
   "metadata": {},
   "outputs": [],
   "source": [
    "y_pred_df=X_test.copy(deep=True)"
   ]
  },
  {
   "cell_type": "code",
   "execution_count": null,
   "metadata": {},
   "outputs": [],
   "source": [
    "y_pred_df[\"Cantidad\"] = y_pred"
   ]
  },
  {
   "cell_type": "code",
   "execution_count": null,
   "metadata": {},
   "outputs": [],
   "source": [
    "y_pred_df[\"yearweek\"]=new_date"
   ]
  },
  {
   "cell_type": "code",
   "execution_count": null,
   "metadata": {},
   "outputs": [],
   "source": [
    "y_pred_df.describe().T"
   ]
  },
  {
   "cell_type": "code",
   "execution_count": null,
   "metadata": {},
   "outputs": [],
   "source": [
    "y_pred_df.head()"
   ]
  },
  {
   "cell_type": "code",
   "execution_count": null,
   "metadata": {},
   "outputs": [],
   "source": [
    "y_pred_df = y_pred_df.reset_index().rename(columns={'index': 'item'})"
   ]
  },
  {
   "cell_type": "code",
   "execution_count": null,
   "metadata": {},
   "outputs": [],
   "source": [
    "y_pred_df = y_pred_df.reindex(columns=dfh.columns)"
   ]
  },
  {
   "cell_type": "code",
   "execution_count": null,
   "metadata": {},
   "outputs": [],
   "source": [
    "y_pred_df=recuperar_fechas(y_pred_df,dfo)"
   ]
  },
  {
   "cell_type": "code",
   "execution_count": null,
   "metadata": {},
   "outputs": [],
   "source": [
    "y_pred_df=participacion_media(y_pred_df,groupedweeks)"
   ]
  },
  {
   "cell_type": "code",
   "execution_count": null,
   "metadata": {},
   "outputs": [],
   "source": [
    "y_pred_df.head()"
   ]
  },
  {
   "cell_type": "code",
   "execution_count": null,
   "metadata": {},
   "outputs": [],
   "source": [
    "y_pred_df = y_pred_df.reindex(columns=dfh.columns)"
   ]
  },
  {
   "cell_type": "code",
   "execution_count": null,
   "metadata": {},
   "outputs": [],
   "source": [
    "y_pred_df.head()"
   ]
  },
  {
   "cell_type": "code",
   "execution_count": null,
   "metadata": {},
   "outputs": [],
   "source": [
    "dfh=dfh[dfh[\"yearweek\"]!=new_date]"
   ]
  },
  {
   "cell_type": "code",
   "execution_count": null,
   "metadata": {},
   "outputs": [],
   "source": [
    "dfh.reset_index(drop=True,inplace=True)"
   ]
  },
  {
   "cell_type": "code",
   "execution_count": null,
   "metadata": {},
   "outputs": [],
   "source": [
    "dfh[dfh[\"yearweek\"]!=new_date][\"Cantidad\"].sum()"
   ]
  },
  {
   "cell_type": "code",
   "execution_count": null,
   "metadata": {},
   "outputs": [],
   "source": [
    "dfh = pd.concat([dfh,y_pred_df])"
   ]
  },
  {
   "cell_type": "code",
   "execution_count": null,
   "metadata": {},
   "outputs": [],
   "source": [
    "(dfh[\"Cantidad\"].sum())-y_pred.sum()"
   ]
  },
  {
   "cell_type": "code",
   "execution_count": null,
   "metadata": {},
   "outputs": [],
   "source": [
    "dfh.reset_index(drop=True,inplace=True)"
   ]
  },
  {
   "cell_type": "code",
   "execution_count": null,
   "metadata": {},
   "outputs": [],
   "source": [
    "dfh.tail(10)"
   ]
  }
 ],
 "metadata": {
  "kernelspec": {
   "display_name": "Python 3",
   "language": "python",
   "name": "python3"
  },
  "language_info": {
   "codemirror_mode": {
    "name": "ipython",
    "version": 3
   },
   "file_extension": ".py",
   "mimetype": "text/x-python",
   "name": "python",
   "nbconvert_exporter": "python",
   "pygments_lexer": "ipython3",
   "version": "3.12.1"
  }
 },
 "nbformat": 4,
 "nbformat_minor": 2
}
