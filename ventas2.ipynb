{
 "cells": [
  {
   "cell_type": "code",
   "execution_count": 74,
   "metadata": {},
   "outputs": [],
   "source": [
    "import pandas as pd\n",
    "import numpy as np"
   ]
  },
  {
   "cell_type": "code",
   "execution_count": 75,
   "metadata": {},
   "outputs": [],
   "source": [
    "calendario = pd.read_csv(\"data/daily_calendar_with_events.csv\")\n",
    "precios = pd.read_csv(\"data/item_prices.csv\")\n",
    "ventas = pd.read_csv(\"data/item_sales.csv\")"
   ]
  },
  {
   "cell_type": "code",
   "execution_count": 83,
   "metadata": {},
   "outputs": [],
   "source": [
    "ventas1=ventas.copy()"
   ]
  },
  {
   "cell_type": "code",
   "execution_count": 86,
   "metadata": {},
   "outputs": [],
   "source": [
    "ventasmelt=ventas.melt(id_vars=ventas.columns[:7],value_vars=ventas.columns[7:],var_name=\"d\",value_name=\"Cantidad\") #Transformacion de BD, dias por Fila"
   ]
  },
  {
   "cell_type": "code",
   "execution_count": 87,
   "metadata": {},
   "outputs": [
    {
     "data": {
      "text/plain": [
       "65695409"
      ]
     },
     "execution_count": 87,
     "metadata": {},
     "output_type": "execute_result"
    }
   ],
   "source": [
    "ventasmelt[\"Cantidad\"].sum() # suma de ventas totales"
   ]
  },
  {
   "cell_type": "code",
   "execution_count": 90,
   "metadata": {},
   "outputs": [],
   "source": [
    "ventas2=ventasmelt.drop(ventasmelt[ventasmelt[\"Cantidad\"]==0].index) #eliminar indices con ventas =0"
   ]
  },
  {
   "cell_type": "code",
   "execution_count": 92,
   "metadata": {},
   "outputs": [],
   "source": [
    "ventas2.reset_index(drop= True,inplace=True) # reset de indices despues de eliminar"
   ]
  },
  {
   "cell_type": "code",
   "execution_count": 93,
   "metadata": {},
   "outputs": [
    {
     "data": {
      "text/plain": [
       "65695409"
      ]
     },
     "execution_count": 93,
     "metadata": {},
     "output_type": "execute_result"
    }
   ],
   "source": [
    "ventas2[\"Cantidad\"].sum() # comprobacion de suma total despues de eliminar filas check"
   ]
  },
  {
   "cell_type": "code",
   "execution_count": 94,
   "metadata": {},
   "outputs": [],
   "source": [
    "calendario2=calendario.copy()"
   ]
  },
  {
   "cell_type": "code",
   "execution_count": 95,
   "metadata": {},
   "outputs": [],
   "source": [
    "calendario2[\"date\"]=pd.to_datetime(calendario2[\"date\"]) # formato fecha en columna date"
   ]
  },
  {
   "cell_type": "code",
   "execution_count": 96,
   "metadata": {},
   "outputs": [],
   "source": [
    "# crea columnas de dia,semana,mes y año a partir de date\n",
    "calendario2['week'] = calendario2['date'].dt.isocalendar().week\n",
    "calendario2['day'] = calendario2['date'].dt.day\n",
    "calendario2['month'] = calendario2['date'].dt.month\n",
    "calendario2['year'] = calendario2['date'].dt.year"
   ]
  },
  {
   "cell_type": "code",
   "execution_count": 97,
   "metadata": {},
   "outputs": [],
   "source": [
    "# concatena semana y año en un string, agregando el 0 a semanas del 1 al 9\n",
    "calendario2['week'] = calendario2['date'].dt.isocalendar().week.astype(str)\n",
    "for i in range(len(calendario2)):\n",
    "    if int(calendario2.loc[i,'week']) < 10:\n",
    "        calendario2.loc[i,'week'] = '0'+calendario2.loc[i,'week']\n",
    "calendario2['year'] = calendario2['date'].dt.isocalendar().year\n",
    "calendario2['yearweek']=calendario2['year'].astype(str)+calendario2['week']"
   ]
  },
  {
   "cell_type": "code",
   "execution_count": 116,
   "metadata": {},
   "outputs": [],
   "source": [
    "ventas3=pd.merge(ventas2,calendario2[[\"d\",\"weekday_int\",\"event\",\"month\",\"day\",\"yearweek\"]],how=\"left\",on=\"d\") # Join ventas con calendario"
   ]
  },
  {
   "cell_type": "code",
   "execution_count": 129,
   "metadata": {},
   "outputs": [
    {
     "data": {
      "text/plain": [
       "(18550276, 14)"
      ]
     },
     "execution_count": 129,
     "metadata": {},
     "output_type": "execute_result"
    }
   ],
   "source": [
    "ventas3.shape"
   ]
  },
  {
   "cell_type": "code",
   "execution_count": 136,
   "metadata": {},
   "outputs": [
    {
     "data": {
      "text/html": [
       "<div>\n",
       "<style scoped>\n",
       "    .dataframe tbody tr th:only-of-type {\n",
       "        vertical-align: middle;\n",
       "    }\n",
       "\n",
       "    .dataframe tbody tr th {\n",
       "        vertical-align: top;\n",
       "    }\n",
       "\n",
       "    .dataframe thead th {\n",
       "        text-align: right;\n",
       "    }\n",
       "</style>\n",
       "<table border=\"1\" class=\"dataframe\">\n",
       "  <thead>\n",
       "    <tr style=\"text-align: right;\">\n",
       "      <th></th>\n",
       "      <th>id</th>\n",
       "      <th>item</th>\n",
       "      <th>category</th>\n",
       "      <th>department</th>\n",
       "      <th>store</th>\n",
       "      <th>store_code</th>\n",
       "      <th>region</th>\n",
       "      <th>d</th>\n",
       "      <th>Cantidad</th>\n",
       "      <th>weekday_int</th>\n",
       "      <th>event</th>\n",
       "      <th>month</th>\n",
       "      <th>day</th>\n",
       "      <th>yearweek</th>\n",
       "    </tr>\n",
       "  </thead>\n",
       "  <tbody>\n",
       "    <tr>\n",
       "      <th>0</th>\n",
       "      <td>ACCESORIES_1_008_NYC_1</td>\n",
       "      <td>ACCESORIES_1_008</td>\n",
       "      <td>ACCESORIES</td>\n",
       "      <td>ACCESORIES_1</td>\n",
       "      <td>Greenwich_Village</td>\n",
       "      <td>NYC_1</td>\n",
       "      <td>New York</td>\n",
       "      <td>d_1</td>\n",
       "      <td>12</td>\n",
       "      <td>1</td>\n",
       "      <td>NaN</td>\n",
       "      <td>1</td>\n",
       "      <td>29</td>\n",
       "      <td>201104</td>\n",
       "    </tr>\n",
       "  </tbody>\n",
       "</table>\n",
       "</div>"
      ],
      "text/plain": [
       "                       id              item    category    department  \\\n",
       "0  ACCESORIES_1_008_NYC_1  ACCESORIES_1_008  ACCESORIES  ACCESORIES_1   \n",
       "\n",
       "               store store_code    region    d  Cantidad  weekday_int event  \\\n",
       "0  Greenwich_Village      NYC_1  New York  d_1        12            1   NaN   \n",
       "\n",
       "   month  day yearweek  \n",
       "0      1   29   201104  "
      ]
     },
     "execution_count": 136,
     "metadata": {},
     "output_type": "execute_result"
    }
   ],
   "source": [
    "ventas3.head(1)"
   ]
  },
  {
   "cell_type": "code",
   "execution_count": 146,
   "metadata": {},
   "outputs": [
    {
     "data": {
      "text/plain": [
       "['id',\n",
       " 'item',\n",
       " 'category',\n",
       " 'department',\n",
       " 'store',\n",
       " 'store_code',\n",
       " 'region',\n",
       " 'yearweek']"
      ]
     },
     "execution_count": 146,
     "metadata": {},
     "output_type": "execute_result"
    }
   ],
   "source": [
    "columnasbase=ventas3.columns[:7].tolist()\n",
    "columnasbase.append(\"yearweek\")\n",
    "columnasbase"
   ]
  },
  {
   "cell_type": "code",
   "execution_count": 157,
   "metadata": {},
   "outputs": [],
   "source": [
    "ventas4=ventas3.groupby(by=columnasbase).agg({\"Cantidad\":\"sum\"})"
   ]
  },
  {
   "cell_type": "code",
   "execution_count": 160,
   "metadata": {},
   "outputs": [],
   "source": [
    "ventas4=ventas4.reset_index()"
   ]
  },
  {
   "cell_type": "code",
   "execution_count": 162,
   "metadata": {},
   "outputs": [
    {
     "data": {
      "text/plain": [
       "65695409"
      ]
     },
     "execution_count": 162,
     "metadata": {},
     "output_type": "execute_result"
    }
   ],
   "source": [
    "ventas4[\"Cantidad\"].sum()"
   ]
  },
  {
   "cell_type": "code",
   "execution_count": 163,
   "metadata": {},
   "outputs": [
    {
     "data": {
      "text/plain": [
       "(4990898, 9)"
      ]
     },
     "execution_count": 163,
     "metadata": {},
     "output_type": "execute_result"
    }
   ],
   "source": [
    "ventas4.shape"
   ]
  },
  {
   "cell_type": "code",
   "execution_count": 117,
   "metadata": {},
   "outputs": [],
   "source": [
    "precios2=precios.copy()"
   ]
  },
  {
   "cell_type": "code",
   "execution_count": 118,
   "metadata": {},
   "outputs": [
    {
     "data": {
      "text/plain": [
       "243920"
      ]
     },
     "execution_count": 118,
     "metadata": {},
     "output_type": "execute_result"
    }
   ],
   "source": [
    "precios[\"yearweek\"].isnull().sum() # numero de semanas nulas"
   ]
  },
  {
   "cell_type": "code",
   "execution_count": 119,
   "metadata": {},
   "outputs": [
    {
     "data": {
      "text/plain": [
       "0"
      ]
     },
     "execution_count": 119,
     "metadata": {},
     "output_type": "execute_result"
    }
   ],
   "source": [
    "precios[\"sell_price\"].isnull().sum()"
   ]
  },
  {
   "cell_type": "code",
   "execution_count": 120,
   "metadata": {},
   "outputs": [],
   "source": [
    "precios2[\"yearweek\"]=precios2[\"yearweek\"].astype(str)\n",
    "precios2[\"yearweek\"]=precios2[\"yearweek\"].str.slice(stop=6) # quita .0 del string\n",
    "precios2[\"year\"]=precios2[\"yearweek\"].str.slice(stop=4) # crea columna con año\n",
    "precios2[\"semana\"]=precios2[\"yearweek\"].str.slice(start=4,stop=6) # crea columna con semana"
   ]
  },
  {
   "cell_type": "code",
   "execution_count": 121,
   "metadata": {},
   "outputs": [],
   "source": [
    "precios2[\"id\"]=precios2[\"item\"]+\"_\"+precios2[\"store_code\"] # crea id coditem+codstore"
   ]
  },
  {
   "cell_type": "code",
   "execution_count": 164,
   "metadata": {},
   "outputs": [],
   "source": [
    "ventas5=pd.merge(ventas4,precios2[[\"id\",\"yearweek\",\"sell_price\"]],how=\"left\",on=[\"id\",\"yearweek\"]) #join de ventas y precios"
   ]
  },
  {
   "cell_type": "code",
   "execution_count": 165,
   "metadata": {},
   "outputs": [
    {
     "data": {
      "text/plain": [
       "(4990898, 10)"
      ]
     },
     "execution_count": 165,
     "metadata": {},
     "output_type": "execute_result"
    }
   ],
   "source": [
    "ventas5.shape"
   ]
  },
  {
   "cell_type": "code",
   "execution_count": 166,
   "metadata": {},
   "outputs": [
    {
     "data": {
      "text/plain": [
       "Index([     99,     231,     360,     498,     775,     917,     999,    1165,\n",
       "          1866,    2223,\n",
       "       ...\n",
       "       4989876, 4990115, 4990211, 4990279, 4990373, 4990433, 4990506, 4990598,\n",
       "       4990714, 4990774],\n",
       "      dtype='int64', length=35126)"
      ]
     },
     "execution_count": 166,
     "metadata": {},
     "output_type": "execute_result"
    }
   ],
   "source": [
    "ventas5[ventas5[\"sell_price\"].isnull()].index # ventas con datos nulos dado a que le semanaaño era nula"
   ]
  },
  {
   "cell_type": "code",
   "execution_count": 168,
   "metadata": {},
   "outputs": [],
   "source": [
    "ventas_nulas=ventas5[\"Cantidad\"].iloc[ventas5[ventas5[\"sell_price\"].isnull()].index].sum() # cuantifica la cantidad de unidades con precio nulo"
   ]
  },
  {
   "cell_type": "code",
   "execution_count": 169,
   "metadata": {},
   "outputs": [
    {
     "name": "stdout",
     "output_type": "stream",
     "text": [
      "0.510941335337451 %\n"
     ]
    }
   ],
   "source": [
    "print((ventas_nulas/ventas_totales)*100,\"%\" )  #porcentaje de ventas nulas"
   ]
  },
  {
   "cell_type": "code",
   "execution_count": 170,
   "metadata": {},
   "outputs": [
    {
     "data": {
      "text/html": [
       "<div>\n",
       "<style scoped>\n",
       "    .dataframe tbody tr th:only-of-type {\n",
       "        vertical-align: middle;\n",
       "    }\n",
       "\n",
       "    .dataframe tbody tr th {\n",
       "        vertical-align: top;\n",
       "    }\n",
       "\n",
       "    .dataframe thead th {\n",
       "        text-align: right;\n",
       "    }\n",
       "</style>\n",
       "<table border=\"1\" class=\"dataframe\">\n",
       "  <thead>\n",
       "    <tr style=\"text-align: right;\">\n",
       "      <th></th>\n",
       "      <th>id</th>\n",
       "      <th>item</th>\n",
       "      <th>category</th>\n",
       "      <th>department</th>\n",
       "      <th>store</th>\n",
       "      <th>store_code</th>\n",
       "      <th>region</th>\n",
       "      <th>yearweek</th>\n",
       "      <th>Cantidad</th>\n",
       "      <th>sell_price</th>\n",
       "    </tr>\n",
       "  </thead>\n",
       "  <tbody>\n",
       "    <tr>\n",
       "      <th>0</th>\n",
       "      <td>ACCESORIES_1_001_BOS_1</td>\n",
       "      <td>ACCESORIES_1_001</td>\n",
       "      <td>ACCESORIES</td>\n",
       "      <td>ACCESORIES_1</td>\n",
       "      <td>South_End</td>\n",
       "      <td>BOS_1</td>\n",
       "      <td>Boston</td>\n",
       "      <td>201329</td>\n",
       "      <td>4</td>\n",
       "      <td>10.9858</td>\n",
       "    </tr>\n",
       "    <tr>\n",
       "      <th>1</th>\n",
       "      <td>ACCESORIES_1_001_BOS_1</td>\n",
       "      <td>ACCESORIES_1_001</td>\n",
       "      <td>ACCESORIES</td>\n",
       "      <td>ACCESORIES_1</td>\n",
       "      <td>South_End</td>\n",
       "      <td>BOS_1</td>\n",
       "      <td>Boston</td>\n",
       "      <td>201330</td>\n",
       "      <td>4</td>\n",
       "      <td>10.9858</td>\n",
       "    </tr>\n",
       "    <tr>\n",
       "      <th>2</th>\n",
       "      <td>ACCESORIES_1_001_BOS_1</td>\n",
       "      <td>ACCESORIES_1_001</td>\n",
       "      <td>ACCESORIES</td>\n",
       "      <td>ACCESORIES_1</td>\n",
       "      <td>South_End</td>\n",
       "      <td>BOS_1</td>\n",
       "      <td>Boston</td>\n",
       "      <td>201331</td>\n",
       "      <td>2</td>\n",
       "      <td>10.9858</td>\n",
       "    </tr>\n",
       "    <tr>\n",
       "      <th>3</th>\n",
       "      <td>ACCESORIES_1_001_BOS_1</td>\n",
       "      <td>ACCESORIES_1_001</td>\n",
       "      <td>ACCESORIES</td>\n",
       "      <td>ACCESORIES_1</td>\n",
       "      <td>South_End</td>\n",
       "      <td>BOS_1</td>\n",
       "      <td>Boston</td>\n",
       "      <td>201332</td>\n",
       "      <td>1</td>\n",
       "      <td>10.9858</td>\n",
       "    </tr>\n",
       "    <tr>\n",
       "      <th>4</th>\n",
       "      <td>ACCESORIES_1_001_BOS_1</td>\n",
       "      <td>ACCESORIES_1_001</td>\n",
       "      <td>ACCESORIES</td>\n",
       "      <td>ACCESORIES_1</td>\n",
       "      <td>South_End</td>\n",
       "      <td>BOS_1</td>\n",
       "      <td>Boston</td>\n",
       "      <td>201335</td>\n",
       "      <td>2</td>\n",
       "      <td>10.9858</td>\n",
       "    </tr>\n",
       "    <tr>\n",
       "      <th>5</th>\n",
       "      <td>ACCESORIES_1_001_BOS_1</td>\n",
       "      <td>ACCESORIES_1_001</td>\n",
       "      <td>ACCESORIES</td>\n",
       "      <td>ACCESORIES_1</td>\n",
       "      <td>South_End</td>\n",
       "      <td>BOS_1</td>\n",
       "      <td>Boston</td>\n",
       "      <td>201336</td>\n",
       "      <td>3</td>\n",
       "      <td>10.9858</td>\n",
       "    </tr>\n",
       "    <tr>\n",
       "      <th>6</th>\n",
       "      <td>ACCESORIES_1_001_BOS_1</td>\n",
       "      <td>ACCESORIES_1_001</td>\n",
       "      <td>ACCESORIES</td>\n",
       "      <td>ACCESORIES_1</td>\n",
       "      <td>South_End</td>\n",
       "      <td>BOS_1</td>\n",
       "      <td>Boston</td>\n",
       "      <td>201339</td>\n",
       "      <td>1</td>\n",
       "      <td>10.9858</td>\n",
       "    </tr>\n",
       "    <tr>\n",
       "      <th>7</th>\n",
       "      <td>ACCESORIES_1_001_BOS_1</td>\n",
       "      <td>ACCESORIES_1_001</td>\n",
       "      <td>ACCESORIES</td>\n",
       "      <td>ACCESORIES_1</td>\n",
       "      <td>South_End</td>\n",
       "      <td>BOS_1</td>\n",
       "      <td>Boston</td>\n",
       "      <td>201341</td>\n",
       "      <td>2</td>\n",
       "      <td>10.9858</td>\n",
       "    </tr>\n",
       "    <tr>\n",
       "      <th>8</th>\n",
       "      <td>ACCESORIES_1_001_BOS_1</td>\n",
       "      <td>ACCESORIES_1_001</td>\n",
       "      <td>ACCESORIES</td>\n",
       "      <td>ACCESORIES_1</td>\n",
       "      <td>South_End</td>\n",
       "      <td>BOS_1</td>\n",
       "      <td>Boston</td>\n",
       "      <td>201342</td>\n",
       "      <td>1</td>\n",
       "      <td>10.9858</td>\n",
       "    </tr>\n",
       "    <tr>\n",
       "      <th>9</th>\n",
       "      <td>ACCESORIES_1_001_BOS_1</td>\n",
       "      <td>ACCESORIES_1_001</td>\n",
       "      <td>ACCESORIES</td>\n",
       "      <td>ACCESORIES_1</td>\n",
       "      <td>South_End</td>\n",
       "      <td>BOS_1</td>\n",
       "      <td>Boston</td>\n",
       "      <td>201343</td>\n",
       "      <td>1</td>\n",
       "      <td>10.9858</td>\n",
       "    </tr>\n",
       "  </tbody>\n",
       "</table>\n",
       "</div>"
      ],
      "text/plain": [
       "                       id              item    category    department  \\\n",
       "0  ACCESORIES_1_001_BOS_1  ACCESORIES_1_001  ACCESORIES  ACCESORIES_1   \n",
       "1  ACCESORIES_1_001_BOS_1  ACCESORIES_1_001  ACCESORIES  ACCESORIES_1   \n",
       "2  ACCESORIES_1_001_BOS_1  ACCESORIES_1_001  ACCESORIES  ACCESORIES_1   \n",
       "3  ACCESORIES_1_001_BOS_1  ACCESORIES_1_001  ACCESORIES  ACCESORIES_1   \n",
       "4  ACCESORIES_1_001_BOS_1  ACCESORIES_1_001  ACCESORIES  ACCESORIES_1   \n",
       "5  ACCESORIES_1_001_BOS_1  ACCESORIES_1_001  ACCESORIES  ACCESORIES_1   \n",
       "6  ACCESORIES_1_001_BOS_1  ACCESORIES_1_001  ACCESORIES  ACCESORIES_1   \n",
       "7  ACCESORIES_1_001_BOS_1  ACCESORIES_1_001  ACCESORIES  ACCESORIES_1   \n",
       "8  ACCESORIES_1_001_BOS_1  ACCESORIES_1_001  ACCESORIES  ACCESORIES_1   \n",
       "9  ACCESORIES_1_001_BOS_1  ACCESORIES_1_001  ACCESORIES  ACCESORIES_1   \n",
       "\n",
       "       store store_code  region yearweek  Cantidad  sell_price  \n",
       "0  South_End      BOS_1  Boston   201329         4     10.9858  \n",
       "1  South_End      BOS_1  Boston   201330         4     10.9858  \n",
       "2  South_End      BOS_1  Boston   201331         2     10.9858  \n",
       "3  South_End      BOS_1  Boston   201332         1     10.9858  \n",
       "4  South_End      BOS_1  Boston   201335         2     10.9858  \n",
       "5  South_End      BOS_1  Boston   201336         3     10.9858  \n",
       "6  South_End      BOS_1  Boston   201339         1     10.9858  \n",
       "7  South_End      BOS_1  Boston   201341         2     10.9858  \n",
       "8  South_End      BOS_1  Boston   201342         1     10.9858  \n",
       "9  South_End      BOS_1  Boston   201343         1     10.9858  "
      ]
     },
     "execution_count": 170,
     "metadata": {},
     "output_type": "execute_result"
    }
   ],
   "source": [
    "ventas5.head(10)"
   ]
  },
  {
   "cell_type": "code",
   "execution_count": 172,
   "metadata": {},
   "outputs": [],
   "source": [
    "from pathlib import Path  \n",
    "filepath = Path(\"data/ventassem.csv\")  \n",
    "filepath.parent.mkdir(parents=True, exist_ok=True)  \n",
    "ventas5.to_csv(filepath,index=False)  "
   ]
  },
  {
   "cell_type": "code",
   "execution_count": 173,
   "metadata": {},
   "outputs": [
    {
     "data": {
      "text/html": [
       "<div>\n",
       "<style scoped>\n",
       "    .dataframe tbody tr th:only-of-type {\n",
       "        vertical-align: middle;\n",
       "    }\n",
       "\n",
       "    .dataframe tbody tr th {\n",
       "        vertical-align: top;\n",
       "    }\n",
       "\n",
       "    .dataframe thead th {\n",
       "        text-align: right;\n",
       "    }\n",
       "</style>\n",
       "<table border=\"1\" class=\"dataframe\">\n",
       "  <thead>\n",
       "    <tr style=\"text-align: right;\">\n",
       "      <th></th>\n",
       "      <th>date</th>\n",
       "      <th>weekday</th>\n",
       "      <th>weekday_int</th>\n",
       "      <th>d</th>\n",
       "      <th>event</th>\n",
       "      <th>week</th>\n",
       "      <th>day</th>\n",
       "      <th>month</th>\n",
       "      <th>year</th>\n",
       "      <th>yearweek</th>\n",
       "    </tr>\n",
       "  </thead>\n",
       "  <tbody>\n",
       "    <tr>\n",
       "      <th>0</th>\n",
       "      <td>2011-01-29</td>\n",
       "      <td>Saturday</td>\n",
       "      <td>1</td>\n",
       "      <td>d_1</td>\n",
       "      <td>NaN</td>\n",
       "      <td>04</td>\n",
       "      <td>29</td>\n",
       "      <td>1</td>\n",
       "      <td>2011</td>\n",
       "      <td>201104</td>\n",
       "    </tr>\n",
       "    <tr>\n",
       "      <th>1</th>\n",
       "      <td>2011-01-30</td>\n",
       "      <td>Sunday</td>\n",
       "      <td>2</td>\n",
       "      <td>d_2</td>\n",
       "      <td>NaN</td>\n",
       "      <td>04</td>\n",
       "      <td>30</td>\n",
       "      <td>1</td>\n",
       "      <td>2011</td>\n",
       "      <td>201104</td>\n",
       "    </tr>\n",
       "    <tr>\n",
       "      <th>2</th>\n",
       "      <td>2011-01-31</td>\n",
       "      <td>Monday</td>\n",
       "      <td>3</td>\n",
       "      <td>d_3</td>\n",
       "      <td>NaN</td>\n",
       "      <td>05</td>\n",
       "      <td>31</td>\n",
       "      <td>1</td>\n",
       "      <td>2011</td>\n",
       "      <td>201105</td>\n",
       "    </tr>\n",
       "    <tr>\n",
       "      <th>3</th>\n",
       "      <td>2011-02-01</td>\n",
       "      <td>Tuesday</td>\n",
       "      <td>4</td>\n",
       "      <td>d_4</td>\n",
       "      <td>NaN</td>\n",
       "      <td>05</td>\n",
       "      <td>1</td>\n",
       "      <td>2</td>\n",
       "      <td>2011</td>\n",
       "      <td>201105</td>\n",
       "    </tr>\n",
       "    <tr>\n",
       "      <th>4</th>\n",
       "      <td>2011-02-02</td>\n",
       "      <td>Wednesday</td>\n",
       "      <td>5</td>\n",
       "      <td>d_5</td>\n",
       "      <td>NaN</td>\n",
       "      <td>05</td>\n",
       "      <td>2</td>\n",
       "      <td>2</td>\n",
       "      <td>2011</td>\n",
       "      <td>201105</td>\n",
       "    </tr>\n",
       "  </tbody>\n",
       "</table>\n",
       "</div>"
      ],
      "text/plain": [
       "        date    weekday  weekday_int    d event week  day  month  year  \\\n",
       "0 2011-01-29   Saturday            1  d_1   NaN   04   29      1  2011   \n",
       "1 2011-01-30     Sunday            2  d_2   NaN   04   30      1  2011   \n",
       "2 2011-01-31     Monday            3  d_3   NaN   05   31      1  2011   \n",
       "3 2011-02-01    Tuesday            4  d_4   NaN   05    1      2  2011   \n",
       "4 2011-02-02  Wednesday            5  d_5   NaN   05    2      2  2011   \n",
       "\n",
       "  yearweek  \n",
       "0   201104  \n",
       "1   201104  \n",
       "2   201105  \n",
       "3   201105  \n",
       "4   201105  "
      ]
     },
     "execution_count": 173,
     "metadata": {},
     "output_type": "execute_result"
    }
   ],
   "source": [
    "calendario2.head()"
   ]
  },
  {
   "cell_type": "code",
   "execution_count": 177,
   "metadata": {},
   "outputs": [
    {
     "data": {
      "text/plain": [
       "274"
      ]
     },
     "execution_count": 177,
     "metadata": {},
     "output_type": "execute_result"
    }
   ],
   "source": [
    "len(calendario2[\"yearweek\"].unique())"
   ]
  },
  {
   "cell_type": "code",
   "execution_count": 174,
   "metadata": {},
   "outputs": [],
   "source": [
    "from pathlib import Path  \n",
    "filepath = Path(\"data/calendario.csv\")  \n",
    "filepath.parent.mkdir(parents=True, exist_ok=True)  \n",
    "calendario2.to_csv(filepath,index=False)  "
   ]
  },
  {
   "cell_type": "code",
   "execution_count": 201,
   "metadata": {},
   "outputs": [
    {
     "data": {
      "text/html": [
       "<div>\n",
       "<style scoped>\n",
       "    .dataframe tbody tr th:only-of-type {\n",
       "        vertical-align: middle;\n",
       "    }\n",
       "\n",
       "    .dataframe tbody tr th {\n",
       "        vertical-align: top;\n",
       "    }\n",
       "\n",
       "    .dataframe thead th {\n",
       "        text-align: right;\n",
       "    }\n",
       "</style>\n",
       "<table border=\"1\" class=\"dataframe\">\n",
       "  <thead>\n",
       "    <tr style=\"text-align: right;\">\n",
       "      <th></th>\n",
       "      <th>store_code</th>\n",
       "      <th>region</th>\n",
       "      <th>store</th>\n",
       "      <th>department</th>\n",
       "    </tr>\n",
       "  </thead>\n",
       "  <tbody>\n",
       "    <tr>\n",
       "      <th>0</th>\n",
       "      <td>BOS_1</td>\n",
       "      <td>Boston</td>\n",
       "      <td>South_End</td>\n",
       "      <td>ACCESORIES_1</td>\n",
       "    </tr>\n",
       "    <tr>\n",
       "      <th>1</th>\n",
       "      <td>BOS_1</td>\n",
       "      <td>Boston</td>\n",
       "      <td>South_End</td>\n",
       "      <td>ACCESORIES_2</td>\n",
       "    </tr>\n",
       "    <tr>\n",
       "      <th>2</th>\n",
       "      <td>BOS_1</td>\n",
       "      <td>Boston</td>\n",
       "      <td>South_End</td>\n",
       "      <td>HOME_&amp;_GARDEN_1</td>\n",
       "    </tr>\n",
       "    <tr>\n",
       "      <th>3</th>\n",
       "      <td>BOS_1</td>\n",
       "      <td>Boston</td>\n",
       "      <td>South_End</td>\n",
       "      <td>HOME_&amp;_GARDEN_2</td>\n",
       "    </tr>\n",
       "    <tr>\n",
       "      <th>4</th>\n",
       "      <td>BOS_1</td>\n",
       "      <td>Boston</td>\n",
       "      <td>South_End</td>\n",
       "      <td>SUPERMARKET_1</td>\n",
       "    </tr>\n",
       "    <tr>\n",
       "      <th>...</th>\n",
       "      <td>...</td>\n",
       "      <td>...</td>\n",
       "      <td>...</td>\n",
       "      <td>...</td>\n",
       "    </tr>\n",
       "    <tr>\n",
       "      <th>65</th>\n",
       "      <td>PHI_3</td>\n",
       "      <td>Philadelphia</td>\n",
       "      <td>Queen_Village</td>\n",
       "      <td>HOME_&amp;_GARDEN_1</td>\n",
       "    </tr>\n",
       "    <tr>\n",
       "      <th>66</th>\n",
       "      <td>PHI_3</td>\n",
       "      <td>Philadelphia</td>\n",
       "      <td>Queen_Village</td>\n",
       "      <td>HOME_&amp;_GARDEN_2</td>\n",
       "    </tr>\n",
       "    <tr>\n",
       "      <th>67</th>\n",
       "      <td>PHI_3</td>\n",
       "      <td>Philadelphia</td>\n",
       "      <td>Queen_Village</td>\n",
       "      <td>SUPERMARKET_1</td>\n",
       "    </tr>\n",
       "    <tr>\n",
       "      <th>68</th>\n",
       "      <td>PHI_3</td>\n",
       "      <td>Philadelphia</td>\n",
       "      <td>Queen_Village</td>\n",
       "      <td>SUPERMARKET_2</td>\n",
       "    </tr>\n",
       "    <tr>\n",
       "      <th>69</th>\n",
       "      <td>PHI_3</td>\n",
       "      <td>Philadelphia</td>\n",
       "      <td>Queen_Village</td>\n",
       "      <td>SUPERMARKET_3</td>\n",
       "    </tr>\n",
       "  </tbody>\n",
       "</table>\n",
       "<p>70 rows × 4 columns</p>\n",
       "</div>"
      ],
      "text/plain": [
       "   store_code        region          store       department\n",
       "0       BOS_1        Boston      South_End     ACCESORIES_1\n",
       "1       BOS_1        Boston      South_End     ACCESORIES_2\n",
       "2       BOS_1        Boston      South_End  HOME_&_GARDEN_1\n",
       "3       BOS_1        Boston      South_End  HOME_&_GARDEN_2\n",
       "4       BOS_1        Boston      South_End    SUPERMARKET_1\n",
       "..        ...           ...            ...              ...\n",
       "65      PHI_3  Philadelphia  Queen_Village  HOME_&_GARDEN_1\n",
       "66      PHI_3  Philadelphia  Queen_Village  HOME_&_GARDEN_2\n",
       "67      PHI_3  Philadelphia  Queen_Village    SUPERMARKET_1\n",
       "68      PHI_3  Philadelphia  Queen_Village    SUPERMARKET_2\n",
       "69      PHI_3  Philadelphia  Queen_Village    SUPERMARKET_3\n",
       "\n",
       "[70 rows x 4 columns]"
      ]
     },
     "execution_count": 201,
     "metadata": {},
     "output_type": "execute_result"
    }
   ],
   "source": [
    "dep=ventas.groupby([\"store_code\",\"region\",\"store\",\"department\"]).agg({\"id\":\"count\"})\n",
    "dep=dep.reset_index()\n",
    "del(dep[\"id\"])\n",
    "dep"
   ]
  },
  {
   "cell_type": "code",
   "execution_count": 202,
   "metadata": {},
   "outputs": [],
   "source": [
    "from pathlib import Path  \n",
    "filepath = Path(\"data/depto.csv\")  \n",
    "filepath.parent.mkdir(parents=True, exist_ok=True)  \n",
    "dep.to_csv(filepath,index=False) "
   ]
  },
  {
   "cell_type": "code",
   "execution_count": 204,
   "metadata": {},
   "outputs": [
    {
     "data": {
      "text/html": [
       "<div>\n",
       "<style scoped>\n",
       "    .dataframe tbody tr th:only-of-type {\n",
       "        vertical-align: middle;\n",
       "    }\n",
       "\n",
       "    .dataframe tbody tr th {\n",
       "        vertical-align: top;\n",
       "    }\n",
       "\n",
       "    .dataframe thead th {\n",
       "        text-align: right;\n",
       "    }\n",
       "</style>\n",
       "<table border=\"1\" class=\"dataframe\">\n",
       "  <thead>\n",
       "    <tr style=\"text-align: right;\">\n",
       "      <th></th>\n",
       "      <th>category</th>\n",
       "      <th>item</th>\n",
       "    </tr>\n",
       "  </thead>\n",
       "  <tbody>\n",
       "    <tr>\n",
       "      <th>0</th>\n",
       "      <td>ACCESORIES</td>\n",
       "      <td>ACCESORIES_1_001</td>\n",
       "    </tr>\n",
       "    <tr>\n",
       "      <th>1</th>\n",
       "      <td>ACCESORIES</td>\n",
       "      <td>ACCESORIES_1_002</td>\n",
       "    </tr>\n",
       "    <tr>\n",
       "      <th>2</th>\n",
       "      <td>ACCESORIES</td>\n",
       "      <td>ACCESORIES_1_003</td>\n",
       "    </tr>\n",
       "    <tr>\n",
       "      <th>3</th>\n",
       "      <td>ACCESORIES</td>\n",
       "      <td>ACCESORIES_1_004</td>\n",
       "    </tr>\n",
       "    <tr>\n",
       "      <th>4</th>\n",
       "      <td>ACCESORIES</td>\n",
       "      <td>ACCESORIES_1_005</td>\n",
       "    </tr>\n",
       "    <tr>\n",
       "      <th>...</th>\n",
       "      <td>...</td>\n",
       "      <td>...</td>\n",
       "    </tr>\n",
       "    <tr>\n",
       "      <th>3044</th>\n",
       "      <td>SUPERMARKET</td>\n",
       "      <td>SUPERMARKET_3_823</td>\n",
       "    </tr>\n",
       "    <tr>\n",
       "      <th>3045</th>\n",
       "      <td>SUPERMARKET</td>\n",
       "      <td>SUPERMARKET_3_824</td>\n",
       "    </tr>\n",
       "    <tr>\n",
       "      <th>3046</th>\n",
       "      <td>SUPERMARKET</td>\n",
       "      <td>SUPERMARKET_3_825</td>\n",
       "    </tr>\n",
       "    <tr>\n",
       "      <th>3047</th>\n",
       "      <td>SUPERMARKET</td>\n",
       "      <td>SUPERMARKET_3_826</td>\n",
       "    </tr>\n",
       "    <tr>\n",
       "      <th>3048</th>\n",
       "      <td>SUPERMARKET</td>\n",
       "      <td>SUPERMARKET_3_827</td>\n",
       "    </tr>\n",
       "  </tbody>\n",
       "</table>\n",
       "<p>3049 rows × 2 columns</p>\n",
       "</div>"
      ],
      "text/plain": [
       "         category               item\n",
       "0      ACCESORIES   ACCESORIES_1_001\n",
       "1      ACCESORIES   ACCESORIES_1_002\n",
       "2      ACCESORIES   ACCESORIES_1_003\n",
       "3      ACCESORIES   ACCESORIES_1_004\n",
       "4      ACCESORIES   ACCESORIES_1_005\n",
       "...           ...                ...\n",
       "3044  SUPERMARKET  SUPERMARKET_3_823\n",
       "3045  SUPERMARKET  SUPERMARKET_3_824\n",
       "3046  SUPERMARKET  SUPERMARKET_3_825\n",
       "3047  SUPERMARKET  SUPERMARKET_3_826\n",
       "3048  SUPERMARKET  SUPERMARKET_3_827\n",
       "\n",
       "[3049 rows x 2 columns]"
      ]
     },
     "execution_count": 204,
     "metadata": {},
     "output_type": "execute_result"
    }
   ],
   "source": [
    "prod=ventas.groupby([\"category\",\"item\"]).agg({\"id\":\"count\"})\n",
    "prod=prod.reset_index()\n",
    "del(prod[\"id\"])\n",
    "prod"
   ]
  },
  {
   "cell_type": "code",
   "execution_count": null,
   "metadata": {},
   "outputs": [],
   "source": [
    "from pathlib import Path  \n",
    "filepath = Path(\"data/productos.csv\")  \n",
    "filepath.parent.mkdir(parents=True, exist_ok=True)  \n",
    "prod.to_csv(filepath,index=False) "
   ]
  }
 ],
 "metadata": {
  "kernelspec": {
   "display_name": "Python 3",
   "language": "python",
   "name": "python3"
  },
  "language_info": {
   "codemirror_mode": {
    "name": "ipython",
    "version": 3
   },
   "file_extension": ".py",
   "mimetype": "text/x-python",
   "name": "python",
   "nbconvert_exporter": "python",
   "pygments_lexer": "ipython3",
   "version": "3.12.1"
  }
 },
 "nbformat": 4,
 "nbformat_minor": 2
}
